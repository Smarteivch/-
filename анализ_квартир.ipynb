{
 "cells": [
  {
   "cell_type": "markdown",
   "metadata": {
    "id": "-VFbjcb3Awb7"
   },
   "source": [
    "# Исследование объявлений о продаже квартир\n",
    "\n",
    "В вашем распоряжении данные сервиса Яндекс Недвижимость — архив объявлений о продаже квартир в Санкт-Петербурге и соседних населённых пунктах за несколько лет. Вам нужно научиться определять рыночную стоимость объектов недвижимости. Для этого проведите исследовательский анализ данных и установите параметры, влияющие на цену объектов. Это позволит построить автоматизированную систему: она отследит аномалии и мошенническую деятельность.\n",
    "\n",
    "По каждой квартире на продажу доступны два вида данных. Первые вписаны пользователем, вторые — получены автоматически на основе картографических данных. Например, расстояние до центра, аэропорта и других объектов — эти данные автоматически получены из геосервисов. Количество парков и водоёмов также заполняется без участия пользователя."
   ]
  },
  {
   "cell_type": "markdown",
   "metadata": {},
   "source": [
    "## Цель проекта: найти взаимосвязь стоимости квартир от различных параметров и найти важные инсайты, которые позволят построить автоматизированную систему аномалий и мошеннической деятельности."
   ]
  },
  {
   "cell_type": "markdown",
   "metadata": {
    "id": "aeFLH07FAwb9"
   },
   "source": [
    "## Откроем файл с данными и изучим общую информацию."
   ]
  },
  {
   "cell_type": "code",
   "execution_count": 1,
   "metadata": {
    "id": "7MZxY65pAwb9"
   },
   "outputs": [],
   "source": [
    "import pandas as pd\n",
    "import matplotlib.pyplot as plt"
   ]
  },
  {
   "cell_type": "code",
   "execution_count": 2,
   "metadata": {},
   "outputs": [],
   "source": [
    "try:\n",
    "    data = pd.read_csv('/datasets/real_estate_data.csv', sep='\\t')\n",
    "except:\n",
    "    data = pd.read_csv('C:/Users/user/Desktop/юпитер/исследование квартир/real_estate_data.csv', sep='\\t')"
   ]
  },
  {
   "cell_type": "code",
   "execution_count": 3,
   "metadata": {},
   "outputs": [
    {
     "data": {
      "text/html": [
       "<div>\n",
       "<style scoped>\n",
       "    .dataframe tbody tr th:only-of-type {\n",
       "        vertical-align: middle;\n",
       "    }\n",
       "\n",
       "    .dataframe tbody tr th {\n",
       "        vertical-align: top;\n",
       "    }\n",
       "\n",
       "    .dataframe thead th {\n",
       "        text-align: right;\n",
       "    }\n",
       "</style>\n",
       "<table border=\"1\" class=\"dataframe\">\n",
       "  <thead>\n",
       "    <tr style=\"text-align: right;\">\n",
       "      <th></th>\n",
       "      <th>total_images</th>\n",
       "      <th>last_price</th>\n",
       "      <th>total_area</th>\n",
       "      <th>first_day_exposition</th>\n",
       "      <th>rooms</th>\n",
       "      <th>ceiling_height</th>\n",
       "      <th>floors_total</th>\n",
       "      <th>living_area</th>\n",
       "      <th>floor</th>\n",
       "      <th>is_apartment</th>\n",
       "      <th>...</th>\n",
       "      <th>kitchen_area</th>\n",
       "      <th>balcony</th>\n",
       "      <th>locality_name</th>\n",
       "      <th>airports_nearest</th>\n",
       "      <th>cityCenters_nearest</th>\n",
       "      <th>parks_around3000</th>\n",
       "      <th>parks_nearest</th>\n",
       "      <th>ponds_around3000</th>\n",
       "      <th>ponds_nearest</th>\n",
       "      <th>days_exposition</th>\n",
       "    </tr>\n",
       "  </thead>\n",
       "  <tbody>\n",
       "    <tr>\n",
       "      <th>0</th>\n",
       "      <td>20</td>\n",
       "      <td>13000000.0</td>\n",
       "      <td>108.00</td>\n",
       "      <td>2019-03-07T00:00:00</td>\n",
       "      <td>3</td>\n",
       "      <td>2.70</td>\n",
       "      <td>16.0</td>\n",
       "      <td>51.00</td>\n",
       "      <td>8</td>\n",
       "      <td>NaN</td>\n",
       "      <td>...</td>\n",
       "      <td>25.00</td>\n",
       "      <td>NaN</td>\n",
       "      <td>Санкт-Петербург</td>\n",
       "      <td>18863.0</td>\n",
       "      <td>16028.0</td>\n",
       "      <td>1.0</td>\n",
       "      <td>482.0</td>\n",
       "      <td>2.0</td>\n",
       "      <td>755.0</td>\n",
       "      <td>NaN</td>\n",
       "    </tr>\n",
       "    <tr>\n",
       "      <th>1</th>\n",
       "      <td>7</td>\n",
       "      <td>3350000.0</td>\n",
       "      <td>40.40</td>\n",
       "      <td>2018-12-04T00:00:00</td>\n",
       "      <td>1</td>\n",
       "      <td>NaN</td>\n",
       "      <td>11.0</td>\n",
       "      <td>18.60</td>\n",
       "      <td>1</td>\n",
       "      <td>NaN</td>\n",
       "      <td>...</td>\n",
       "      <td>11.00</td>\n",
       "      <td>2.0</td>\n",
       "      <td>посёлок Шушары</td>\n",
       "      <td>12817.0</td>\n",
       "      <td>18603.0</td>\n",
       "      <td>0.0</td>\n",
       "      <td>NaN</td>\n",
       "      <td>0.0</td>\n",
       "      <td>NaN</td>\n",
       "      <td>81.0</td>\n",
       "    </tr>\n",
       "    <tr>\n",
       "      <th>2</th>\n",
       "      <td>10</td>\n",
       "      <td>5196000.0</td>\n",
       "      <td>56.00</td>\n",
       "      <td>2015-08-20T00:00:00</td>\n",
       "      <td>2</td>\n",
       "      <td>NaN</td>\n",
       "      <td>5.0</td>\n",
       "      <td>34.30</td>\n",
       "      <td>4</td>\n",
       "      <td>NaN</td>\n",
       "      <td>...</td>\n",
       "      <td>8.30</td>\n",
       "      <td>0.0</td>\n",
       "      <td>Санкт-Петербург</td>\n",
       "      <td>21741.0</td>\n",
       "      <td>13933.0</td>\n",
       "      <td>1.0</td>\n",
       "      <td>90.0</td>\n",
       "      <td>2.0</td>\n",
       "      <td>574.0</td>\n",
       "      <td>558.0</td>\n",
       "    </tr>\n",
       "    <tr>\n",
       "      <th>3</th>\n",
       "      <td>0</td>\n",
       "      <td>64900000.0</td>\n",
       "      <td>159.00</td>\n",
       "      <td>2015-07-24T00:00:00</td>\n",
       "      <td>3</td>\n",
       "      <td>NaN</td>\n",
       "      <td>14.0</td>\n",
       "      <td>NaN</td>\n",
       "      <td>9</td>\n",
       "      <td>NaN</td>\n",
       "      <td>...</td>\n",
       "      <td>NaN</td>\n",
       "      <td>0.0</td>\n",
       "      <td>Санкт-Петербург</td>\n",
       "      <td>28098.0</td>\n",
       "      <td>6800.0</td>\n",
       "      <td>2.0</td>\n",
       "      <td>84.0</td>\n",
       "      <td>3.0</td>\n",
       "      <td>234.0</td>\n",
       "      <td>424.0</td>\n",
       "    </tr>\n",
       "    <tr>\n",
       "      <th>4</th>\n",
       "      <td>2</td>\n",
       "      <td>10000000.0</td>\n",
       "      <td>100.00</td>\n",
       "      <td>2018-06-19T00:00:00</td>\n",
       "      <td>2</td>\n",
       "      <td>3.03</td>\n",
       "      <td>14.0</td>\n",
       "      <td>32.00</td>\n",
       "      <td>13</td>\n",
       "      <td>NaN</td>\n",
       "      <td>...</td>\n",
       "      <td>41.00</td>\n",
       "      <td>NaN</td>\n",
       "      <td>Санкт-Петербург</td>\n",
       "      <td>31856.0</td>\n",
       "      <td>8098.0</td>\n",
       "      <td>2.0</td>\n",
       "      <td>112.0</td>\n",
       "      <td>1.0</td>\n",
       "      <td>48.0</td>\n",
       "      <td>121.0</td>\n",
       "    </tr>\n",
       "    <tr>\n",
       "      <th>5</th>\n",
       "      <td>10</td>\n",
       "      <td>2890000.0</td>\n",
       "      <td>30.40</td>\n",
       "      <td>2018-09-10T00:00:00</td>\n",
       "      <td>1</td>\n",
       "      <td>NaN</td>\n",
       "      <td>12.0</td>\n",
       "      <td>14.40</td>\n",
       "      <td>5</td>\n",
       "      <td>NaN</td>\n",
       "      <td>...</td>\n",
       "      <td>9.10</td>\n",
       "      <td>NaN</td>\n",
       "      <td>городской посёлок Янино-1</td>\n",
       "      <td>NaN</td>\n",
       "      <td>NaN</td>\n",
       "      <td>NaN</td>\n",
       "      <td>NaN</td>\n",
       "      <td>NaN</td>\n",
       "      <td>NaN</td>\n",
       "      <td>55.0</td>\n",
       "    </tr>\n",
       "    <tr>\n",
       "      <th>6</th>\n",
       "      <td>6</td>\n",
       "      <td>3700000.0</td>\n",
       "      <td>37.30</td>\n",
       "      <td>2017-11-02T00:00:00</td>\n",
       "      <td>1</td>\n",
       "      <td>NaN</td>\n",
       "      <td>26.0</td>\n",
       "      <td>10.60</td>\n",
       "      <td>6</td>\n",
       "      <td>NaN</td>\n",
       "      <td>...</td>\n",
       "      <td>14.40</td>\n",
       "      <td>1.0</td>\n",
       "      <td>посёлок Парголово</td>\n",
       "      <td>52996.0</td>\n",
       "      <td>19143.0</td>\n",
       "      <td>0.0</td>\n",
       "      <td>NaN</td>\n",
       "      <td>0.0</td>\n",
       "      <td>NaN</td>\n",
       "      <td>155.0</td>\n",
       "    </tr>\n",
       "    <tr>\n",
       "      <th>7</th>\n",
       "      <td>5</td>\n",
       "      <td>7915000.0</td>\n",
       "      <td>71.60</td>\n",
       "      <td>2019-04-18T00:00:00</td>\n",
       "      <td>2</td>\n",
       "      <td>NaN</td>\n",
       "      <td>24.0</td>\n",
       "      <td>NaN</td>\n",
       "      <td>22</td>\n",
       "      <td>NaN</td>\n",
       "      <td>...</td>\n",
       "      <td>18.90</td>\n",
       "      <td>2.0</td>\n",
       "      <td>Санкт-Петербург</td>\n",
       "      <td>23982.0</td>\n",
       "      <td>11634.0</td>\n",
       "      <td>0.0</td>\n",
       "      <td>NaN</td>\n",
       "      <td>0.0</td>\n",
       "      <td>NaN</td>\n",
       "      <td>NaN</td>\n",
       "    </tr>\n",
       "    <tr>\n",
       "      <th>8</th>\n",
       "      <td>20</td>\n",
       "      <td>2900000.0</td>\n",
       "      <td>33.16</td>\n",
       "      <td>2018-05-23T00:00:00</td>\n",
       "      <td>1</td>\n",
       "      <td>NaN</td>\n",
       "      <td>27.0</td>\n",
       "      <td>15.43</td>\n",
       "      <td>26</td>\n",
       "      <td>NaN</td>\n",
       "      <td>...</td>\n",
       "      <td>8.81</td>\n",
       "      <td>NaN</td>\n",
       "      <td>посёлок Мурино</td>\n",
       "      <td>NaN</td>\n",
       "      <td>NaN</td>\n",
       "      <td>NaN</td>\n",
       "      <td>NaN</td>\n",
       "      <td>NaN</td>\n",
       "      <td>NaN</td>\n",
       "      <td>189.0</td>\n",
       "    </tr>\n",
       "    <tr>\n",
       "      <th>9</th>\n",
       "      <td>18</td>\n",
       "      <td>5400000.0</td>\n",
       "      <td>61.00</td>\n",
       "      <td>2017-02-26T00:00:00</td>\n",
       "      <td>3</td>\n",
       "      <td>2.50</td>\n",
       "      <td>9.0</td>\n",
       "      <td>43.60</td>\n",
       "      <td>7</td>\n",
       "      <td>NaN</td>\n",
       "      <td>...</td>\n",
       "      <td>6.50</td>\n",
       "      <td>2.0</td>\n",
       "      <td>Санкт-Петербург</td>\n",
       "      <td>50898.0</td>\n",
       "      <td>15008.0</td>\n",
       "      <td>0.0</td>\n",
       "      <td>NaN</td>\n",
       "      <td>0.0</td>\n",
       "      <td>NaN</td>\n",
       "      <td>289.0</td>\n",
       "    </tr>\n",
       "    <tr>\n",
       "      <th>10</th>\n",
       "      <td>5</td>\n",
       "      <td>5050000.0</td>\n",
       "      <td>39.60</td>\n",
       "      <td>2017-11-16T00:00:00</td>\n",
       "      <td>1</td>\n",
       "      <td>2.67</td>\n",
       "      <td>12.0</td>\n",
       "      <td>20.30</td>\n",
       "      <td>3</td>\n",
       "      <td>NaN</td>\n",
       "      <td>...</td>\n",
       "      <td>8.50</td>\n",
       "      <td>NaN</td>\n",
       "      <td>Санкт-Петербург</td>\n",
       "      <td>38357.0</td>\n",
       "      <td>13878.0</td>\n",
       "      <td>1.0</td>\n",
       "      <td>310.0</td>\n",
       "      <td>2.0</td>\n",
       "      <td>553.0</td>\n",
       "      <td>137.0</td>\n",
       "    </tr>\n",
       "    <tr>\n",
       "      <th>11</th>\n",
       "      <td>9</td>\n",
       "      <td>3300000.0</td>\n",
       "      <td>44.00</td>\n",
       "      <td>2018-08-27T00:00:00</td>\n",
       "      <td>2</td>\n",
       "      <td>NaN</td>\n",
       "      <td>5.0</td>\n",
       "      <td>31.00</td>\n",
       "      <td>4</td>\n",
       "      <td>False</td>\n",
       "      <td>...</td>\n",
       "      <td>6.00</td>\n",
       "      <td>1.0</td>\n",
       "      <td>Ломоносов</td>\n",
       "      <td>48252.0</td>\n",
       "      <td>51677.0</td>\n",
       "      <td>0.0</td>\n",
       "      <td>NaN</td>\n",
       "      <td>0.0</td>\n",
       "      <td>NaN</td>\n",
       "      <td>7.0</td>\n",
       "    </tr>\n",
       "    <tr>\n",
       "      <th>12</th>\n",
       "      <td>10</td>\n",
       "      <td>3890000.0</td>\n",
       "      <td>54.00</td>\n",
       "      <td>2016-06-30T00:00:00</td>\n",
       "      <td>2</td>\n",
       "      <td>NaN</td>\n",
       "      <td>5.0</td>\n",
       "      <td>30.00</td>\n",
       "      <td>5</td>\n",
       "      <td>NaN</td>\n",
       "      <td>...</td>\n",
       "      <td>9.00</td>\n",
       "      <td>0.0</td>\n",
       "      <td>Сертолово</td>\n",
       "      <td>NaN</td>\n",
       "      <td>NaN</td>\n",
       "      <td>NaN</td>\n",
       "      <td>NaN</td>\n",
       "      <td>NaN</td>\n",
       "      <td>NaN</td>\n",
       "      <td>90.0</td>\n",
       "    </tr>\n",
       "    <tr>\n",
       "      <th>13</th>\n",
       "      <td>20</td>\n",
       "      <td>3550000.0</td>\n",
       "      <td>42.80</td>\n",
       "      <td>2017-07-01T00:00:00</td>\n",
       "      <td>2</td>\n",
       "      <td>2.56</td>\n",
       "      <td>5.0</td>\n",
       "      <td>27.00</td>\n",
       "      <td>5</td>\n",
       "      <td>NaN</td>\n",
       "      <td>...</td>\n",
       "      <td>5.20</td>\n",
       "      <td>1.0</td>\n",
       "      <td>Петергоф</td>\n",
       "      <td>37868.0</td>\n",
       "      <td>33058.0</td>\n",
       "      <td>1.0</td>\n",
       "      <td>294.0</td>\n",
       "      <td>3.0</td>\n",
       "      <td>298.0</td>\n",
       "      <td>366.0</td>\n",
       "    </tr>\n",
       "    <tr>\n",
       "      <th>14</th>\n",
       "      <td>1</td>\n",
       "      <td>4400000.0</td>\n",
       "      <td>36.00</td>\n",
       "      <td>2016-06-23T00:00:00</td>\n",
       "      <td>1</td>\n",
       "      <td>NaN</td>\n",
       "      <td>6.0</td>\n",
       "      <td>17.00</td>\n",
       "      <td>1</td>\n",
       "      <td>NaN</td>\n",
       "      <td>...</td>\n",
       "      <td>8.00</td>\n",
       "      <td>0.0</td>\n",
       "      <td>Пушкин</td>\n",
       "      <td>20782.0</td>\n",
       "      <td>30759.0</td>\n",
       "      <td>0.0</td>\n",
       "      <td>NaN</td>\n",
       "      <td>1.0</td>\n",
       "      <td>96.0</td>\n",
       "      <td>203.0</td>\n",
       "    </tr>\n",
       "    <tr>\n",
       "      <th>15</th>\n",
       "      <td>16</td>\n",
       "      <td>4650000.0</td>\n",
       "      <td>39.00</td>\n",
       "      <td>2017-11-18T00:00:00</td>\n",
       "      <td>1</td>\n",
       "      <td>NaN</td>\n",
       "      <td>14.0</td>\n",
       "      <td>20.50</td>\n",
       "      <td>5</td>\n",
       "      <td>NaN</td>\n",
       "      <td>...</td>\n",
       "      <td>7.60</td>\n",
       "      <td>1.0</td>\n",
       "      <td>Санкт-Петербург</td>\n",
       "      <td>12900.0</td>\n",
       "      <td>14259.0</td>\n",
       "      <td>1.0</td>\n",
       "      <td>590.0</td>\n",
       "      <td>1.0</td>\n",
       "      <td>296.0</td>\n",
       "      <td>19.0</td>\n",
       "    </tr>\n",
       "    <tr>\n",
       "      <th>16</th>\n",
       "      <td>11</td>\n",
       "      <td>6700000.0</td>\n",
       "      <td>82.00</td>\n",
       "      <td>2017-11-23T00:00:00</td>\n",
       "      <td>3</td>\n",
       "      <td>3.05</td>\n",
       "      <td>5.0</td>\n",
       "      <td>55.60</td>\n",
       "      <td>1</td>\n",
       "      <td>NaN</td>\n",
       "      <td>...</td>\n",
       "      <td>9.00</td>\n",
       "      <td>NaN</td>\n",
       "      <td>Санкт-Петербург</td>\n",
       "      <td>22108.0</td>\n",
       "      <td>10698.0</td>\n",
       "      <td>3.0</td>\n",
       "      <td>420.0</td>\n",
       "      <td>0.0</td>\n",
       "      <td>NaN</td>\n",
       "      <td>397.0</td>\n",
       "    </tr>\n",
       "    <tr>\n",
       "      <th>17</th>\n",
       "      <td>6</td>\n",
       "      <td>4180000.0</td>\n",
       "      <td>36.00</td>\n",
       "      <td>2016-09-09T00:00:00</td>\n",
       "      <td>1</td>\n",
       "      <td>NaN</td>\n",
       "      <td>17.0</td>\n",
       "      <td>16.50</td>\n",
       "      <td>7</td>\n",
       "      <td>NaN</td>\n",
       "      <td>...</td>\n",
       "      <td>11.00</td>\n",
       "      <td>1.0</td>\n",
       "      <td>Санкт-Петербург</td>\n",
       "      <td>33564.0</td>\n",
       "      <td>14616.0</td>\n",
       "      <td>0.0</td>\n",
       "      <td>NaN</td>\n",
       "      <td>1.0</td>\n",
       "      <td>859.0</td>\n",
       "      <td>571.0</td>\n",
       "    </tr>\n",
       "    <tr>\n",
       "      <th>18</th>\n",
       "      <td>8</td>\n",
       "      <td>3250000.0</td>\n",
       "      <td>31.00</td>\n",
       "      <td>2017-01-27T00:00:00</td>\n",
       "      <td>1</td>\n",
       "      <td>2.50</td>\n",
       "      <td>5.0</td>\n",
       "      <td>19.40</td>\n",
       "      <td>2</td>\n",
       "      <td>NaN</td>\n",
       "      <td>...</td>\n",
       "      <td>5.60</td>\n",
       "      <td>1.0</td>\n",
       "      <td>Санкт-Петербург</td>\n",
       "      <td>44060.0</td>\n",
       "      <td>10842.0</td>\n",
       "      <td>1.0</td>\n",
       "      <td>759.0</td>\n",
       "      <td>0.0</td>\n",
       "      <td>NaN</td>\n",
       "      <td>168.0</td>\n",
       "    </tr>\n",
       "    <tr>\n",
       "      <th>19</th>\n",
       "      <td>16</td>\n",
       "      <td>14200000.0</td>\n",
       "      <td>121.00</td>\n",
       "      <td>2019-01-09T00:00:00</td>\n",
       "      <td>3</td>\n",
       "      <td>2.75</td>\n",
       "      <td>16.0</td>\n",
       "      <td>76.00</td>\n",
       "      <td>8</td>\n",
       "      <td>NaN</td>\n",
       "      <td>...</td>\n",
       "      <td>12.00</td>\n",
       "      <td>NaN</td>\n",
       "      <td>Санкт-Петербург</td>\n",
       "      <td>38900.0</td>\n",
       "      <td>12843.0</td>\n",
       "      <td>0.0</td>\n",
       "      <td>NaN</td>\n",
       "      <td>0.0</td>\n",
       "      <td>NaN</td>\n",
       "      <td>97.0</td>\n",
       "    </tr>\n",
       "  </tbody>\n",
       "</table>\n",
       "<p>20 rows × 22 columns</p>\n",
       "</div>"
      ],
      "text/plain": [
       "    total_images  last_price  total_area first_day_exposition  rooms  \\\n",
       "0             20  13000000.0      108.00  2019-03-07T00:00:00      3   \n",
       "1              7   3350000.0       40.40  2018-12-04T00:00:00      1   \n",
       "2             10   5196000.0       56.00  2015-08-20T00:00:00      2   \n",
       "3              0  64900000.0      159.00  2015-07-24T00:00:00      3   \n",
       "4              2  10000000.0      100.00  2018-06-19T00:00:00      2   \n",
       "5             10   2890000.0       30.40  2018-09-10T00:00:00      1   \n",
       "6              6   3700000.0       37.30  2017-11-02T00:00:00      1   \n",
       "7              5   7915000.0       71.60  2019-04-18T00:00:00      2   \n",
       "8             20   2900000.0       33.16  2018-05-23T00:00:00      1   \n",
       "9             18   5400000.0       61.00  2017-02-26T00:00:00      3   \n",
       "10             5   5050000.0       39.60  2017-11-16T00:00:00      1   \n",
       "11             9   3300000.0       44.00  2018-08-27T00:00:00      2   \n",
       "12            10   3890000.0       54.00  2016-06-30T00:00:00      2   \n",
       "13            20   3550000.0       42.80  2017-07-01T00:00:00      2   \n",
       "14             1   4400000.0       36.00  2016-06-23T00:00:00      1   \n",
       "15            16   4650000.0       39.00  2017-11-18T00:00:00      1   \n",
       "16            11   6700000.0       82.00  2017-11-23T00:00:00      3   \n",
       "17             6   4180000.0       36.00  2016-09-09T00:00:00      1   \n",
       "18             8   3250000.0       31.00  2017-01-27T00:00:00      1   \n",
       "19            16  14200000.0      121.00  2019-01-09T00:00:00      3   \n",
       "\n",
       "    ceiling_height  floors_total  living_area  floor is_apartment  ...  \\\n",
       "0             2.70          16.0        51.00      8          NaN  ...   \n",
       "1              NaN          11.0        18.60      1          NaN  ...   \n",
       "2              NaN           5.0        34.30      4          NaN  ...   \n",
       "3              NaN          14.0          NaN      9          NaN  ...   \n",
       "4             3.03          14.0        32.00     13          NaN  ...   \n",
       "5              NaN          12.0        14.40      5          NaN  ...   \n",
       "6              NaN          26.0        10.60      6          NaN  ...   \n",
       "7              NaN          24.0          NaN     22          NaN  ...   \n",
       "8              NaN          27.0        15.43     26          NaN  ...   \n",
       "9             2.50           9.0        43.60      7          NaN  ...   \n",
       "10            2.67          12.0        20.30      3          NaN  ...   \n",
       "11             NaN           5.0        31.00      4        False  ...   \n",
       "12             NaN           5.0        30.00      5          NaN  ...   \n",
       "13            2.56           5.0        27.00      5          NaN  ...   \n",
       "14             NaN           6.0        17.00      1          NaN  ...   \n",
       "15             NaN          14.0        20.50      5          NaN  ...   \n",
       "16            3.05           5.0        55.60      1          NaN  ...   \n",
       "17             NaN          17.0        16.50      7          NaN  ...   \n",
       "18            2.50           5.0        19.40      2          NaN  ...   \n",
       "19            2.75          16.0        76.00      8          NaN  ...   \n",
       "\n",
       "    kitchen_area  balcony              locality_name  airports_nearest  \\\n",
       "0          25.00      NaN            Санкт-Петербург           18863.0   \n",
       "1          11.00      2.0             посёлок Шушары           12817.0   \n",
       "2           8.30      0.0            Санкт-Петербург           21741.0   \n",
       "3            NaN      0.0            Санкт-Петербург           28098.0   \n",
       "4          41.00      NaN            Санкт-Петербург           31856.0   \n",
       "5           9.10      NaN  городской посёлок Янино-1               NaN   \n",
       "6          14.40      1.0          посёлок Парголово           52996.0   \n",
       "7          18.90      2.0            Санкт-Петербург           23982.0   \n",
       "8           8.81      NaN             посёлок Мурино               NaN   \n",
       "9           6.50      2.0            Санкт-Петербург           50898.0   \n",
       "10          8.50      NaN            Санкт-Петербург           38357.0   \n",
       "11          6.00      1.0                  Ломоносов           48252.0   \n",
       "12          9.00      0.0                  Сертолово               NaN   \n",
       "13          5.20      1.0                   Петергоф           37868.0   \n",
       "14          8.00      0.0                     Пушкин           20782.0   \n",
       "15          7.60      1.0            Санкт-Петербург           12900.0   \n",
       "16          9.00      NaN            Санкт-Петербург           22108.0   \n",
       "17         11.00      1.0            Санкт-Петербург           33564.0   \n",
       "18          5.60      1.0            Санкт-Петербург           44060.0   \n",
       "19         12.00      NaN            Санкт-Петербург           38900.0   \n",
       "\n",
       "   cityCenters_nearest  parks_around3000  parks_nearest  ponds_around3000  \\\n",
       "0              16028.0               1.0          482.0               2.0   \n",
       "1              18603.0               0.0            NaN               0.0   \n",
       "2              13933.0               1.0           90.0               2.0   \n",
       "3               6800.0               2.0           84.0               3.0   \n",
       "4               8098.0               2.0          112.0               1.0   \n",
       "5                  NaN               NaN            NaN               NaN   \n",
       "6              19143.0               0.0            NaN               0.0   \n",
       "7              11634.0               0.0            NaN               0.0   \n",
       "8                  NaN               NaN            NaN               NaN   \n",
       "9              15008.0               0.0            NaN               0.0   \n",
       "10             13878.0               1.0          310.0               2.0   \n",
       "11             51677.0               0.0            NaN               0.0   \n",
       "12                 NaN               NaN            NaN               NaN   \n",
       "13             33058.0               1.0          294.0               3.0   \n",
       "14             30759.0               0.0            NaN               1.0   \n",
       "15             14259.0               1.0          590.0               1.0   \n",
       "16             10698.0               3.0          420.0               0.0   \n",
       "17             14616.0               0.0            NaN               1.0   \n",
       "18             10842.0               1.0          759.0               0.0   \n",
       "19             12843.0               0.0            NaN               0.0   \n",
       "\n",
       "    ponds_nearest  days_exposition  \n",
       "0           755.0              NaN  \n",
       "1             NaN             81.0  \n",
       "2           574.0            558.0  \n",
       "3           234.0            424.0  \n",
       "4            48.0            121.0  \n",
       "5             NaN             55.0  \n",
       "6             NaN            155.0  \n",
       "7             NaN              NaN  \n",
       "8             NaN            189.0  \n",
       "9             NaN            289.0  \n",
       "10          553.0            137.0  \n",
       "11            NaN              7.0  \n",
       "12            NaN             90.0  \n",
       "13          298.0            366.0  \n",
       "14           96.0            203.0  \n",
       "15          296.0             19.0  \n",
       "16            NaN            397.0  \n",
       "17          859.0            571.0  \n",
       "18            NaN            168.0  \n",
       "19            NaN             97.0  \n",
       "\n",
       "[20 rows x 22 columns]"
      ]
     },
     "execution_count": 3,
     "metadata": {},
     "output_type": "execute_result"
    }
   ],
   "source": [
    "data.head(20)"
   ]
  },
  {
   "cell_type": "markdown",
   "metadata": {},
   "source": [
    "В данных много пропусков, в шагах ниже необходимо изучить их появление и обработать их."
   ]
  },
  {
   "cell_type": "code",
   "execution_count": 4,
   "metadata": {},
   "outputs": [
    {
     "data": {
      "image/png": "[encoded data removed]",
      "text/plain": [
       "<Figure size 1500x2000 with 20 Axes>"
      ]
     },
     "metadata": {},
     "output_type": "display_data"
    }
   ],
   "source": [
    "data.hist(figsize=(15, 20))\n",
    "plt.show()"
   ]
  },
  {
   "cell_type": "markdown",
   "metadata": {},
   "source": [
    "Взглянув на графики мы можем сделать первое оценочное мнение:\n",
    "- total images - в среднем на одно объявление приходится около 10-15 фотографий;\n",
    "- last price - данные кажутся некорректными, посмотри на них детальнее в шагах ниже;\n",
    "- total area - в среднем площадь недвижимости от 0 до 100м^2, как площадь может быть 0? Детальнее рассмотрим данные в шагах ниже;\n",
    "- rooms - типичная недвижимость состоит от 0 до 5 комнат;\t\n",
    "- ceiling_height - высота потолка от 1 до 10 метров кажутся странными. Возможно в данных есть ошибки;\n",
    "- floors_total - в среднем в доме, где продаётся недвижимость, около 10 этажей, встречаются также высокоэтажные дома;\n",
    "- living_area - площадь недвижимости от 0 до 70м^2, странный 0-5 снова здесь. Детальнее рассмотрим данные в шагах ниже;\n",
    "- floor\t- чаще всего квартира располагается на высоте от 2 до 10 этажей;\n",
    "- kitchen_area - площадь кухни снова насторажает! Ошибка точно есть на площадях в этой таблице;\n",
    "- balcony - количество балконов от 0 до 2 практически равномерно распределены. Интересно, у всех балконы забиты вещами?))\t\n",
    "- airports_nearest - у многой недвижимости аэропорт расположен относительно близко. Пользуются ли они этим?)\n",
    "- cityCenters_nearest - в среднем недвижимость располагается от 5 до 20км от центра города, неплохо, но и есть более высокие значения, возможно эта недвижимость расположена на окраинах, либо в поселках/деревнях;\n",
    "- parks_around3000 - Ого! У многой недвижимости есть парк в ближайших 3х км, а у кого-то даже несколько;\t\n",
    "- ponds_around3000\t- аналогичная ситуация с водоёмами, возможно комары будут беспокоить;\n",
    "- days_exposition - в среднем недвижимость продаётся очень быстро, от 0 до 200 дней. И тут этот 0, нужно разобраться в чем дело;  \n",
    "  \n",
    "Рассмотрев детальнее графики мы можем сделать вывод, что в некоторых столбцах данные не бьются и есть аномалии, необходимо рассмотреть более детально данные, которые кажутся сомнительными."
   ]
  },
  {
   "cell_type": "markdown",
   "metadata": {},
   "source": [
    "## Выполним предобработку данных."
   ]
  },
  {
   "cell_type": "markdown",
   "metadata": {},
   "source": [
    "### Рассмотрим типы данных в каждом столбце."
   ]
  },
  {
   "cell_type": "code",
   "execution_count": 5,
   "metadata": {},
   "outputs": [
    {
     "name": "stdout",
     "output_type": "stream",
     "text": [
      "<class 'pandas.core.frame.DataFrame'>\n",
      "RangeIndex: 23699 entries, 0 to 23698\n",
      "Data columns (total 22 columns):\n",
      " #   Column                Non-Null Count  Dtype  \n",
      "---  ------                --------------  -----  \n",
      " 0   total_images          23699 non-null  int64  \n",
      " 1   last_price            23699 non-null  float64\n",
      " 2   total_area            23699 non-null  float64\n",
      " 3   first_day_exposition  23699 non-null  object \n",
      " 4   rooms                 23699 non-null  int64  \n",
      " 5   ceiling_height        14504 non-null  float64\n",
      " 6   floors_total          23613 non-null  float64\n",
      " 7   living_area           21796 non-null  float64\n",
      " 8   floor                 23699 non-null  int64  \n",
      " 9   is_apartment          2775 non-null   object \n",
      " 10  studio                23699 non-null  bool   \n",
      " 11  open_plan             23699 non-null  bool   \n",
      " 12  kitchen_area          21421 non-null  float64\n",
      " 13  balcony               12180 non-null  float64\n",
      " 14  locality_name         23650 non-null  object \n",
      " 15  airports_nearest      18157 non-null  float64\n",
      " 16  cityCenters_nearest   18180 non-null  float64\n",
      " 17  parks_around3000      18181 non-null  float64\n",
      " 18  parks_nearest         8079 non-null   float64\n",
      " 19  ponds_around3000      18181 non-null  float64\n",
      " 20  ponds_nearest         9110 non-null   float64\n",
      " 21  days_exposition       20518 non-null  float64\n",
      "dtypes: bool(2), float64(14), int64(3), object(3)\n",
      "memory usage: 3.7+ MB\n"
     ]
    }
   ],
   "source": [
    "data.info()"
   ]
  },
  {
   "cell_type": "markdown",
   "metadata": {},
   "source": [
    "### Найдём и изучим пропущенные значения в столбцах."
   ]
  },
  {
   "cell_type": "markdown",
   "metadata": {},
   "source": [
    "Чтобы перейти к предобработке данных, необходимо найти количество пропусков в каждом столбце"
   ]
  },
  {
   "cell_type": "code",
   "execution_count": 6,
   "metadata": {},
   "outputs": [
    {
     "data": {
      "text/plain": [
       "total_images                0\n",
       "last_price                  0\n",
       "total_area                  0\n",
       "first_day_exposition        0\n",
       "rooms                       0\n",
       "ceiling_height           9195\n",
       "floors_total               86\n",
       "living_area              1903\n",
       "floor                       0\n",
       "is_apartment            20924\n",
       "studio                      0\n",
       "open_plan                   0\n",
       "kitchen_area             2278\n",
       "balcony                 11519\n",
       "locality_name              49\n",
       "airports_nearest         5542\n",
       "cityCenters_nearest      5519\n",
       "parks_around3000         5518\n",
       "parks_nearest           15620\n",
       "ponds_around3000         5518\n",
       "ponds_nearest           14589\n",
       "days_exposition          3181\n",
       "dtype: int64"
      ]
     },
     "execution_count": 6,
     "metadata": {},
     "output_type": "execute_result"
    }
   ],
   "source": [
    "data.isna().sum()"
   ]
  },
  {
   "cell_type": "code",
   "execution_count": 7,
   "metadata": {},
   "outputs": [
    {
     "name": "stdout",
     "output_type": "stream",
     "text": [
      "Requirement already satisfied: missingno in c:\\users\\user\\anaconda3\\lib\\site-packages (0.5.2)\n",
      "Requirement already satisfied: numpy in c:\\users\\user\\anaconda3\\lib\\site-packages (from missingno) (1.26.4)\n",
      "Requirement already satisfied: matplotlib in c:\\users\\user\\anaconda3\\lib\\site-packages (from missingno) (3.8.0)\n",
      "Requirement already satisfied: scipy in c:\\users\\user\\anaconda3\\lib\\site-packages (from missingno) (1.11.4)\n",
      "Requirement already satisfied: seaborn in c:\\users\\user\\anaconda3\\lib\\site-packages (from missingno) (0.12.2)\n",
      "Requirement already satisfied: contourpy>=1.0.1 in c:\\users\\user\\anaconda3\\lib\\site-packages (from matplotlib->missingno) (1.2.0)\n",
      "Requirement already satisfied: cycler>=0.10 in c:\\users\\user\\anaconda3\\lib\\site-packages (from matplotlib->missingno) (0.11.0)\n",
      "Requirement already satisfied: fonttools>=4.22.0 in c:\\users\\user\\anaconda3\\lib\\site-packages (from matplotlib->missingno) (4.25.0)\n",
      "Requirement already satisfied: kiwisolver>=1.0.1 in c:\\users\\user\\anaconda3\\lib\\site-packages (from matplotlib->missingno) (1.4.4)\n",
      "Requirement already satisfied: packaging>=20.0 in c:\\users\\user\\anaconda3\\lib\\site-packages (from matplotlib->missingno) (23.1)\n",
      "Requirement already satisfied: pillow>=6.2.0 in c:\\users\\user\\anaconda3\\lib\\site-packages (from matplotlib->missingno) (10.2.0)\n",
      "Requirement already satisfied: pyparsing>=2.3.1 in c:\\users\\user\\anaconda3\\lib\\site-packages (from matplotlib->missingno) (3.0.9)\n",
      "Requirement already satisfied: python-dateutil>=2.7 in c:\\users\\user\\anaconda3\\lib\\site-packages (from matplotlib->missingno) (2.8.2)\n",
      "Requirement already satisfied: pandas>=0.25 in c:\\users\\user\\anaconda3\\lib\\site-packages (from seaborn->missingno) (2.1.4)\n",
      "Requirement already satisfied: pytz>=2020.1 in c:\\users\\user\\anaconda3\\lib\\site-packages (from pandas>=0.25->seaborn->missingno) (2023.3.post1)\n",
      "Requirement already satisfied: tzdata>=2022.1 in c:\\users\\user\\anaconda3\\lib\\site-packages (from pandas>=0.25->seaborn->missingno) (2023.3)\n",
      "Requirement already satisfied: six>=1.5 in c:\\users\\user\\anaconda3\\lib\\site-packages (from python-dateutil>=2.7->matplotlib->missingno) (1.16.0)\n",
      "Note: you may need to restart the kernel to use updated packages.\n"
     ]
    }
   ],
   "source": [
    "pip install missingno"
   ]
  },
  {
   "cell_type": "code",
   "execution_count": 8,
   "metadata": {},
   "outputs": [],
   "source": [
    "import missingno as msno"
   ]
  },
  {
   "cell_type": "markdown",
   "metadata": {},
   "source": [
    "### Изучим уникальные значения в столбце с названиями и устраним неявные дубликаты."
   ]
  },
  {
   "cell_type": "markdown",
   "metadata": {},
   "source": [
    "Высоту потолков у пропусков можно медианым средним значением, чтобы квартиры с большими потолками не исказили данные."
   ]
  },
  {
   "cell_type": "code",
   "execution_count": 9,
   "metadata": {},
   "outputs": [
    {
     "data": {
      "text/plain": [
       "total_images                0\n",
       "last_price                  0\n",
       "total_area                  0\n",
       "first_day_exposition        0\n",
       "rooms                       0\n",
       "ceiling_height              0\n",
       "floors_total               86\n",
       "living_area              1903\n",
       "floor                       0\n",
       "is_apartment            20924\n",
       "studio                      0\n",
       "open_plan                   0\n",
       "kitchen_area             2278\n",
       "balcony                 11519\n",
       "locality_name              49\n",
       "airports_nearest         5542\n",
       "cityCenters_nearest      5519\n",
       "parks_around3000         5518\n",
       "parks_nearest           15620\n",
       "ponds_around3000         5518\n",
       "ponds_nearest           14589\n",
       "days_exposition          3181\n",
       "dtype: int64"
      ]
     },
     "execution_count": 9,
     "metadata": {},
     "output_type": "execute_result"
    }
   ],
   "source": [
    "data['ceiling_height'] = data['ceiling_height'].fillna(data['ceiling_height'].median())\n",
    "data.isna().sum()"
   ]
  },
  {
   "cell_type": "markdown",
   "metadata": {},
   "source": [
    "В столбце \"floors_total\" логически не сможем заменить пропуски, тк этажей в доме может быть разное количество и данные окажутся некорректными."
   ]
  },
  {
   "cell_type": "markdown",
   "metadata": {},
   "source": [
    "На жилую площадь влияет количество комнат. Заменим пропуски в этом столбце медианным значением, исходя из количества комнат."
   ]
  },
  {
   "cell_type": "code",
   "execution_count": 10,
   "metadata": {},
   "outputs": [
    {
     "data": {
      "text/plain": [
       "total_images                0\n",
       "last_price                  0\n",
       "total_area                  0\n",
       "first_day_exposition        0\n",
       "rooms                       0\n",
       "ceiling_height              0\n",
       "floors_total               86\n",
       "living_area                 0\n",
       "floor                       0\n",
       "is_apartment            20924\n",
       "studio                      0\n",
       "open_plan                   0\n",
       "kitchen_area             2278\n",
       "balcony                 11519\n",
       "locality_name              49\n",
       "airports_nearest         5542\n",
       "cityCenters_nearest      5519\n",
       "parks_around3000         5518\n",
       "parks_nearest           15620\n",
       "ponds_around3000         5518\n",
       "ponds_nearest           14589\n",
       "days_exposition          3181\n",
       "dtype: int64"
      ]
     },
     "execution_count": 10,
     "metadata": {},
     "output_type": "execute_result"
    }
   ],
   "source": [
    "rooms_grouped = data.groupby('rooms')['living_area'].median()\n",
    "data['living_area'] = data.set_index('rooms')['living_area'].fillna(rooms_grouped).reset_index(drop=True)\n",
    "data.isna().sum()\n"
   ]
  },
  {
   "cell_type": "markdown",
   "metadata": {},
   "source": [
    "Столбец \"is_apartment\" является булевым и указывает на то, является ли недвижимость апартмаментами. Где пропуски, логично что не является апартмаментами и необходимо заменить на False"
   ]
  },
  {
   "cell_type": "code",
   "execution_count": 11,
   "metadata": {},
   "outputs": [
    {
     "data": {
      "text/plain": [
       "total_images                0\n",
       "last_price                  0\n",
       "total_area                  0\n",
       "first_day_exposition        0\n",
       "rooms                       0\n",
       "ceiling_height              0\n",
       "floors_total               86\n",
       "living_area                 0\n",
       "floor                       0\n",
       "is_apartment                0\n",
       "studio                      0\n",
       "open_plan                   0\n",
       "kitchen_area             2278\n",
       "balcony                 11519\n",
       "locality_name              49\n",
       "airports_nearest         5542\n",
       "cityCenters_nearest      5519\n",
       "parks_around3000         5518\n",
       "parks_nearest           15620\n",
       "ponds_around3000         5518\n",
       "ponds_nearest           14589\n",
       "days_exposition          3181\n",
       "dtype: int64"
      ]
     },
     "execution_count": 11,
     "metadata": {},
     "output_type": "execute_result"
    }
   ],
   "source": [
    "data['is_apartment'] = data['is_apartment'].fillna(False)\n",
    "data.isna().sum()"
   ]
  },
  {
   "cell_type": "markdown",
   "metadata": {},
   "source": [
    "Большинство кухонь имеют типичную площадь, заменим эти значения медианным значением."
   ]
  },
  {
   "cell_type": "code",
   "execution_count": 12,
   "metadata": {},
   "outputs": [
    {
     "data": {
      "text/plain": [
       "total_images                0\n",
       "last_price                  0\n",
       "total_area                  0\n",
       "first_day_exposition        0\n",
       "rooms                       0\n",
       "ceiling_height              0\n",
       "floors_total               86\n",
       "living_area                 0\n",
       "floor                       0\n",
       "is_apartment                0\n",
       "studio                      0\n",
       "open_plan                   0\n",
       "kitchen_area                0\n",
       "balcony                 11519\n",
       "locality_name              49\n",
       "airports_nearest         5542\n",
       "cityCenters_nearest      5519\n",
       "parks_around3000         5518\n",
       "parks_nearest           15620\n",
       "ponds_around3000         5518\n",
       "ponds_nearest           14589\n",
       "days_exposition          3181\n",
       "dtype: int64"
      ]
     },
     "execution_count": 12,
     "metadata": {},
     "output_type": "execute_result"
    }
   ],
   "source": [
    "data['kitchen_area'] = data['kitchen_area'].fillna(data['kitchen_area'].median())\n",
    "data.isna().sum()"
   ]
  },
  {
   "cell_type": "markdown",
   "metadata": {},
   "source": [
    "Столбец \"balcony\" указывает на то, есть ли балкон в квартире. Логично, что где пропуск, там нет его, поэтому заменим пропуски на \"0\"."
   ]
  },
  {
   "cell_type": "code",
   "execution_count": 13,
   "metadata": {},
   "outputs": [
    {
     "data": {
      "text/plain": [
       "total_images                0\n",
       "last_price                  0\n",
       "total_area                  0\n",
       "first_day_exposition        0\n",
       "rooms                       0\n",
       "ceiling_height              0\n",
       "floors_total               86\n",
       "living_area                 0\n",
       "floor                       0\n",
       "is_apartment                0\n",
       "studio                      0\n",
       "open_plan                   0\n",
       "kitchen_area                0\n",
       "balcony                     0\n",
       "locality_name              49\n",
       "airports_nearest         5542\n",
       "cityCenters_nearest      5519\n",
       "parks_around3000         5518\n",
       "parks_nearest           15620\n",
       "ponds_around3000         5518\n",
       "ponds_nearest           14589\n",
       "days_exposition          3181\n",
       "dtype: int64"
      ]
     },
     "execution_count": 13,
     "metadata": {},
     "output_type": "execute_result"
    }
   ],
   "source": [
    "data['balcony'] = data['balcony'].fillna(0)\n",
    "data.isna().sum()"
   ]
  },
  {
   "cell_type": "markdown",
   "metadata": {},
   "source": [
    "Пропуски в столбце \"locality_name\" нет возможности обработать пропуски, тк это название населённого пункта.  \n",
    "Также не сможем обработать данные в столбцах: airports_nearest, cityCenters_nearest, parks_around3000, ponds_around3000, ponds_nearest, тк нет возможности их логически заменить.  \n",
    "Столбец days_exposition указывает на то, сколько дней недвижимость была в продаже. Если есть пропуск, соответственно недвижимость ещё не продана и заменить его не нужно."
   ]
  },
  {
   "cell_type": "markdown",
   "metadata": {},
   "source": [
    "Причинами пропусков в столбцах в большинстве случаев является человеческий фактор (большое количество категорий, на которые владелец может не знать ответ).  \n",
    "Также причинами пропусков могут быть технические проблемы, в следствии выгрузки данных."
   ]
  },
  {
   "cell_type": "markdown",
   "metadata": {},
   "source": [
    "Необходимо поменять тип данных в столбце \"first_day_exposition\", чтобы данные имели читаемый вид.  "
   ]
  },
  {
   "cell_type": "code",
   "execution_count": 14,
   "metadata": {
    "scrolled": true
   },
   "outputs": [
    {
     "data": {
      "text/html": [
       "<div>\n",
       "<style scoped>\n",
       "    .dataframe tbody tr th:only-of-type {\n",
       "        vertical-align: middle;\n",
       "    }\n",
       "\n",
       "    .dataframe tbody tr th {\n",
       "        vertical-align: top;\n",
       "    }\n",
       "\n",
       "    .dataframe thead th {\n",
       "        text-align: right;\n",
       "    }\n",
       "</style>\n",
       "<table border=\"1\" class=\"dataframe\">\n",
       "  <thead>\n",
       "    <tr style=\"text-align: right;\">\n",
       "      <th></th>\n",
       "      <th>total_images</th>\n",
       "      <th>last_price</th>\n",
       "      <th>total_area</th>\n",
       "      <th>first_day_exposition</th>\n",
       "      <th>rooms</th>\n",
       "      <th>ceiling_height</th>\n",
       "      <th>floors_total</th>\n",
       "      <th>living_area</th>\n",
       "      <th>floor</th>\n",
       "      <th>is_apartment</th>\n",
       "      <th>...</th>\n",
       "      <th>kitchen_area</th>\n",
       "      <th>balcony</th>\n",
       "      <th>locality_name</th>\n",
       "      <th>airports_nearest</th>\n",
       "      <th>cityCenters_nearest</th>\n",
       "      <th>parks_around3000</th>\n",
       "      <th>parks_nearest</th>\n",
       "      <th>ponds_around3000</th>\n",
       "      <th>ponds_nearest</th>\n",
       "      <th>days_exposition</th>\n",
       "    </tr>\n",
       "  </thead>\n",
       "  <tbody>\n",
       "    <tr>\n",
       "      <th>0</th>\n",
       "      <td>20</td>\n",
       "      <td>13000000.0</td>\n",
       "      <td>108.0</td>\n",
       "      <td>2019-03-07</td>\n",
       "      <td>3</td>\n",
       "      <td>2.70</td>\n",
       "      <td>16.0</td>\n",
       "      <td>51.0</td>\n",
       "      <td>8</td>\n",
       "      <td>False</td>\n",
       "      <td>...</td>\n",
       "      <td>25.0</td>\n",
       "      <td>0.0</td>\n",
       "      <td>Санкт-Петербург</td>\n",
       "      <td>18863.0</td>\n",
       "      <td>16028.0</td>\n",
       "      <td>1.0</td>\n",
       "      <td>482.0</td>\n",
       "      <td>2.0</td>\n",
       "      <td>755.0</td>\n",
       "      <td>NaN</td>\n",
       "    </tr>\n",
       "    <tr>\n",
       "      <th>1</th>\n",
       "      <td>7</td>\n",
       "      <td>3350000.0</td>\n",
       "      <td>40.4</td>\n",
       "      <td>2018-12-04</td>\n",
       "      <td>1</td>\n",
       "      <td>2.65</td>\n",
       "      <td>11.0</td>\n",
       "      <td>18.6</td>\n",
       "      <td>1</td>\n",
       "      <td>False</td>\n",
       "      <td>...</td>\n",
       "      <td>11.0</td>\n",
       "      <td>2.0</td>\n",
       "      <td>посёлок Шушары</td>\n",
       "      <td>12817.0</td>\n",
       "      <td>18603.0</td>\n",
       "      <td>0.0</td>\n",
       "      <td>NaN</td>\n",
       "      <td>0.0</td>\n",
       "      <td>NaN</td>\n",
       "      <td>81.0</td>\n",
       "    </tr>\n",
       "    <tr>\n",
       "      <th>2</th>\n",
       "      <td>10</td>\n",
       "      <td>5196000.0</td>\n",
       "      <td>56.0</td>\n",
       "      <td>2015-08-20</td>\n",
       "      <td>2</td>\n",
       "      <td>2.65</td>\n",
       "      <td>5.0</td>\n",
       "      <td>34.3</td>\n",
       "      <td>4</td>\n",
       "      <td>False</td>\n",
       "      <td>...</td>\n",
       "      <td>8.3</td>\n",
       "      <td>0.0</td>\n",
       "      <td>Санкт-Петербург</td>\n",
       "      <td>21741.0</td>\n",
       "      <td>13933.0</td>\n",
       "      <td>1.0</td>\n",
       "      <td>90.0</td>\n",
       "      <td>2.0</td>\n",
       "      <td>574.0</td>\n",
       "      <td>558.0</td>\n",
       "    </tr>\n",
       "    <tr>\n",
       "      <th>3</th>\n",
       "      <td>0</td>\n",
       "      <td>64900000.0</td>\n",
       "      <td>159.0</td>\n",
       "      <td>2015-07-24</td>\n",
       "      <td>3</td>\n",
       "      <td>2.65</td>\n",
       "      <td>14.0</td>\n",
       "      <td>45.0</td>\n",
       "      <td>9</td>\n",
       "      <td>False</td>\n",
       "      <td>...</td>\n",
       "      <td>9.1</td>\n",
       "      <td>0.0</td>\n",
       "      <td>Санкт-Петербург</td>\n",
       "      <td>28098.0</td>\n",
       "      <td>6800.0</td>\n",
       "      <td>2.0</td>\n",
       "      <td>84.0</td>\n",
       "      <td>3.0</td>\n",
       "      <td>234.0</td>\n",
       "      <td>424.0</td>\n",
       "    </tr>\n",
       "    <tr>\n",
       "      <th>4</th>\n",
       "      <td>2</td>\n",
       "      <td>10000000.0</td>\n",
       "      <td>100.0</td>\n",
       "      <td>2018-06-19</td>\n",
       "      <td>2</td>\n",
       "      <td>3.03</td>\n",
       "      <td>14.0</td>\n",
       "      <td>32.0</td>\n",
       "      <td>13</td>\n",
       "      <td>False</td>\n",
       "      <td>...</td>\n",
       "      <td>41.0</td>\n",
       "      <td>0.0</td>\n",
       "      <td>Санкт-Петербург</td>\n",
       "      <td>31856.0</td>\n",
       "      <td>8098.0</td>\n",
       "      <td>2.0</td>\n",
       "      <td>112.0</td>\n",
       "      <td>1.0</td>\n",
       "      <td>48.0</td>\n",
       "      <td>121.0</td>\n",
       "    </tr>\n",
       "  </tbody>\n",
       "</table>\n",
       "<p>5 rows × 22 columns</p>\n",
       "</div>"
      ],
      "text/plain": [
       "   total_images  last_price  total_area first_day_exposition  rooms  \\\n",
       "0            20  13000000.0       108.0           2019-03-07      3   \n",
       "1             7   3350000.0        40.4           2018-12-04      1   \n",
       "2            10   5196000.0        56.0           2015-08-20      2   \n",
       "3             0  64900000.0       159.0           2015-07-24      3   \n",
       "4             2  10000000.0       100.0           2018-06-19      2   \n",
       "\n",
       "   ceiling_height  floors_total  living_area  floor  is_apartment  ...  \\\n",
       "0            2.70          16.0         51.0      8         False  ...   \n",
       "1            2.65          11.0         18.6      1         False  ...   \n",
       "2            2.65           5.0         34.3      4         False  ...   \n",
       "3            2.65          14.0         45.0      9         False  ...   \n",
       "4            3.03          14.0         32.0     13         False  ...   \n",
       "\n",
       "   kitchen_area  balcony    locality_name  airports_nearest  \\\n",
       "0          25.0      0.0  Санкт-Петербург           18863.0   \n",
       "1          11.0      2.0   посёлок Шушары           12817.0   \n",
       "2           8.3      0.0  Санкт-Петербург           21741.0   \n",
       "3           9.1      0.0  Санкт-Петербург           28098.0   \n",
       "4          41.0      0.0  Санкт-Петербург           31856.0   \n",
       "\n",
       "  cityCenters_nearest  parks_around3000  parks_nearest  ponds_around3000  \\\n",
       "0             16028.0               1.0          482.0               2.0   \n",
       "1             18603.0               0.0            NaN               0.0   \n",
       "2             13933.0               1.0           90.0               2.0   \n",
       "3              6800.0               2.0           84.0               3.0   \n",
       "4              8098.0               2.0          112.0               1.0   \n",
       "\n",
       "   ponds_nearest  days_exposition  \n",
       "0          755.0              NaN  \n",
       "1            NaN             81.0  \n",
       "2          574.0            558.0  \n",
       "3          234.0            424.0  \n",
       "4           48.0            121.0  \n",
       "\n",
       "[5 rows x 22 columns]"
      ]
     },
     "execution_count": 14,
     "metadata": {},
     "output_type": "execute_result"
    }
   ],
   "source": [
    "data['first_day_exposition'] = pd.to_datetime(data['first_day_exposition'], format='%Y-%m-%dT%H:%M:%S')\n",
    "data.head()"
   ]
  },
  {
   "cell_type": "markdown",
   "metadata": {},
   "source": [
    "В столбце \"locality_name\" могут находиться разные наименования одного населённого пункта. Необходимо проверить названия, если будут схожие названия, то заменить их."
   ]
  },
  {
   "cell_type": "code",
   "execution_count": 15,
   "metadata": {},
   "outputs": [
    {
     "data": {
      "text/plain": [
       "364"
      ]
     },
     "metadata": {},
     "output_type": "display_data"
    },
    {
     "data": {
      "text/plain": [
       "array(['Бокситогорск', 'Волосово', 'Волхов', 'Всеволожск', 'Выборг',\n",
       "       'Высоцк', 'Гатчина', 'Зеленогорск', 'Ивангород', 'Каменногорск',\n",
       "       'Кингисепп', 'Кириши', 'Кировск', 'Колпино', 'Коммунар',\n",
       "       'Красное Село', 'Кронштадт', 'Кудрово', 'Лодейное Поле',\n",
       "       'Ломоносов', 'Луга', 'Любань', 'Мурино', 'Никольское',\n",
       "       'Новая Ладога', 'Отрадное', 'Павловск', 'Петергоф', 'Пикалёво',\n",
       "       'Подпорожье', 'Приморск', 'Приозерск', 'Пушкин', 'Санкт-Петербург',\n",
       "       'Светогорск', 'Сертолово', 'Сестрорецк', 'Сланцы', 'Сосновый Бор',\n",
       "       'Сясьстрой', 'Тихвин', 'Тосно', 'Шлиссельбург',\n",
       "       'городской поселок Большая Ижора', 'городской поселок Янино-1',\n",
       "       'городской посёлок Будогощь', 'городской посёлок Виллози',\n",
       "       'городской посёлок Лесогорский', 'городской посёлок Мга',\n",
       "       'городской посёлок Назия', 'городской посёлок Новоселье',\n",
       "       'городской посёлок Павлово', 'городской посёлок Рощино',\n",
       "       'городской посёлок Свирьстрой', 'городской посёлок Советский',\n",
       "       'городской посёлок Фёдоровское', 'городской посёлок Янино-1',\n",
       "       'деревня Агалатово', 'деревня Аро', 'деревня Батово',\n",
       "       'деревня Бегуницы', 'деревня Белогорка', 'деревня Большая Вруда',\n",
       "       'деревня Большая Пустомержа', 'деревня Большие Колпаны',\n",
       "       'деревня Большое Рейзино', 'деревня Большой Сабск', 'деревня Бор',\n",
       "       'деревня Борисова Грива', 'деревня Ваганово', 'деревня Вартемяги',\n",
       "       'деревня Вахнова Кара', 'деревня Выскатка', 'деревня Гарболово',\n",
       "       'деревня Глинка', 'деревня Горбунки', 'деревня Гостилицы',\n",
       "       'деревня Заклинье', 'деревня Заневка', 'деревня Зимитицы',\n",
       "       'деревня Извара', 'деревня Иссад', 'деревня Калитино',\n",
       "       'деревня Кальтино', 'деревня Камышовка', 'деревня Каськово',\n",
       "       'деревня Келози', 'деревня Кипень', 'деревня Кисельня',\n",
       "       'деревня Колтуши', 'деревня Коркино', 'деревня Котлы',\n",
       "       'деревня Кривко', 'деревня Кудрово', 'деревня Кузьмолово',\n",
       "       'деревня Курковицы', 'деревня Куровицы', 'деревня Куттузи',\n",
       "       'деревня Лаврики', 'деревня Лаголово', 'деревня Лампово',\n",
       "       'деревня Лесколово', 'деревня Лопухинка', 'деревня Лупполово',\n",
       "       'деревня Малая Романовка', 'деревня Малое Верево',\n",
       "       'деревня Малое Карлино', 'деревня Малые Колпаны',\n",
       "       'деревня Мануйлово', 'деревня Меньково', 'деревня Мины',\n",
       "       'деревня Мистолово', 'деревня Ненимяки', 'деревня Нижние Осельки',\n",
       "       'деревня Нижняя', 'деревня Низино', 'деревня Новое Девяткино',\n",
       "       'деревня Новолисино', 'деревня Нурма', 'деревня Оржицы',\n",
       "       'деревня Парицы', 'деревня Пельгора', 'деревня Пеники',\n",
       "       'деревня Пижма', 'деревня Пикколово', 'деревня Пудомяги',\n",
       "       'деревня Пустынка', 'деревня Пчева', 'деревня Рабитицы',\n",
       "       'деревня Разбегаево', 'деревня Раздолье', 'деревня Разметелево',\n",
       "       'деревня Рапполово', 'деревня Реброво', 'деревня Русско',\n",
       "       'деревня Сижно', 'деревня Снегирёвка', 'деревня Старая',\n",
       "       'деревня Старая Пустошь', 'деревня Старое Хинколово',\n",
       "       'деревня Старополье', 'деревня Старосиверская',\n",
       "       'деревня Старые Бегуницы', 'деревня Суоранда',\n",
       "       'деревня Сяськелево', 'деревня Тарасово', 'деревня Терпилицы',\n",
       "       'деревня Тихковицы', 'деревня Тойворово', 'деревня Торосово',\n",
       "       'деревня Торошковичи', 'деревня Трубников Бор',\n",
       "       'деревня Фалилеево', 'деревня Фёдоровское', 'деревня Хапо-Ое',\n",
       "       'деревня Хязельки', 'деревня Чудской Бор', 'деревня Шпаньково',\n",
       "       'деревня Щеглово', 'деревня Юкки', 'деревня Ялгино',\n",
       "       'деревня Яльгелево', 'деревня Ям-Тесово',\n",
       "       'коттеджный поселок Кивеннапа Север', 'коттеджный поселок Счастье',\n",
       "       'коттеджный посёлок Лесное', 'поселок Аннино', 'поселок Барышево',\n",
       "       'поселок Бугры', 'поселок Возрождение', 'поселок Войсковицы',\n",
       "       'поселок Володарское', 'поселок Гаврилово', 'поселок Гарболово',\n",
       "       'поселок Гладкое', 'поселок Глажево', 'поселок Глебычево',\n",
       "       'поселок Гончарово', 'поселок Громово', 'поселок Дружноселье',\n",
       "       'поселок Елизаветино', 'поселок Жилгородок', 'поселок Жилпосёлок',\n",
       "       'поселок Житково', 'поселок Заводской', 'поселок Запорожское',\n",
       "       'поселок Зимитицы', 'поселок Ильичёво', 'поселок Калитино',\n",
       "       'поселок Каложицы', 'поселок Кингисеппский', 'поселок Кирпичное',\n",
       "       'поселок Кобралово', 'поселок Кобринское', 'поселок Коммунары',\n",
       "       'поселок Коробицыно', 'поселок Котельский',\n",
       "       'поселок Красная Долина', 'поселок Красносельское',\n",
       "       'поселок Лесное', 'поселок Лисий Нос', 'поселок Лукаши',\n",
       "       'поселок Любань', 'поселок Мельниково', 'поселок Мичуринское',\n",
       "       'поселок Молодцово', 'поселок Мурино', 'поселок Новый Свет',\n",
       "       'поселок Новый Учхоз', 'поселок Оредеж',\n",
       "       'поселок Пансионат Зелёный Бор', 'поселок Первомайское',\n",
       "       'поселок Перово', 'поселок Петровское', 'поселок Победа',\n",
       "       'поселок Поляны', 'поселок Почап', 'поселок Починок',\n",
       "       'поселок Пушное', 'поселок Пчевжа', 'поселок Рабитицы',\n",
       "       'поселок Романовка', 'поселок Ромашки', 'поселок Рябово',\n",
       "       'поселок Севастьяново', 'поселок Селезнёво', 'поселок Сельцо',\n",
       "       'поселок Семиозерье', 'поселок Семрино', 'поселок Серебрянский',\n",
       "       'поселок Совхозный', 'поселок Старая Малукса',\n",
       "       'поселок Стеклянный', 'поселок Сумино', 'поселок Суходолье',\n",
       "       'поселок Тельмана', 'поселок Терволово', 'поселок Торковичи',\n",
       "       'поселок Тёсово-4', 'поселок Углово', 'поселок Усть-Луга',\n",
       "       'поселок Ушаки', 'поселок Цвелодубово', 'поселок Цвылёво',\n",
       "       'поселок городского типа Большая Ижора',\n",
       "       'поселок городского типа Вырица',\n",
       "       'поселок городского типа Дружная Горка',\n",
       "       'поселок городского типа Дубровка',\n",
       "       'поселок городского типа Ефимовский',\n",
       "       'поселок городского типа Кондратьево',\n",
       "       'поселок городского типа Красный Бор',\n",
       "       'поселок городского типа Кузьмоловский',\n",
       "       'поселок городского типа Лебяжье',\n",
       "       'поселок городского типа Лесогорский',\n",
       "       'поселок городского типа Назия',\n",
       "       'поселок городского типа Никольский',\n",
       "       'поселок городского типа Приладожский',\n",
       "       'поселок городского типа Рахья', 'поселок городского типа Рощино',\n",
       "       'поселок городского типа Рябово',\n",
       "       'поселок городского типа Синявино',\n",
       "       'поселок городского типа Советский',\n",
       "       'поселок городского типа Токсово',\n",
       "       'поселок городского типа Форносово',\n",
       "       'поселок городского типа имени Свердлова',\n",
       "       'поселок станции Вещево', 'поселок станции Корнево',\n",
       "       'поселок станции Лужайка', 'поселок станции Приветнинское',\n",
       "       'посёлок Александровская', 'посёлок Алексеевка', 'посёлок Аннино',\n",
       "       'посёлок Белоостров', 'посёлок Бугры', 'посёлок Возрождение',\n",
       "       'посёлок Войскорово', 'посёлок Высокоключевой',\n",
       "       'посёлок Гаврилово', 'посёлок Дзержинского', 'посёлок Жилгородок',\n",
       "       'посёлок Ильичёво', 'посёлок Кикерино', 'посёлок Кобралово',\n",
       "       'посёлок Коробицыно', 'посёлок Левашово', 'посёлок Ленинское',\n",
       "       'посёлок Лисий Нос', 'посёлок Мельниково', 'посёлок Металлострой',\n",
       "       'посёлок Мичуринское', 'посёлок Молодёжное', 'посёлок Мурино',\n",
       "       'посёлок Мыза-Ивановка', 'посёлок Новогорелово',\n",
       "       'посёлок Новый Свет', 'посёлок Пансионат Зелёный Бор',\n",
       "       'посёлок Парголово', 'посёлок Перово', 'посёлок Песочный',\n",
       "       'посёлок Петро-Славянка', 'посёлок Петровское',\n",
       "       'посёлок Платформа 69-й километр', 'посёлок Плодовое',\n",
       "       'посёлок Плоское', 'посёлок Победа', 'посёлок Поляны',\n",
       "       'посёлок Понтонный', 'посёлок Пригородный', 'посёлок Пудость',\n",
       "       'посёлок Репино', 'посёлок Ропша', 'посёлок Сапёрное',\n",
       "       'посёлок Сапёрный', 'посёлок Сосново', 'посёлок Старая Малукса',\n",
       "       'посёлок Стеклянный', 'посёлок Стрельна', 'посёлок Суйда',\n",
       "       'посёлок Сумино', 'посёлок Тельмана', 'посёлок Терволово',\n",
       "       'посёлок Торфяное', 'посёлок Усть-Ижора', 'посёлок Усть-Луга',\n",
       "       'посёлок Форт Красная Горка', 'посёлок Шугозеро', 'посёлок Шушары',\n",
       "       'посёлок Щеглово', 'посёлок городского типа Важины',\n",
       "       'посёлок городского типа Вознесенье',\n",
       "       'посёлок городского типа Вырица',\n",
       "       'посёлок городского типа Красный Бор',\n",
       "       'посёлок городского типа Кузнечное',\n",
       "       'посёлок городского типа Кузьмоловский',\n",
       "       'посёлок городского типа Лебяжье', 'посёлок городского типа Мга',\n",
       "       'посёлок городского типа Павлово',\n",
       "       'посёлок городского типа Рощино', 'посёлок городского типа Рябово',\n",
       "       'посёлок городского типа Сиверский',\n",
       "       'посёлок городского типа Тайцы', 'посёлок городского типа Токсово',\n",
       "       'посёлок городского типа Ульяновка',\n",
       "       'посёлок городского типа Форносово',\n",
       "       'посёлок городского типа имени Морозова',\n",
       "       'посёлок городского типа имени Свердлова',\n",
       "       'посёлок при железнодорожной станции Вещево',\n",
       "       'посёлок при железнодорожной станции Приветнинское',\n",
       "       'посёлок станции Громово', 'посёлок станции Свирь',\n",
       "       'садоводческое некоммерческое товарищество Лесная Поляна',\n",
       "       'садовое товарищество Новая Ропша',\n",
       "       'садовое товарищество Приладожский', 'садовое товарищество Рахья',\n",
       "       'садовое товарищество Садко', 'село Копорье', 'село Никольское',\n",
       "       'село Павлово', 'село Паша', 'село Путилово', 'село Рождествено',\n",
       "       'село Русско-Высоцкое', 'село Старая Ладога', 'село Шум', nan],\n",
       "      dtype=object)"
      ]
     },
     "metadata": {},
     "output_type": "display_data"
    }
   ],
   "source": [
    "display(data['locality_name'].nunique())\n",
    "display(data['locality_name'].sort_values().unique())"
   ]
  },
  {
   "cell_type": "markdown",
   "metadata": {},
   "source": [
    "В данных встречаются много однотипных видов поселков, необходимо их заменить на \"поселок\", а также поменять букву \"ё\" на \"е\", чтобы обработать неявные дубликаты."
   ]
  },
  {
   "cell_type": "code",
   "execution_count": 16,
   "metadata": {},
   "outputs": [
    {
     "data": {
      "text/plain": [
       "318"
      ]
     },
     "metadata": {},
     "output_type": "display_data"
    },
    {
     "data": {
      "text/plain": [
       "array(['Бокситогорск', 'Волосово', 'Волхов', 'Всеволожск', 'Выборг',\n",
       "       'Высоцк', 'Гатчина', 'Зеленогорск', 'Ивангород', 'Каменногорск',\n",
       "       'Кингисепп', 'Кириши', 'Кировск', 'Колпино', 'Коммунар',\n",
       "       'Красное Село', 'Кронштадт', 'Кудрово', 'Лодейное Поле',\n",
       "       'Ломоносов', 'Луга', 'Любань', 'Мурино', 'Никольское',\n",
       "       'Новая Ладога', 'Отрадное', 'Павловск', 'Петергоф', 'Пикалево',\n",
       "       'Подпорожье', 'Приморск', 'Приозерск', 'Пушкин', 'Санкт-Петербург',\n",
       "       'Светогорск', 'Сертолово', 'Сестрорецк', 'Сланцы', 'Сосновый Бор',\n",
       "       'Сясьстрой', 'Тихвин', 'Тосно', 'Шлиссельбург',\n",
       "       'деревня Агалатово', 'деревня Аро', 'деревня Батово',\n",
       "       'деревня Бегуницы', 'деревня Белогорка', 'деревня Большая Вруда',\n",
       "       'деревня Большая Пустомержа', 'деревня Большие Колпаны',\n",
       "       'деревня Большое Рейзино', 'деревня Большой Сабск', 'деревня Бор',\n",
       "       'деревня Борисова Грива', 'деревня Ваганово', 'деревня Вартемяги',\n",
       "       'деревня Вахнова Кара', 'деревня Выскатка', 'деревня Гарболово',\n",
       "       'деревня Глинка', 'деревня Горбунки', 'деревня Гостилицы',\n",
       "       'деревня Заклинье', 'деревня Заневка', 'деревня Зимитицы',\n",
       "       'деревня Извара', 'деревня Иссад', 'деревня Калитино',\n",
       "       'деревня Кальтино', 'деревня Камышовка', 'деревня Каськово',\n",
       "       'деревня Келози', 'деревня Кипень', 'деревня Кисельня',\n",
       "       'деревня Колтуши', 'деревня Коркино', 'деревня Котлы',\n",
       "       'деревня Кривко', 'деревня Кудрово', 'деревня Кузьмолово',\n",
       "       'деревня Курковицы', 'деревня Куровицы', 'деревня Куттузи',\n",
       "       'деревня Лаврики', 'деревня Лаголово', 'деревня Лампово',\n",
       "       'деревня Лесколово', 'деревня Лопухинка', 'деревня Лупполово',\n",
       "       'деревня Малая Романовка', 'деревня Малое Верево',\n",
       "       'деревня Малое Карлино', 'деревня Малые Колпаны',\n",
       "       'деревня Мануйлово', 'деревня Меньково', 'деревня Мины',\n",
       "       'деревня Мистолово', 'деревня Ненимяки', 'деревня Нижние Осельки',\n",
       "       'деревня Нижняя', 'деревня Низино', 'деревня Новое Девяткино',\n",
       "       'деревня Новолисино', 'деревня Нурма', 'деревня Оржицы',\n",
       "       'деревня Парицы', 'деревня Пельгора', 'деревня Пеники',\n",
       "       'деревня Пижма', 'деревня Пикколово', 'деревня Пудомяги',\n",
       "       'деревня Пустынка', 'деревня Пчева', 'деревня Рабитицы',\n",
       "       'деревня Разбегаево', 'деревня Раздолье', 'деревня Разметелево',\n",
       "       'деревня Рапполово', 'деревня Реброво', 'деревня Русско',\n",
       "       'деревня Сижно', 'деревня Снегиревка', 'деревня Старая',\n",
       "       'деревня Старая Пустошь', 'деревня Старое Хинколово',\n",
       "       'деревня Старополье', 'деревня Старосиверская',\n",
       "       'деревня Старые Бегуницы', 'деревня Суоранда',\n",
       "       'деревня Сяськелево', 'деревня Тарасово', 'деревня Терпилицы',\n",
       "       'деревня Тихковицы', 'деревня Тойворово', 'деревня Торосово',\n",
       "       'деревня Торошковичи', 'деревня Трубников Бор',\n",
       "       'деревня Фалилеево', 'деревня Федоровское', 'деревня Хапо-Ое',\n",
       "       'деревня Хязельки', 'деревня Чудской Бор', 'деревня Шпаньково',\n",
       "       'деревня Щеглово', 'деревня Юкки', 'деревня Ялгино',\n",
       "       'деревня Яльгелево', 'деревня Ям-Тесово',\n",
       "       'поселок Александровская', 'поселок Алексеевка', 'поселок Аннино',\n",
       "       'поселок Барышево', 'поселок Белоостров', 'поселок Большая Ижора',\n",
       "       'поселок Бугры', 'поселок Будогощь', 'поселок Важины',\n",
       "       'поселок Вещево', 'поселок Виллози', 'поселок Вознесенье',\n",
       "       'поселок Возрождение', 'поселок Войсковицы', 'поселок Войскорово',\n",
       "       'поселок Володарское', 'поселок Вырица', 'поселок Высокоключевой',\n",
       "       'поселок Гаврилово', 'поселок Гарболово', 'поселок Гладкое',\n",
       "       'поселок Глажево', 'поселок Глебычево', 'поселок Гончарово',\n",
       "       'поселок Громово', 'поселок Дзержинского', 'поселок Дружная Горка',\n",
       "       'поселок Дружноселье', 'поселок Дубровка', 'поселок Елизаветино',\n",
       "       'поселок Ефимовский', 'поселок Жилгородок', 'поселок Жилпоселок',\n",
       "       'поселок Житково', 'поселок Заводской', 'поселок Запорожское',\n",
       "       'поселок Зимитицы', 'поселок Ильичево', 'поселок Калитино',\n",
       "       'поселок Каложицы', 'поселок Кивеннапа Север', 'поселок Кикерино',\n",
       "       'поселок Кингисеппский', 'поселок Кирпичное', 'поселок Кобралово',\n",
       "       'поселок Кобринское', 'поселок Коммунары', 'поселок Кондратьево',\n",
       "       'поселок Корнево', 'поселок Коробицыно', 'поселок Котельский',\n",
       "       'поселок Красная Долина', 'поселок Красносельское',\n",
       "       'поселок Красный Бор', 'поселок Кузнечное',\n",
       "       'поселок Кузьмоловский', 'поселок Лебяжье', 'поселок Левашово',\n",
       "       'поселок Ленинское', 'поселок Лесное', 'поселок Лесогорский',\n",
       "       'поселок Лисий Нос', 'поселок Лужайка', 'поселок Лукаши',\n",
       "       'поселок Любань', 'поселок Мга', 'поселок Мельниково',\n",
       "       'поселок Металлострой', 'поселок Мичуринское',\n",
       "       'поселок Молодежное', 'поселок Молодцово', 'поселок Мурино',\n",
       "       'поселок Мыза-Ивановка', 'поселок Назия', 'поселок Никольский',\n",
       "       'поселок Новогорелово', 'поселок Новоселье', 'поселок Новый Свет',\n",
       "       'поселок Новый Учхоз', 'поселок Оредеж', 'поселок Павлово',\n",
       "       'поселок Пансионат Зеленый Бор', 'поселок Парголово',\n",
       "       'поселок Первомайское', 'поселок Перово', 'поселок Песочный',\n",
       "       'поселок Петро-Славянка', 'поселок Петровское',\n",
       "       'поселок Платформа 69-й километр', 'поселок Плодовое',\n",
       "       'поселок Плоское', 'поселок Победа', 'поселок Поляны',\n",
       "       'поселок Понтонный', 'поселок Почап', 'поселок Починок',\n",
       "       'поселок Приветнинское', 'поселок Пригородный',\n",
       "       'поселок Приладожский', 'поселок Пудость', 'поселок Пушное',\n",
       "       'поселок Пчевжа', 'поселок Рабитицы', 'поселок Рахья',\n",
       "       'поселок Репино', 'поселок Романовка', 'поселок Ромашки',\n",
       "       'поселок Ропша', 'поселок Рощино', 'поселок Рябово',\n",
       "       'поселок Саперное', 'поселок Саперный', 'поселок Свирь',\n",
       "       'поселок Свирьстрой', 'поселок Севастьяново', 'поселок Селезнево',\n",
       "       'поселок Сельцо', 'поселок Семиозерье', 'поселок Семрино',\n",
       "       'поселок Серебрянский', 'поселок Сиверский', 'поселок Синявино',\n",
       "       'поселок Советский', 'поселок Совхозный', 'поселок Сосново',\n",
       "       'поселок Старая Малукса', 'поселок Стеклянный', 'поселок Стрельна',\n",
       "       'поселок Суйда', 'поселок Сумино', 'поселок Суходолье',\n",
       "       'поселок Счастье', 'поселок Тайцы', 'поселок Тельмана',\n",
       "       'поселок Терволово', 'поселок Тесово-4', 'поселок Токсово',\n",
       "       'поселок Торковичи', 'поселок Торфяное', 'поселок Углово',\n",
       "       'поселок Ульяновка', 'поселок Усть-Ижора', 'поселок Усть-Луга',\n",
       "       'поселок Ушаки', 'поселок Федоровское', 'поселок Форносово',\n",
       "       'поселок Форт Красная Горка', 'поселок Цвелодубово',\n",
       "       'поселок Цвылево', 'поселок Шугозеро', 'поселок Шушары',\n",
       "       'поселок Щеглово', 'поселок Янино-1', 'поселок имени Морозова',\n",
       "       'поселок имени Свердлова',\n",
       "       'садоводческое некоммерческое товарищество Лесная Поляна',\n",
       "       'садовое товарищество Новая Ропша',\n",
       "       'садовое товарищество Приладожский', 'садовое товарищество Рахья',\n",
       "       'садовое товарищество Садко', 'село Копорье', 'село Никольское',\n",
       "       'село Павлово', 'село Паша', 'село Путилово', 'село Рождествено',\n",
       "       'село Русско-Высоцкое', 'село Старая Ладога', 'село Шум', nan],\n",
       "      dtype=object)"
      ]
     },
     "metadata": {},
     "output_type": "display_data"
    }
   ],
   "source": [
    "data['locality_name'] = (\n",
    "    data['locality_name']\n",
    "    .str.replace('ё', 'е')\n",
    "    .replace(['поселок городского типа', 'посёлок при железнодорожной', 'городской поселок', 'коттеджный поселок', 'поселок при железнодорожной станции', 'поселок станции'], 'поселок', regex=True)\n",
    ") # меняем букво \"ё\" на \"е\" и заменяем разные виды поселков на \"поселок\", чтобы убрать неявные дубликаты.\n",
    "\n",
    "display(data['locality_name'].nunique())\n",
    "display(data['locality_name'].sort_values().unique())"
   ]
  },
  {
   "cell_type": "markdown",
   "metadata": {
    "id": "QCcvyY6YAwb-"
   },
   "source": [
    "## Добавим в таблицу новые столбцы."
   ]
  },
  {
   "cell_type": "markdown",
   "metadata": {
    "id": "Z8eJek3IAwb-"
   },
   "source": [
    "Добавляем в таблицу новые столбцы со следующими данными:   \n",
    "- цена за квадратный метр;\n",
    "- день недели;\n",
    "- месяц публикации объявления;\n",
    "- год публикации объявления;\n",
    "- тип этажа квартиры;\n",
    "- расстояние до центра города в км."
   ]
  },
  {
   "cell_type": "code",
   "execution_count": 17,
   "metadata": {},
   "outputs": [
    {
     "data": {
      "text/html": [
       "<div>\n",
       "<style scoped>\n",
       "    .dataframe tbody tr th:only-of-type {\n",
       "        vertical-align: middle;\n",
       "    }\n",
       "\n",
       "    .dataframe tbody tr th {\n",
       "        vertical-align: top;\n",
       "    }\n",
       "\n",
       "    .dataframe thead th {\n",
       "        text-align: right;\n",
       "    }\n",
       "</style>\n",
       "<table border=\"1\" class=\"dataframe\">\n",
       "  <thead>\n",
       "    <tr style=\"text-align: right;\">\n",
       "      <th></th>\n",
       "      <th>total_images</th>\n",
       "      <th>last_price</th>\n",
       "      <th>total_area</th>\n",
       "      <th>first_day_exposition</th>\n",
       "      <th>rooms</th>\n",
       "      <th>ceiling_height</th>\n",
       "      <th>floors_total</th>\n",
       "      <th>living_area</th>\n",
       "      <th>floor</th>\n",
       "      <th>is_apartment</th>\n",
       "      <th>...</th>\n",
       "      <th>parks_nearest</th>\n",
       "      <th>ponds_around3000</th>\n",
       "      <th>ponds_nearest</th>\n",
       "      <th>days_exposition</th>\n",
       "      <th>cost_m</th>\n",
       "      <th>weekday_exposition</th>\n",
       "      <th>month_exposition</th>\n",
       "      <th>year_exposition</th>\n",
       "      <th>city_centers_km</th>\n",
       "      <th>type_floor</th>\n",
       "    </tr>\n",
       "  </thead>\n",
       "  <tbody>\n",
       "    <tr>\n",
       "      <th>0</th>\n",
       "      <td>20</td>\n",
       "      <td>13000000.0</td>\n",
       "      <td>108.0</td>\n",
       "      <td>2019-03-07</td>\n",
       "      <td>3</td>\n",
       "      <td>2.70</td>\n",
       "      <td>16.0</td>\n",
       "      <td>51.0</td>\n",
       "      <td>8</td>\n",
       "      <td>False</td>\n",
       "      <td>...</td>\n",
       "      <td>482.0</td>\n",
       "      <td>2.0</td>\n",
       "      <td>755.0</td>\n",
       "      <td>NaN</td>\n",
       "      <td>120370.37</td>\n",
       "      <td>3</td>\n",
       "      <td>3</td>\n",
       "      <td>2019</td>\n",
       "      <td>16.0</td>\n",
       "      <td>другой</td>\n",
       "    </tr>\n",
       "    <tr>\n",
       "      <th>1</th>\n",
       "      <td>7</td>\n",
       "      <td>3350000.0</td>\n",
       "      <td>40.4</td>\n",
       "      <td>2018-12-04</td>\n",
       "      <td>1</td>\n",
       "      <td>2.65</td>\n",
       "      <td>11.0</td>\n",
       "      <td>18.6</td>\n",
       "      <td>1</td>\n",
       "      <td>False</td>\n",
       "      <td>...</td>\n",
       "      <td>NaN</td>\n",
       "      <td>0.0</td>\n",
       "      <td>NaN</td>\n",
       "      <td>81.0</td>\n",
       "      <td>82920.79</td>\n",
       "      <td>1</td>\n",
       "      <td>12</td>\n",
       "      <td>2018</td>\n",
       "      <td>19.0</td>\n",
       "      <td>первый</td>\n",
       "    </tr>\n",
       "    <tr>\n",
       "      <th>2</th>\n",
       "      <td>10</td>\n",
       "      <td>5196000.0</td>\n",
       "      <td>56.0</td>\n",
       "      <td>2015-08-20</td>\n",
       "      <td>2</td>\n",
       "      <td>2.65</td>\n",
       "      <td>5.0</td>\n",
       "      <td>34.3</td>\n",
       "      <td>4</td>\n",
       "      <td>False</td>\n",
       "      <td>...</td>\n",
       "      <td>90.0</td>\n",
       "      <td>2.0</td>\n",
       "      <td>574.0</td>\n",
       "      <td>558.0</td>\n",
       "      <td>92785.71</td>\n",
       "      <td>3</td>\n",
       "      <td>8</td>\n",
       "      <td>2015</td>\n",
       "      <td>14.0</td>\n",
       "      <td>другой</td>\n",
       "    </tr>\n",
       "    <tr>\n",
       "      <th>3</th>\n",
       "      <td>0</td>\n",
       "      <td>64900000.0</td>\n",
       "      <td>159.0</td>\n",
       "      <td>2015-07-24</td>\n",
       "      <td>3</td>\n",
       "      <td>2.65</td>\n",
       "      <td>14.0</td>\n",
       "      <td>45.0</td>\n",
       "      <td>9</td>\n",
       "      <td>False</td>\n",
       "      <td>...</td>\n",
       "      <td>84.0</td>\n",
       "      <td>3.0</td>\n",
       "      <td>234.0</td>\n",
       "      <td>424.0</td>\n",
       "      <td>408176.10</td>\n",
       "      <td>4</td>\n",
       "      <td>7</td>\n",
       "      <td>2015</td>\n",
       "      <td>7.0</td>\n",
       "      <td>другой</td>\n",
       "    </tr>\n",
       "    <tr>\n",
       "      <th>4</th>\n",
       "      <td>2</td>\n",
       "      <td>10000000.0</td>\n",
       "      <td>100.0</td>\n",
       "      <td>2018-06-19</td>\n",
       "      <td>2</td>\n",
       "      <td>3.03</td>\n",
       "      <td>14.0</td>\n",
       "      <td>32.0</td>\n",
       "      <td>13</td>\n",
       "      <td>False</td>\n",
       "      <td>...</td>\n",
       "      <td>112.0</td>\n",
       "      <td>1.0</td>\n",
       "      <td>48.0</td>\n",
       "      <td>121.0</td>\n",
       "      <td>100000.00</td>\n",
       "      <td>1</td>\n",
       "      <td>6</td>\n",
       "      <td>2018</td>\n",
       "      <td>8.0</td>\n",
       "      <td>другой</td>\n",
       "    </tr>\n",
       "  </tbody>\n",
       "</table>\n",
       "<p>5 rows × 28 columns</p>\n",
       "</div>"
      ],
      "text/plain": [
       "   total_images  last_price  total_area first_day_exposition  rooms  \\\n",
       "0            20  13000000.0       108.0           2019-03-07      3   \n",
       "1             7   3350000.0        40.4           2018-12-04      1   \n",
       "2            10   5196000.0        56.0           2015-08-20      2   \n",
       "3             0  64900000.0       159.0           2015-07-24      3   \n",
       "4             2  10000000.0       100.0           2018-06-19      2   \n",
       "\n",
       "   ceiling_height  floors_total  living_area  floor  is_apartment  ...  \\\n",
       "0            2.70          16.0         51.0      8         False  ...   \n",
       "1            2.65          11.0         18.6      1         False  ...   \n",
       "2            2.65           5.0         34.3      4         False  ...   \n",
       "3            2.65          14.0         45.0      9         False  ...   \n",
       "4            3.03          14.0         32.0     13         False  ...   \n",
       "\n",
       "   parks_nearest  ponds_around3000  ponds_nearest  days_exposition     cost_m  \\\n",
       "0          482.0               2.0          755.0              NaN  120370.37   \n",
       "1            NaN               0.0            NaN             81.0   82920.79   \n",
       "2           90.0               2.0          574.0            558.0   92785.71   \n",
       "3           84.0               3.0          234.0            424.0  408176.10   \n",
       "4          112.0               1.0           48.0            121.0  100000.00   \n",
       "\n",
       "   weekday_exposition  month_exposition  year_exposition  city_centers_km  \\\n",
       "0                   3                 3             2019             16.0   \n",
       "1                   1                12             2018             19.0   \n",
       "2                   3                 8             2015             14.0   \n",
       "3                   4                 7             2015              7.0   \n",
       "4                   1                 6             2018              8.0   \n",
       "\n",
       "   type_floor  \n",
       "0      другой  \n",
       "1      первый  \n",
       "2      другой  \n",
       "3      другой  \n",
       "4      другой  \n",
       "\n",
       "[5 rows x 28 columns]"
      ]
     },
     "execution_count": 17,
     "metadata": {},
     "output_type": "execute_result"
    }
   ],
   "source": [
    "data['cost_m'] = round(data['last_price'] / data['total_area'], 2) # стоимость за 1 кв.м.\n",
    "\n",
    "data['weekday_exposition'] = data['first_day_exposition'].dt.weekday # день недели\n",
    "data['month_exposition'] = data['first_day_exposition'].dt.month # месяц\n",
    "data['year_exposition'] = data['first_day_exposition'].dt.year # год\n",
    "\n",
    "data['city_centers_km'] = round(data['cityCenters_nearest'] / 1000, 0) # расстояние до центра, км\n",
    "\n",
    "def type_floor(row): # содаём функцию для определения типа этажа\n",
    "    floor = row['floor']\n",
    "    total_floor = row['floors_total']\n",
    "    if floor == 1:\n",
    "        return 'первый'\n",
    "    if floor == total_floor:\n",
    "        return 'последний'\n",
    "    else:\n",
    "        return 'другой'\n",
    "\n",
    "data['type_floor'] = data.apply(type_floor, axis=1)\n",
    "\n",
    "data.head()"
   ]
  },
  {
   "cell_type": "markdown",
   "metadata": {},
   "source": [
    "## Проведём исследовательский анализ данных."
   ]
  },
  {
   "cell_type": "markdown",
   "metadata": {},
   "source": [
    "### Изучим перечисленные ниже параметры объектов и построем отдельные гистограммы для каждого из этих параметров."
   ]
  },
  {
   "cell_type": "markdown",
   "metadata": {},
   "source": [
    "Необходимо проверить следующие столбцы на наличие аномальных значений, при необходимо их изменить, либо убрать их из данных:\n",
    "- общая площадь;\n",
    "- жилая площадь;\n",
    "- площадь кухни;\n",
    "- цена объекта;\n",
    "- количество комнат;\n",
    "- высота потолков;\n",
    "- тип этажа квартиры («первый», «последний», «другой»);\n",
    "- общее количество этажей в доме;\n",
    "- расстояние до центра города в метрах;\n",
    "- расстояние до ближайшего парка"
   ]
  },
  {
   "cell_type": "markdown",
   "metadata": {},
   "source": [
    "Необходимо создать новую переменную new_data, в которой будем корректировать аномальные значения.  \n",
    "Затем анализирируем уникальные значения и строим график столбца \"total_area\""
   ]
  },
  {
   "cell_type": "code",
   "execution_count": 18,
   "metadata": {},
   "outputs": [
    {
     "data": {
      "text/plain": [
       "array([ 12. ,  13. ,  13.2, ..., 631. , 631.2, 900. ])"
      ]
     },
     "metadata": {},
     "output_type": "display_data"
    },
    {
     "data": {
      "text/plain": [
       "<Axes: >"
      ]
     },
     "metadata": {},
     "output_type": "display_data"
    },
    {
     "data": {
      "image/png": "[encoded data removed]",
      "text/plain": [
       "<Figure size 400x400 with 1 Axes>"
      ]
     },
     "metadata": {},
     "output_type": "display_data"
    }
   ],
   "source": [
    "new_data = data\n",
    "display(new_data['total_area'].sort_values().unique())\n",
    "display(new_data['total_area'].hist(figsize=(4,4),range=(200, 900)))\n",
    "plt.title('total_area')\n",
    "plt.show()\n"
   ]
  },
  {
   "cell_type": "markdown",
   "metadata": {},
   "source": [
    "На графике видно, что имеется недвижимость свыше 250м. Отбросим эти значения, которые выше этого значения, тк эта недвижимость с большой квадратурой и может исказить дальнейшиий анализ. \n",
    "Минимальное значений общей площади недвижимости равняется 12. Это может быть в действительности, тк в данных могут быть комнаты/студии общежитий, эти данные оставляем"
   ]
  },
  {
   "cell_type": "code",
   "execution_count": 19,
   "metadata": {},
   "outputs": [],
   "source": [
    "new_data= new_data.query('total_area < 250')"
   ]
  },
  {
   "cell_type": "code",
   "execution_count": 20,
   "metadata": {},
   "outputs": [
    {
     "data": {
      "image/png": "[encoded data removed]",
      "text/plain": [
       "<Figure size 500x500 with 1 Axes>"
      ]
     },
     "metadata": {},
     "output_type": "display_data"
    }
   ],
   "source": [
    "new_data['total_area'].hist(figsize=(5,5))\n",
    "plt.title('total_area')\n",
    "plt.show()"
   ]
  },
  {
   "cell_type": "markdown",
   "metadata": {},
   "source": [
    "Анализируем столбец \"жилая площадь\""
   ]
  },
  {
   "cell_type": "code",
   "execution_count": 21,
   "metadata": {},
   "outputs": [
    {
     "data": {
      "text/plain": [
       "array([  2.,   3.,   5., ..., 184., 200., 220.])"
      ]
     },
     "metadata": {},
     "output_type": "display_data"
    },
    {
     "data": {
      "text/plain": [
       "<Axes: >"
      ]
     },
     "metadata": {},
     "output_type": "display_data"
    },
    {
     "data": {
      "image/png": "[encoded data removed]",
      "text/plain": [
       "<Figure size 400x400 with 1 Axes>"
      ]
     },
     "metadata": {},
     "output_type": "display_data"
    }
   ],
   "source": [
    "display(new_data['living_area'].sort_values().unique())\n",
    "display(new_data['living_area'].hist(figsize=(4,4)))\n",
    "plt.title('living_area')\n",
    "plt.show()"
   ]
  },
  {
   "cell_type": "markdown",
   "metadata": {},
   "source": [
    "Есть значения жилой площади от 2м^2, эти данные рассмотрим детальнее."
   ]
  },
  {
   "cell_type": "code",
   "execution_count": 22,
   "metadata": {},
   "outputs": [
    {
     "data": {
      "image/png": "[encoded data removed]",
      "text/plain": [
       "<Figure size 400x400 with 1 Axes>"
      ]
     },
     "metadata": {},
     "output_type": "display_data"
    }
   ],
   "source": [
    "new_data['living_area'].hist(figsize=(4,4), range=(2, 20))\n",
    "plt.title('living_area')\n",
    "plt.show()"
   ]
  },
  {
   "cell_type": "markdown",
   "metadata": {},
   "source": [
    "В теории недвижимость с жилой площадью может быть до 10м, но для корректности данные отбросим аномально низкие значений жилой площади до 10м"
   ]
  },
  {
   "cell_type": "code",
   "execution_count": 23,
   "metadata": {},
   "outputs": [
    {
     "data": {
      "image/png": "[encoded data removed]",
      "text/plain": [
       "<Figure size 400x400 with 1 Axes>"
      ]
     },
     "metadata": {},
     "output_type": "display_data"
    }
   ],
   "source": [
    "new_data = new_data.query('living_area >=10')\n",
    "new_data['living_area'].hist(figsize=(4,4))\n",
    "plt.title('living_area')\n",
    "plt.show()"
   ]
  },
  {
   "cell_type": "markdown",
   "metadata": {},
   "source": [
    "Изучим данные в столбце \"kitchen_area\""
   ]
  },
  {
   "cell_type": "code",
   "execution_count": 24,
   "metadata": {},
   "outputs": [
    {
     "data": {
      "text/plain": [
       "array([  1.3 ,   2.  ,   2.3 ,   2.4 ,   2.89,   3.  ,   3.2 ,   3.3 ,\n",
       "         3.4 ,   3.5 ,   3.7 ,   3.8 ,   4.  ,   4.1 ,   4.2 ,   4.3 ,\n",
       "         4.4 ,   4.5 ,   4.6 ,   4.7 ,   4.8 ,   4.9 ,   5.  ,   5.04,\n",
       "         5.06,   5.1 ,   5.14,   5.2 ,   5.21,   5.23,   5.25,   5.28,\n",
       "         5.29,   5.3 ,   5.31,   5.33,   5.35,   5.4 ,   5.42,   5.44,\n",
       "         5.47,   5.49,   5.5 ,   5.53,   5.59,   5.6 ,   5.61,   5.62,\n",
       "         5.64,   5.65,   5.68,   5.7 ,   5.74,   5.75,   5.78,   5.8 ,\n",
       "         5.82,   5.85,   5.86,   5.9 ,   5.91,   6.  ,   6.02,   6.03,\n",
       "         6.1 ,   6.16,   6.19,   6.2 ,   6.22,   6.23,   6.24,   6.25,\n",
       "         6.26,   6.27,   6.28,   6.3 ,   6.31,   6.33,   6.35,   6.36,\n",
       "         6.37,   6.4 ,   6.47,   6.5 ,   6.55,   6.58,   6.6 ,   6.61,\n",
       "         6.62,   6.65,   6.7 ,   6.72,   6.73,   6.76,   6.77,   6.8 ,\n",
       "         6.82,   6.83,   6.84,   6.86,   6.9 ,   6.91,   6.93,   6.95,\n",
       "         7.  ,   7.02,   7.03,   7.06,   7.09,   7.1 ,   7.12,   7.15,\n",
       "         7.17,   7.18,   7.19,   7.2 ,   7.3 ,   7.36,   7.4 ,   7.41,\n",
       "         7.48,   7.5 ,   7.54,   7.6 ,   7.63,   7.65,   7.7 ,   7.71,\n",
       "         7.78,   7.8 ,   7.84,   7.85,   7.86,   7.87,   7.89,   7.9 ,\n",
       "         7.92,   7.94,   7.95,   7.97,   8.  ,   8.01,   8.02,   8.03,\n",
       "         8.05,   8.06,   8.07,   8.08,   8.09,   8.1 ,   8.11,   8.12,\n",
       "         8.13,   8.15,   8.18,   8.19,   8.2 ,   8.21,   8.23,   8.25,\n",
       "         8.29,   8.3 ,   8.31,   8.32,   8.34,   8.35,   8.38,   8.4 ,\n",
       "         8.43,   8.44,   8.45,   8.47,   8.48,   8.5 ,   8.52,   8.54,\n",
       "         8.57,   8.58,   8.6 ,   8.61,   8.63,   8.65,   8.66,   8.67,\n",
       "         8.69,   8.7 ,   8.71,   8.73,   8.76,   8.77,   8.8 ,   8.81,\n",
       "         8.82,   8.84,   8.85,   8.87,   8.9 ,   8.93,   8.94,   8.95,\n",
       "         8.96,   8.98,   9.  ,   9.01,   9.04,   9.05,   9.06,   9.08,\n",
       "         9.09,   9.1 ,   9.11,   9.13,   9.16,   9.17,   9.18,   9.19,\n",
       "         9.2 ,   9.22,   9.24,   9.25,   9.26,   9.27,   9.28,   9.3 ,\n",
       "         9.31,   9.32,   9.34,   9.35,   9.36,   9.37,   9.38,   9.39,\n",
       "         9.4 ,   9.42,   9.43,   9.44,   9.45,   9.46,   9.48,   9.5 ,\n",
       "         9.51,   9.52,   9.57,   9.58,   9.59,   9.6 ,   9.62,   9.65,\n",
       "         9.66,   9.67,   9.68,   9.7 ,   9.71,   9.72,   9.73,   9.75,\n",
       "         9.76,   9.77,   9.79,   9.8 ,   9.82,   9.83,   9.85,   9.89,\n",
       "         9.9 ,   9.91,   9.93,   9.95,   9.97,   9.98,  10.  ,  10.01,\n",
       "        10.02,  10.03,  10.05,  10.06,  10.08,  10.09,  10.1 ,  10.12,\n",
       "        10.13,  10.15,  10.17,  10.18,  10.19,  10.2 ,  10.22,  10.24,\n",
       "        10.25,  10.26,  10.27,  10.29,  10.3 ,  10.32,  10.33,  10.34,\n",
       "        10.35,  10.36,  10.37,  10.38,  10.39,  10.4 ,  10.42,  10.43,\n",
       "        10.44,  10.45,  10.46,  10.47,  10.49,  10.5 ,  10.51,  10.52,\n",
       "        10.54,  10.55,  10.56,  10.58,  10.59,  10.6 ,  10.62,  10.63,\n",
       "        10.64,  10.68,  10.69,  10.7 ,  10.71,  10.72,  10.73,  10.74,\n",
       "        10.75,  10.78,  10.79,  10.8 ,  10.84,  10.86,  10.87,  10.88,\n",
       "        10.89,  10.9 ,  10.91,  10.92,  10.94,  10.95,  10.99,  11.  ,\n",
       "        11.04,  11.05,  11.06,  11.07,  11.09,  11.1 ,  11.11,  11.12,\n",
       "        11.13,  11.14,  11.16,  11.17,  11.18,  11.2 ,  11.22,  11.24,\n",
       "        11.25,  11.26,  11.27,  11.28,  11.29,  11.3 ,  11.31,  11.33,\n",
       "        11.34,  11.35,  11.36,  11.37,  11.39,  11.4 ,  11.41,  11.42,\n",
       "        11.43,  11.44,  11.45,  11.46,  11.47,  11.49,  11.5 ,  11.51,\n",
       "        11.52,  11.53,  11.55,  11.56,  11.57,  11.59,  11.6 ,  11.62,\n",
       "        11.63,  11.64,  11.65,  11.67,  11.69,  11.7 ,  11.71,  11.73,\n",
       "        11.74,  11.78,  11.8 ,  11.81,  11.84,  11.85,  11.87,  11.9 ,\n",
       "        11.92,  11.93,  11.95,  11.98,  12.  ,  12.01,  12.02,  12.03,\n",
       "        12.05,  12.08,  12.1 ,  12.11,  12.14,  12.15,  12.17,  12.18,\n",
       "        12.2 ,  12.23,  12.24,  12.25,  12.27,  12.29,  12.3 ,  12.32,\n",
       "        12.35,  12.37,  12.38,  12.39,  12.4 ,  12.43,  12.44,  12.45,\n",
       "        12.47,  12.5 ,  12.52,  12.53,  12.55,  12.56,  12.57,  12.58,\n",
       "        12.6 ,  12.63,  12.66,  12.69,  12.7 ,  12.71,  12.72,  12.75,\n",
       "        12.76,  12.8 ,  12.83,  12.84,  12.85,  12.86,  12.87,  12.88,\n",
       "        12.89,  12.9 ,  12.92,  12.93,  12.96,  13.  ,  13.02,  13.04,\n",
       "        13.05,  13.06,  13.1 ,  13.11,  13.14,  13.16,  13.17,  13.2 ,\n",
       "        13.21,  13.24,  13.25,  13.26,  13.27,  13.28,  13.29,  13.3 ,\n",
       "        13.31,  13.32,  13.33,  13.35,  13.38,  13.39,  13.4 ,  13.41,\n",
       "        13.42,  13.43,  13.47,  13.49,  13.5 ,  13.52,  13.53,  13.55,\n",
       "        13.58,  13.6 ,  13.63,  13.64,  13.65,  13.67,  13.69,  13.7 ,\n",
       "        13.73,  13.74,  13.77,  13.79,  13.8 ,  13.81,  13.83,  13.84,\n",
       "        13.86,  13.9 ,  13.93,  13.95,  14.  ,  14.02,  14.04,  14.05,\n",
       "        14.06,  14.1 ,  14.14,  14.17,  14.2 ,  14.24,  14.27,  14.29,\n",
       "        14.3 ,  14.31,  14.33,  14.4 ,  14.43,  14.46,  14.49,  14.5 ,\n",
       "        14.51,  14.55,  14.56,  14.57,  14.58,  14.6 ,  14.61,  14.64,\n",
       "        14.65,  14.7 ,  14.72,  14.74,  14.8 ,  14.84,  14.85,  14.9 ,\n",
       "        14.93,  14.95,  14.97,  14.98,  15.  ,  15.03,  15.07,  15.09,\n",
       "        15.1 ,  15.15,  15.18,  15.2 ,  15.24,  15.26,  15.3 ,  15.33,\n",
       "        15.35,  15.37,  15.39,  15.4 ,  15.42,  15.43,  15.5 ,  15.54,\n",
       "        15.55,  15.57,  15.6 ,  15.61,  15.62,  15.69,  15.7 ,  15.72,\n",
       "        15.78,  15.8 ,  15.83,  15.85,  15.9 ,  16.  ,  16.03,  16.05,\n",
       "        16.07,  16.1 ,  16.2 ,  16.25,  16.26,  16.27,  16.3 ,  16.32,\n",
       "        16.38,  16.4 ,  16.42,  16.45,  16.46,  16.47,  16.48,  16.5 ,\n",
       "        16.6 ,  16.66,  16.7 ,  16.72,  16.74,  16.77,  16.8 ,  16.83,\n",
       "        16.88,  16.89,  16.9 ,  16.92,  17.  ,  17.06,  17.1 ,  17.12,\n",
       "        17.2 ,  17.28,  17.3 ,  17.4 ,  17.44,  17.5 ,  17.53,  17.55,\n",
       "        17.59,  17.6 ,  17.61,  17.64,  17.7 ,  17.8 ,  17.85,  17.87,\n",
       "        17.9 ,  18.  ,  18.07,  18.1 ,  18.16,  18.2 ,  18.25,  18.3 ,\n",
       "        18.34,  18.4 ,  18.45,  18.5 ,  18.55,  18.59,  18.6 ,  18.7 ,\n",
       "        18.78,  18.8 ,  18.88,  18.9 ,  18.93,  19.  ,  19.1 ,  19.19,\n",
       "        19.2 ,  19.21,  19.28,  19.3 ,  19.35,  19.39,  19.4 ,  19.42,\n",
       "        19.45,  19.5 ,  19.51,  19.6 ,  19.61,  19.7 ,  19.8 ,  19.9 ,\n",
       "        19.92,  19.94,  20.  ,  20.07,  20.1 ,  20.16,  20.2 ,  20.24,\n",
       "        20.3 ,  20.31,  20.38,  20.5 ,  20.52,  20.56,  20.6 ,  20.7 ,\n",
       "        20.77,  20.8 ,  20.9 ,  20.91,  20.92,  21.  ,  21.1 ,  21.2 ,\n",
       "        21.22,  21.25,  21.3 ,  21.4 ,  21.5 ,  21.53,  21.55,  21.6 ,\n",
       "        21.7 ,  21.74,  21.76,  21.8 ,  21.82,  21.87,  21.9 ,  22.  ,\n",
       "        22.1 ,  22.15,  22.2 ,  22.22,  22.3 ,  22.31,  22.4 ,  22.43,\n",
       "        22.46,  22.5 ,  22.6 ,  22.7 ,  22.72,  22.78,  22.8 ,  22.9 ,\n",
       "        23.  ,  23.1 ,  23.2 ,  23.25,  23.28,  23.3 ,  23.38,  23.4 ,\n",
       "        23.42,  23.43,  23.5 ,  23.53,  23.6 ,  23.7 ,  23.71,  23.8 ,\n",
       "        23.9 ,  24.  ,  24.03,  24.1 ,  24.2 ,  24.3 ,  24.4 ,  24.5 ,\n",
       "        24.6 ,  24.7 ,  24.8 ,  24.89,  24.9 ,  25.  ,  25.02,  25.1 ,\n",
       "        25.11,  25.2 ,  25.3 ,  25.34,  25.4 ,  25.5 ,  25.6 ,  25.7 ,\n",
       "        25.86,  25.9 ,  26.  ,  26.1 ,  26.2 ,  26.4 ,  26.5 ,  26.8 ,\n",
       "        26.85,  26.9 ,  27.  ,  27.2 ,  27.3 ,  27.4 ,  27.5 ,  27.57,\n",
       "        27.76,  27.9 ,  28.  ,  28.1 ,  28.2 ,  28.3 ,  28.4 ,  28.5 ,\n",
       "        28.52,  28.56,  28.6 ,  28.63,  28.64,  28.7 ,  28.8 ,  29.  ,\n",
       "        29.09,  29.1 ,  29.2 ,  29.3 ,  29.4 ,  29.5 ,  29.7 ,  29.8 ,\n",
       "        29.9 ,  30.  ,  30.2 ,  30.5 ,  30.59,  30.6 ,  30.8 ,  30.9 ,\n",
       "        31.  ,  31.2 ,  31.3 ,  31.4 ,  31.47,  31.5 ,  31.6 ,  31.7 ,\n",
       "        32.  ,  32.1 ,  32.3 ,  32.4 ,  32.55,  32.6 ,  32.7 ,  32.8 ,\n",
       "        33.  ,  33.1 ,  33.6 ,  33.8 ,  33.9 ,  34.  ,  34.1 ,  34.19,\n",
       "        34.3 ,  34.4 ,  34.51,  34.6 ,  34.7 ,  34.78,  34.8 ,  35.  ,\n",
       "        35.1 ,  35.35,  35.4 ,  35.5 ,  35.6 ,  35.7 ,  35.9 ,  36.  ,\n",
       "        36.2 ,  36.3 ,  36.4 ,  36.5 ,  36.6 ,  37.  ,  37.5 ,  37.6 ,\n",
       "        37.7 ,  37.78,  37.8 ,  37.9 ,  38.  ,  38.1 ,  38.86,  39.  ,\n",
       "        39.1 ,  39.7 ,  39.9 ,  40.  ,  40.1 ,  40.2 ,  40.3 ,  40.4 ,\n",
       "        40.5 ,  40.7 ,  41.  ,  41.1 ,  41.3 ,  41.6 ,  41.9 ,  42.  ,\n",
       "        42.4 ,  42.5 ,  42.6 ,  42.7 ,  42.8 ,  43.  ,  43.2 ,  43.4 ,\n",
       "        43.8 ,  44.  ,  44.7 ,  44.9 ,  45.  ,  46.  ,  46.8 ,  47.  ,\n",
       "        48.  ,  48.3 ,  49.2 ,  49.4 ,  50.  ,  50.2 ,  51.  ,  51.8 ,\n",
       "        53.  ,  53.1 ,  54.2 ,  54.3 ,  55.7 ,  56.  ,  56.2 ,  58.  ,\n",
       "        58.4 ,  60.  ,  62.5 ,  63.  ,  64.  ,  65.  ,  70.  ,  72.  ,\n",
       "        75.  ,  77.  ,  87.2 ,  93.  ,  93.2 , 107.  ])"
      ]
     },
     "metadata": {},
     "output_type": "display_data"
    },
    {
     "data": {
      "text/plain": [
       "<Axes: >"
      ]
     },
     "metadata": {},
     "output_type": "display_data"
    },
    {
     "data": {
      "image/png": "[encoded data removed]",
      "text/plain": [
       "<Figure size 640x480 with 1 Axes>"
      ]
     },
     "metadata": {},
     "output_type": "display_data"
    }
   ],
   "source": [
    "display(new_data['kitchen_area'].sort_values().unique()) \n",
    "display(new_data['kitchen_area'].hist()) \n",
    "plt.title('kitchen_area')\n",
    "plt.show()"
   ]
  },
  {
   "cell_type": "markdown",
   "metadata": {},
   "source": [
    "В данных также есть большие и малые значения площади кухни.  \n",
    "В квартирах-студиях могут быть кухни с малой площадью (выделенной под кухню), поэтому оставим значения свыше 3м.  \n",
    "Уберём из данных аномально большие значения кухонь с площадью более 30м, тк в больших домах есть большие кухни."
   ]
  },
  {
   "cell_type": "code",
   "execution_count": 25,
   "metadata": {},
   "outputs": [
    {
     "data": {
      "text/plain": [
       "<Axes: >"
      ]
     },
     "metadata": {},
     "output_type": "display_data"
    },
    {
     "data": {
      "image/png": "[encoded data removed]",
      "text/plain": [
       "<Figure size 640x480 with 1 Axes>"
      ]
     },
     "metadata": {},
     "output_type": "display_data"
    }
   ],
   "source": [
    "new_data = new_data.query('kitchen_area >= 3 and kitchen_area < 30')\n",
    "display(new_data['kitchen_area'].hist()) \n",
    "plt.title('kitchen_area')\n",
    "plt.show()"
   ]
  },
  {
   "cell_type": "markdown",
   "metadata": {},
   "source": [
    "Изучим стоимость квартир. Для корректности отображения создадим новый столбец стоимости квартир в млн. руб, округленный до 1 знака после запятой."
   ]
  },
  {
   "cell_type": "code",
   "execution_count": 26,
   "metadata": {},
   "outputs": [
    {
     "data": {
      "text/html": [
       "<div>\n",
       "<style scoped>\n",
       "    .dataframe tbody tr th:only-of-type {\n",
       "        vertical-align: middle;\n",
       "    }\n",
       "\n",
       "    .dataframe tbody tr th {\n",
       "        vertical-align: top;\n",
       "    }\n",
       "\n",
       "    .dataframe thead th {\n",
       "        text-align: right;\n",
       "    }\n",
       "</style>\n",
       "<table border=\"1\" class=\"dataframe\">\n",
       "  <thead>\n",
       "    <tr style=\"text-align: right;\">\n",
       "      <th></th>\n",
       "      <th>total_images</th>\n",
       "      <th>last_price</th>\n",
       "      <th>total_area</th>\n",
       "      <th>first_day_exposition</th>\n",
       "      <th>rooms</th>\n",
       "      <th>ceiling_height</th>\n",
       "      <th>floors_total</th>\n",
       "      <th>living_area</th>\n",
       "      <th>floor</th>\n",
       "      <th>is_apartment</th>\n",
       "      <th>...</th>\n",
       "      <th>ponds_around3000</th>\n",
       "      <th>ponds_nearest</th>\n",
       "      <th>days_exposition</th>\n",
       "      <th>cost_m</th>\n",
       "      <th>weekday_exposition</th>\n",
       "      <th>month_exposition</th>\n",
       "      <th>year_exposition</th>\n",
       "      <th>city_centers_km</th>\n",
       "      <th>type_floor</th>\n",
       "      <th>price_mln</th>\n",
       "    </tr>\n",
       "  </thead>\n",
       "  <tbody>\n",
       "    <tr>\n",
       "      <th>0</th>\n",
       "      <td>20</td>\n",
       "      <td>13000000.0</td>\n",
       "      <td>108.0</td>\n",
       "      <td>2019-03-07</td>\n",
       "      <td>3</td>\n",
       "      <td>2.70</td>\n",
       "      <td>16.0</td>\n",
       "      <td>51.0</td>\n",
       "      <td>8</td>\n",
       "      <td>False</td>\n",
       "      <td>...</td>\n",
       "      <td>2.0</td>\n",
       "      <td>755.0</td>\n",
       "      <td>NaN</td>\n",
       "      <td>120370.37</td>\n",
       "      <td>3</td>\n",
       "      <td>3</td>\n",
       "      <td>2019</td>\n",
       "      <td>16.0</td>\n",
       "      <td>другой</td>\n",
       "      <td>13.0</td>\n",
       "    </tr>\n",
       "    <tr>\n",
       "      <th>1</th>\n",
       "      <td>7</td>\n",
       "      <td>3350000.0</td>\n",
       "      <td>40.4</td>\n",
       "      <td>2018-12-04</td>\n",
       "      <td>1</td>\n",
       "      <td>2.65</td>\n",
       "      <td>11.0</td>\n",
       "      <td>18.6</td>\n",
       "      <td>1</td>\n",
       "      <td>False</td>\n",
       "      <td>...</td>\n",
       "      <td>0.0</td>\n",
       "      <td>NaN</td>\n",
       "      <td>81.0</td>\n",
       "      <td>82920.79</td>\n",
       "      <td>1</td>\n",
       "      <td>12</td>\n",
       "      <td>2018</td>\n",
       "      <td>19.0</td>\n",
       "      <td>первый</td>\n",
       "      <td>3.4</td>\n",
       "    </tr>\n",
       "    <tr>\n",
       "      <th>2</th>\n",
       "      <td>10</td>\n",
       "      <td>5196000.0</td>\n",
       "      <td>56.0</td>\n",
       "      <td>2015-08-20</td>\n",
       "      <td>2</td>\n",
       "      <td>2.65</td>\n",
       "      <td>5.0</td>\n",
       "      <td>34.3</td>\n",
       "      <td>4</td>\n",
       "      <td>False</td>\n",
       "      <td>...</td>\n",
       "      <td>2.0</td>\n",
       "      <td>574.0</td>\n",
       "      <td>558.0</td>\n",
       "      <td>92785.71</td>\n",
       "      <td>3</td>\n",
       "      <td>8</td>\n",
       "      <td>2015</td>\n",
       "      <td>14.0</td>\n",
       "      <td>другой</td>\n",
       "      <td>5.2</td>\n",
       "    </tr>\n",
       "    <tr>\n",
       "      <th>3</th>\n",
       "      <td>0</td>\n",
       "      <td>64900000.0</td>\n",
       "      <td>159.0</td>\n",
       "      <td>2015-07-24</td>\n",
       "      <td>3</td>\n",
       "      <td>2.65</td>\n",
       "      <td>14.0</td>\n",
       "      <td>45.0</td>\n",
       "      <td>9</td>\n",
       "      <td>False</td>\n",
       "      <td>...</td>\n",
       "      <td>3.0</td>\n",
       "      <td>234.0</td>\n",
       "      <td>424.0</td>\n",
       "      <td>408176.10</td>\n",
       "      <td>4</td>\n",
       "      <td>7</td>\n",
       "      <td>2015</td>\n",
       "      <td>7.0</td>\n",
       "      <td>другой</td>\n",
       "      <td>64.9</td>\n",
       "    </tr>\n",
       "    <tr>\n",
       "      <th>5</th>\n",
       "      <td>10</td>\n",
       "      <td>2890000.0</td>\n",
       "      <td>30.4</td>\n",
       "      <td>2018-09-10</td>\n",
       "      <td>1</td>\n",
       "      <td>2.65</td>\n",
       "      <td>12.0</td>\n",
       "      <td>14.4</td>\n",
       "      <td>5</td>\n",
       "      <td>False</td>\n",
       "      <td>...</td>\n",
       "      <td>NaN</td>\n",
       "      <td>NaN</td>\n",
       "      <td>55.0</td>\n",
       "      <td>95065.79</td>\n",
       "      <td>0</td>\n",
       "      <td>9</td>\n",
       "      <td>2018</td>\n",
       "      <td>NaN</td>\n",
       "      <td>другой</td>\n",
       "      <td>2.9</td>\n",
       "    </tr>\n",
       "  </tbody>\n",
       "</table>\n",
       "<p>5 rows × 29 columns</p>\n",
       "</div>"
      ],
      "text/plain": [
       "   total_images  last_price  total_area first_day_exposition  rooms  \\\n",
       "0            20  13000000.0       108.0           2019-03-07      3   \n",
       "1             7   3350000.0        40.4           2018-12-04      1   \n",
       "2            10   5196000.0        56.0           2015-08-20      2   \n",
       "3             0  64900000.0       159.0           2015-07-24      3   \n",
       "5            10   2890000.0        30.4           2018-09-10      1   \n",
       "\n",
       "   ceiling_height  floors_total  living_area  floor  is_apartment  ...  \\\n",
       "0            2.70          16.0         51.0      8         False  ...   \n",
       "1            2.65          11.0         18.6      1         False  ...   \n",
       "2            2.65           5.0         34.3      4         False  ...   \n",
       "3            2.65          14.0         45.0      9         False  ...   \n",
       "5            2.65          12.0         14.4      5         False  ...   \n",
       "\n",
       "   ponds_around3000  ponds_nearest  days_exposition     cost_m  \\\n",
       "0               2.0          755.0              NaN  120370.37   \n",
       "1               0.0            NaN             81.0   82920.79   \n",
       "2               2.0          574.0            558.0   92785.71   \n",
       "3               3.0          234.0            424.0  408176.10   \n",
       "5               NaN            NaN             55.0   95065.79   \n",
       "\n",
       "  weekday_exposition  month_exposition  year_exposition  city_centers_km  \\\n",
       "0                  3                 3             2019             16.0   \n",
       "1                  1                12             2018             19.0   \n",
       "2                  3                 8             2015             14.0   \n",
       "3                  4                 7             2015              7.0   \n",
       "5                  0                 9             2018              NaN   \n",
       "\n",
       "   type_floor  price_mln  \n",
       "0      другой       13.0  \n",
       "1      первый        3.4  \n",
       "2      другой        5.2  \n",
       "3      другой       64.9  \n",
       "5      другой        2.9  \n",
       "\n",
       "[5 rows x 29 columns]"
      ]
     },
     "execution_count": 26,
     "metadata": {},
     "output_type": "execute_result"
    }
   ],
   "source": [
    "new_data['price_mln'] = round(new_data['last_price']/1000000, 1)\n",
    "new_data.head()"
   ]
  },
  {
   "cell_type": "code",
   "execution_count": 27,
   "metadata": {},
   "outputs": [
    {
     "data": {
      "text/plain": [
       "array([  0.4,   0.5,   0.6,   0.7,   0.8,   0.9,   1. ,   1.1,   1.2,\n",
       "         1.3,   1.4,   1.5,   1.6,   1.7,   1.8,   1.9,   2. ,   2.1,\n",
       "         2.2,   2.3,   2.4,   2.5,   2.6,   2.7,   2.8,   2.9,   3. ,\n",
       "         3.1,   3.2,   3.3,   3.4,   3.5,   3.6,   3.7,   3.8,   3.9,\n",
       "         4. ,   4.1,   4.2,   4.3,   4.4,   4.5,   4.6,   4.7,   4.8,\n",
       "         4.9,   5. ,   5.1,   5.2,   5.3,   5.4,   5.5,   5.6,   5.7,\n",
       "         5.8,   5.9,   6. ,   6.1,   6.2,   6.3,   6.4,   6.5,   6.6,\n",
       "         6.7,   6.8,   6.9,   7. ,   7.1,   7.2,   7.3,   7.4,   7.5,\n",
       "         7.6,   7.7,   7.8,   7.9,   8. ,   8.1,   8.2,   8.3,   8.4,\n",
       "         8.5,   8.6,   8.7,   8.8,   8.9,   9. ,   9.1,   9.2,   9.3,\n",
       "         9.4,   9.5,   9.6,   9.7,   9.8,   9.9,  10. ,  10.1,  10.2,\n",
       "        10.3,  10.4,  10.5,  10.6,  10.7,  10.8,  10.9,  11. ,  11.1,\n",
       "        11.2,  11.3,  11.4,  11.5,  11.6,  11.7,  11.8,  11.9,  12. ,\n",
       "        12.1,  12.2,  12.3,  12.4,  12.5,  12.6,  12.7,  12.8,  12.9,\n",
       "        13. ,  13.1,  13.2,  13.3,  13.4,  13.5,  13.6,  13.7,  13.8,\n",
       "        13.9,  14. ,  14.1,  14.2,  14.3,  14.4,  14.5,  14.6,  14.7,\n",
       "        14.8,  14.9,  15. ,  15.1,  15.2,  15.3,  15.4,  15.5,  15.6,\n",
       "        15.7,  15.8,  15.9,  16. ,  16.1,  16.2,  16.3,  16.4,  16.5,\n",
       "        16.6,  16.7,  16.8,  16.9,  17. ,  17.1,  17.2,  17.3,  17.4,\n",
       "        17.5,  17.6,  17.7,  17.8,  17.9,  18. ,  18.1,  18.2,  18.3,\n",
       "        18.4,  18.5,  18.6,  18.7,  18.8,  18.9,  19. ,  19.2,  19.3,\n",
       "        19.4,  19.5,  19.6,  19.7,  19.8,  19.9,  20. ,  20.1,  20.3,\n",
       "        20.4,  20.5,  20.6,  20.7,  20.8,  20.9,  21. ,  21.1,  21.2,\n",
       "        21.3,  21.4,  21.5,  21.6,  21.7,  21.8,  21.9,  22. ,  22.1,\n",
       "        22.2,  22.3,  22.4,  22.5,  22.6,  22.7,  22.8,  22.9,  23. ,\n",
       "        23.2,  23.3,  23.4,  23.5,  23.6,  23.7,  23.8,  23.9,  24. ,\n",
       "        24.4,  24.5,  24.7,  24.8,  24.9,  25. ,  25.2,  25.3,  25.4,\n",
       "        25.5,  25.6,  25.7,  25.8,  25.9,  26. ,  26.1,  26.3,  26.4,\n",
       "        26.5,  26.6,  26.8,  26.9,  27. ,  27.2,  27.3,  27.4,  27.5,\n",
       "        27.6,  27.8,  27.9,  28. ,  28.1,  28.2,  28.5,  28.6,  28.7,\n",
       "        28.8,  29. ,  29.2,  29.4,  29.5,  29.8,  29.9,  30. ,  30.5,\n",
       "        30.6,  30.9,  31. ,  31.1,  31.5,  31.6,  31.8,  32. ,  32.1,\n",
       "        32.2,  32.3,  32.5,  32.6,  33. ,  33.3,  33.4,  33.5,  33.8,\n",
       "        34. ,  34.3,  34.5,  34.6,  34.9,  35. ,  35.1,  35.3,  35.5,\n",
       "        35.9,  36. ,  36.5,  36.7,  36.8,  37. ,  37.2,  37.3,  37.5,\n",
       "        37.8,  37.9,  38. ,  38.6,  39. ,  39.9,  40. ,  40.5,  40.7,\n",
       "        41.5,  42. ,  42.7,  43. ,  43.5,  43.9,  44. ,  44.5,  45.9,\n",
       "        46. ,  46.4,  47. ,  47.5,  47.7,  48. ,  48.8,  49. ,  49.8,\n",
       "        49.9,  50. ,  50.8,  51. ,  53. ,  53.8,  54. ,  55.8,  56. ,\n",
       "        57.9,  58.5,  59. ,  59.5,  60.3,  61. ,  62.3,  63.9,  64.9,\n",
       "        65. ,  65.1,  66.5,  67. ,  68. ,  68.5,  72.4,  75. ,  77. ,\n",
       "        77.3,  77.6,  79. ,  79.3,  82. ,  83.8,  85. ,  86.7,  90. ,\n",
       "        95. ,  98. , 119. , 124. , 124.4, 130. , 140. , 150. , 160. ])"
      ]
     },
     "metadata": {},
     "output_type": "display_data"
    },
    {
     "data": {
      "text/plain": [
       "<Axes: >"
      ]
     },
     "metadata": {},
     "output_type": "display_data"
    },
    {
     "data": {
      "image/png": "[encoded data removed]",
      "text/plain": [
       "<Figure size 400x400 with 1 Axes>"
      ]
     },
     "metadata": {},
     "output_type": "display_data"
    }
   ],
   "source": [
    "display(new_data['price_mln'].sort_values().unique())\n",
    "display(new_data['price_mln'].hist(figsize=(4,4)))\n",
    "plt.title('price_mln')\n",
    "plt.show()"
   ]
  },
  {
   "cell_type": "markdown",
   "metadata": {},
   "source": [
    "Текущие данные оставлем без изменений, тк на стоимость влияют большое количество факторов."
   ]
  },
  {
   "cell_type": "code",
   "execution_count": 28,
   "metadata": {},
   "outputs": [
    {
     "data": {
      "text/plain": [
       "array([ 0,  1,  2,  3,  4,  5,  6,  7,  8,  9, 10, 11, 14], dtype=int64)"
      ]
     },
     "metadata": {},
     "output_type": "display_data"
    },
    {
     "data": {
      "text/plain": [
       "<Axes: >"
      ]
     },
     "metadata": {},
     "output_type": "display_data"
    },
    {
     "data": {
      "image/png": "[encoded data removed]",
      "text/plain": [
       "<Figure size 400x400 with 1 Axes>"
      ]
     },
     "metadata": {},
     "output_type": "display_data"
    }
   ],
   "source": [
    "display(new_data['rooms'].sort_values().unique())\n",
    "display(new_data['rooms'].hist(figsize=(4, 4)))\n",
    "plt.title('rooms')\n",
    "plt.show()"
   ]
  },
  {
   "cell_type": "markdown",
   "metadata": {},
   "source": [
    "Значения также не корректируем, 0 скорее всего это студии.   \n",
    "Изучим данные в столбце \"ceiling_height\""
   ]
  },
  {
   "cell_type": "code",
   "execution_count": 29,
   "metadata": {},
   "outputs": [
    {
     "data": {
      "text/plain": [
       "array([  1.  ,   1.2 ,   1.75,   2.  ,   2.2 ,   2.25,   2.3 ,   2.34,\n",
       "         2.4 ,   2.45,   2.46,   2.47,   2.48,   2.49,   2.5 ,   2.51,\n",
       "         2.52,   2.53,   2.54,   2.55,   2.56,   2.57,   2.58,   2.59,\n",
       "         2.6 ,   2.61,   2.62,   2.63,   2.64,   2.65,   2.66,   2.67,\n",
       "         2.68,   2.69,   2.7 ,   2.71,   2.72,   2.73,   2.74,   2.75,\n",
       "         2.76,   2.77,   2.78,   2.79,   2.8 ,   2.81,   2.82,   2.83,\n",
       "         2.84,   2.85,   2.86,   2.87,   2.88,   2.89,   2.9 ,   2.91,\n",
       "         2.92,   2.93,   2.94,   2.95,   2.96,   2.97,   2.98,   2.99,\n",
       "         3.  ,   3.01,   3.02,   3.03,   3.04,   3.05,   3.06,   3.07,\n",
       "         3.08,   3.09,   3.1 ,   3.11,   3.12,   3.13,   3.14,   3.15,\n",
       "         3.16,   3.17,   3.18,   3.2 ,   3.21,   3.22,   3.23,   3.24,\n",
       "         3.25,   3.26,   3.27,   3.28,   3.29,   3.3 ,   3.31,   3.32,\n",
       "         3.33,   3.34,   3.35,   3.36,   3.37,   3.38,   3.39,   3.4 ,\n",
       "         3.42,   3.43,   3.44,   3.45,   3.46,   3.47,   3.48,   3.49,\n",
       "         3.5 ,   3.51,   3.52,   3.53,   3.54,   3.55,   3.56,   3.57,\n",
       "         3.58,   3.59,   3.6 ,   3.62,   3.63,   3.65,   3.66,   3.67,\n",
       "         3.69,   3.7 ,   3.75,   3.78,   3.8 ,   3.83,   3.84,   3.85,\n",
       "         3.86,   3.87,   3.88,   3.9 ,   3.93,   3.95,   3.98,   4.  ,\n",
       "         4.06,   4.1 ,   4.14,   4.15,   4.19,   4.2 ,   4.25,   4.3 ,\n",
       "         4.37,   4.4 ,   4.45,   4.5 ,   4.7 ,   4.8 ,   5.  ,   5.3 ,\n",
       "         5.5 ,   5.8 ,   6.  ,   8.  ,   8.3 ,  10.3 ,  14.  ,  20.  ,\n",
       "        22.6 ,  24.  ,  25.  ,  26.  ,  27.  ,  27.5 ,  32.  , 100.  ])"
      ]
     },
     "metadata": {},
     "output_type": "display_data"
    },
    {
     "data": {
      "text/plain": [
       "<Axes: >"
      ]
     },
     "metadata": {},
     "output_type": "display_data"
    },
    {
     "data": {
      "image/png": "[encoded data removed]",
      "text/plain": [
       "<Figure size 400x400 with 1 Axes>"
      ]
     },
     "metadata": {},
     "output_type": "display_data"
    }
   ],
   "source": [
    "display(new_data['ceiling_height'].sort_values().unique()) \n",
    "display(new_data['ceiling_height'].hist(bins=30, figsize=(4,4)))\n",
    "plt.title('ceiling_height')\n",
    "plt.show()"
   ]
  },
  {
   "cell_type": "markdown",
   "metadata": {},
   "source": [
    "Некоторые виды элитной недвижимости могут предполагать высоту потолков до 10м (3х уровневая недвижимость), оставляем данные до высоты потолка 3.5м.  \n",
    "Недвижимость высотой от 24 до 32 могли быть записаны некорректно (без запятой), разделим эти данные на 10, чтобы перевести в метры.  \n",
    "100м недвижимость убираем из данных, чтобы не влияли на корректность в дальнейшем анализе.  \n",
    "Высоту потолков до 2.4м также удаляем."
   ]
  },
  {
   "cell_type": "code",
   "execution_count": 30,
   "metadata": {},
   "outputs": [
    {
     "data": {
      "text/plain": [
       "array([2.4 , 2.45, 2.46, 2.47, 2.48, 2.49, 2.5 , 2.51, 2.52, 2.53, 2.54,\n",
       "       2.55, 2.56, 2.57, 2.58, 2.59, 2.6 , 2.61, 2.62, 2.63, 2.64, 2.65,\n",
       "       2.66, 2.67, 2.68, 2.69, 2.7 , 2.71, 2.72, 2.73, 2.74, 2.75, 2.76,\n",
       "       2.77, 2.78, 2.79, 2.8 , 2.81, 2.82, 2.83, 2.84, 2.85, 2.86, 2.87,\n",
       "       2.88, 2.89, 2.9 , 2.91, 2.92, 2.93, 2.94, 2.95, 2.96, 2.97, 2.98,\n",
       "       2.99, 3.  , 3.01, 3.02, 3.03, 3.04, 3.05, 3.06, 3.07, 3.08, 3.09,\n",
       "       3.1 , 3.11, 3.12, 3.13, 3.14, 3.15, 3.16, 3.17, 3.18, 3.2 , 3.21,\n",
       "       3.22, 3.23, 3.24, 3.25, 3.26, 3.27, 3.28, 3.29, 3.3 , 3.31, 3.32,\n",
       "       3.33, 3.34, 3.35, 3.36, 3.37, 3.38, 3.39, 3.4 , 3.42, 3.43, 3.44,\n",
       "       3.45, 3.46, 3.47, 3.48, 3.49, 3.5 ])"
      ]
     },
     "metadata": {},
     "output_type": "display_data"
    },
    {
     "data": {
      "text/plain": [
       "<Axes: >"
      ]
     },
     "metadata": {},
     "output_type": "display_data"
    },
    {
     "data": {
      "image/png": "[encoded data removed]",
      "text/plain": [
       "<Figure size 400x400 with 1 Axes>"
      ]
     },
     "metadata": {},
     "output_type": "display_data"
    }
   ],
   "source": [
    "new_data.loc[new_data['ceiling_height'].between(24, 32), 'ceiling_height'] = new_data.loc[new_data['ceiling_height'].between(24, 32), 'ceiling_height'] / 10\n",
    "new_data = new_data.query('ceiling_height <=3.5 and ceiling_height >=2.4')\n",
    "display(new_data['ceiling_height'].sort_values().unique()) \n",
    "display(new_data['ceiling_height'].hist(bins=30, figsize=(4,4)))\n",
    "plt.title('ceiling_height')\n",
    "plt.show()"
   ]
  },
  {
   "cell_type": "markdown",
   "metadata": {},
   "source": [
    "Рассмотрим столбец \"floors_total\"."
   ]
  },
  {
   "cell_type": "code",
   "execution_count": 31,
   "metadata": {},
   "outputs": [
    {
     "data": {
      "text/plain": [
       "array([ 1.,  2.,  3.,  4.,  5.,  6.,  7.,  8.,  9., 10., 11., 12., 13.,\n",
       "       14., 15., 16., 17., 18., 19., 20., 21., 22., 23., 24., 25., 26.,\n",
       "       27., 28., 29., 33., 34., 35., 36., 52., 60., nan])"
      ]
     },
     "metadata": {},
     "output_type": "display_data"
    },
    {
     "data": {
      "text/plain": [
       "<Axes: >"
      ]
     },
     "metadata": {},
     "output_type": "display_data"
    },
    {
     "data": {
      "image/png": "[encoded data removed]",
      "text/plain": [
       "<Figure size 400x400 with 1 Axes>"
      ]
     },
     "metadata": {},
     "output_type": "display_data"
    }
   ],
   "source": [
    "display(new_data['floors_total'].sort_values().unique()) \n",
    "display(new_data['floors_total'].hist(bins=30, figsize=(4,4)))\n",
    "plt.title('ceiling_height')\n",
    "plt.show()"
   ]
  },
  {
   "cell_type": "markdown",
   "metadata": {},
   "source": [
    "В России самое большое многоэтажное здание в 87 этажей находится в Санкт-Петербурге, поэтому максимальный этаж в 52 и 60 имеет место быть.  \n",
    "Изучим столбцы \"cityCenters_nearest\" и \"parks_nearest\"."
   ]
  },
  {
   "cell_type": "code",
   "execution_count": 32,
   "metadata": {},
   "outputs": [
    {
     "data": {
      "text/plain": [
       "array([[<Axes: title={'center': 'cityCenters_nearest'}>,\n",
       "        <Axes: title={'center': 'parks_nearest'}>]], dtype=object)"
      ]
     },
     "metadata": {},
     "output_type": "display_data"
    },
    {
     "data": {
      "image/png": "[encoded data removed]",
      "text/plain": [
       "<Figure size 600x600 with 2 Axes>"
      ]
     },
     "metadata": {},
     "output_type": "display_data"
    }
   ],
   "source": [
    "display(new_data[['cityCenters_nearest', 'parks_nearest']].hist(bins=30, figsize=(6,6)))\n"
   ]
  },
  {
   "cell_type": "markdown",
   "metadata": {},
   "source": [
    "В данных много недвижимости в посёлках, в связи с этим могут быть данные с большим расстоянием до центра города.  \n",
    "Данные оставляем без корректировок."
   ]
  },
  {
   "cell_type": "markdown",
   "metadata": {},
   "source": [
    "### Изучим, как быстро продавались квартиры."
   ]
  },
  {
   "cell_type": "markdown",
   "metadata": {},
   "source": [
    "Проанализируем столбец \"days_exposition\", который показывает количество дней публикации объявления и построим график."
   ]
  },
  {
   "cell_type": "code",
   "execution_count": 33,
   "metadata": {},
   "outputs": [
    {
     "data": {
      "image/png": "[encoded data removed]",
      "text/plain": [
       "<Figure size 400x400 with 1 Axes>"
      ]
     },
     "metadata": {},
     "output_type": "display_data"
    }
   ],
   "source": [
    "new_data['days_exposition'].hist(bins=30, figsize=(4,4))\n",
    "plt.title('days_exposition')\n",
    "plt.show()"
   ]
  },
  {
   "cell_type": "markdown",
   "metadata": {},
   "source": [
    "На графике есть аномально низкие и высокие значения, рассмотрим их подробнее"
   ]
  },
  {
   "cell_type": "code",
   "execution_count": 34,
   "metadata": {
    "scrolled": true
   },
   "outputs": [
    {
     "data": {
      "text/plain": [
       "<Axes: >"
      ]
     },
     "metadata": {},
     "output_type": "display_data"
    },
    {
     "data": {
      "image/png": "[encoded data removed]",
      "text/plain": [
       "<Figure size 400x400 with 1 Axes>"
      ]
     },
     "metadata": {},
     "output_type": "display_data"
    }
   ],
   "source": [
    "display(new_data['days_exposition'].hist(figsize=(4,4), range=(0, 50)))\n",
    "plt.title('days_exposition')\n",
    "plt.show()"
   ]
  },
  {
   "cell_type": "markdown",
   "metadata": {},
   "source": [
    "На графике имеются данные, равные 0 дням в публикации. Возможно эти объявления выложили и закрыли сразу, тк данные были некорректны, либо площадка продажи удалила публикацию в связи с нарушением условий публикации.  \n",
    "Причинами удалений могут являться мошеннические действия, публикация нескольких объявлений одной и тоже недвижимости, либо другие причины.\n",
    "В связи с этим удаляем объявления до 1 дня в публикации."
   ]
  },
  {
   "cell_type": "code",
   "execution_count": 35,
   "metadata": {},
   "outputs": [
    {
     "data": {
      "image/png": "[encoded data removed]",
      "text/plain": [
       "<Figure size 400x400 with 1 Axes>"
      ]
     },
     "metadata": {},
     "output_type": "display_data"
    }
   ],
   "source": [
    "new_data= new_data.query('days_exposition >=1')\n",
    "new_data['days_exposition'].hist(bins=30, figsize=(4,4))\n",
    "plt.title('days_exposition')\n",
    "plt.show()"
   ]
  },
  {
   "cell_type": "markdown",
   "metadata": {},
   "source": [
    "Найдём среднее и медианной значений по данному столбцу и округлим среднее до целого значения."
   ]
  },
  {
   "cell_type": "code",
   "execution_count": 36,
   "metadata": {},
   "outputs": [
    {
     "name": "stdout",
     "output_type": "stream",
     "text": [
      "Среднее количество дней продажи недвижимости: 178.0\n",
      "Медианое количество дней продажи недвижимости: 94.0\n"
     ]
    }
   ],
   "source": [
    "days_exposition_mean = round(new_data['days_exposition'].mean(), 0)\n",
    "days_exposition_median = new_data['days_exposition'].median()\n",
    "print('Среднее количество дней продажи недвижимости:', days_exposition_mean)\n",
    "print('Медианое количество дней продажи недвижимости:', days_exposition_median)"
   ]
  },
  {
   "cell_type": "code",
   "execution_count": 37,
   "metadata": {},
   "outputs": [
    {
     "data": {
      "image/png": "[encoded data removed]",
      "text/plain": [
       "<Figure size 400x400 with 1 Axes>"
      ]
     },
     "metadata": {},
     "output_type": "display_data"
    }
   ],
   "source": [
    "new_data['days_exposition'].hist(figsize=(4,4), range=(1, 90))\n",
    "plt.title('days_exposition')\n",
    "plt.show()"
   ]
  },
  {
   "cell_type": "markdown",
   "metadata": {},
   "source": [
    "Исходя из полученных данных в среднем на продажу недвижимости уходит 178 дней (6 месяцев).  \n",
    "Быстрыми продажами могут считаться от 1 до 60 дней. Причинами данных продаж может стать выкуп недвижимости агенствами недвижимости, также некоторые площадки предлагают выкуп квартиры своими силами за короткий срок.\n",
    "\n"
   ]
  },
  {
   "cell_type": "code",
   "execution_count": 38,
   "metadata": {},
   "outputs": [
    {
     "data": {
      "image/png": "[encoded data removed]",
      "text/plain": [
       "<Figure size 400x400 with 1 Axes>"
      ]
     },
     "metadata": {},
     "output_type": "display_data"
    }
   ],
   "source": [
    "new_data['days_exposition'].hist(figsize=(4,4), range=(360, 1500))\n",
    "plt.title('days_exposition')\n",
    "plt.show()"
   ]
  },
  {
   "cell_type": "markdown",
   "metadata": {},
   "source": [
    "Проанализировав данный график мы  можем сделать вывод, что сверхдолгими продажами недвижимости могут считаться свыше 700 дней (почти 2 года).  \n",
    "Причинами подобных длительных продаж могут стать:\n",
    "- далекое местоположение от города (посёлки);\n",
    "- элитная недвижимость с высокой стоимостью и большой квадратурой;\n",
    "- завышенная стоимость квартиры, по сравнению;\n",
    "- плохое состояние недвижимости и многие другие факторы."
   ]
  },
  {
   "cell_type": "markdown",
   "metadata": {},
   "source": [
    "### Найдём факторы, которые больше всего влияют на общую (полную) стоимость объекта."
   ]
  },
  {
   "cell_type": "markdown",
   "metadata": {},
   "source": [
    "Найдём зависимость цены от общей площади недвижимости.  \n",
    "Для этого создадим новый столбец на 8 категорий общей площади:\n",
    "- от 100м и более;\n",
    "- от 70 до 100м;\n",
    "- от 60 до 70м;\n",
    "- от 50 до 60м;\n",
    "- от 40 до 50м;\n",
    "- от 30 до 40м;\n",
    "- от 20 до 30м;\n",
    "- от 12 до 20м."
   ]
  },
  {
   "cell_type": "code",
   "execution_count": 39,
   "metadata": {
    "scrolled": true
   },
   "outputs": [
    {
     "data": {
      "text/html": [
       "<div>\n",
       "<style scoped>\n",
       "    .dataframe tbody tr th:only-of-type {\n",
       "        vertical-align: middle;\n",
       "    }\n",
       "\n",
       "    .dataframe tbody tr th {\n",
       "        vertical-align: top;\n",
       "    }\n",
       "\n",
       "    .dataframe thead th {\n",
       "        text-align: right;\n",
       "    }\n",
       "</style>\n",
       "<table border=\"1\" class=\"dataframe\">\n",
       "  <thead>\n",
       "    <tr style=\"text-align: right;\">\n",
       "      <th></th>\n",
       "      <th>total_images</th>\n",
       "      <th>last_price</th>\n",
       "      <th>total_area</th>\n",
       "      <th>first_day_exposition</th>\n",
       "      <th>rooms</th>\n",
       "      <th>ceiling_height</th>\n",
       "      <th>floors_total</th>\n",
       "      <th>living_area</th>\n",
       "      <th>floor</th>\n",
       "      <th>is_apartment</th>\n",
       "      <th>...</th>\n",
       "      <th>ponds_nearest</th>\n",
       "      <th>days_exposition</th>\n",
       "      <th>cost_m</th>\n",
       "      <th>weekday_exposition</th>\n",
       "      <th>month_exposition</th>\n",
       "      <th>year_exposition</th>\n",
       "      <th>city_centers_km</th>\n",
       "      <th>type_floor</th>\n",
       "      <th>price_mln</th>\n",
       "      <th>total_area_group</th>\n",
       "    </tr>\n",
       "  </thead>\n",
       "  <tbody>\n",
       "    <tr>\n",
       "      <th>1</th>\n",
       "      <td>7</td>\n",
       "      <td>3350000.0</td>\n",
       "      <td>40.4</td>\n",
       "      <td>2018-12-04</td>\n",
       "      <td>1</td>\n",
       "      <td>2.65</td>\n",
       "      <td>11.0</td>\n",
       "      <td>18.6</td>\n",
       "      <td>1</td>\n",
       "      <td>False</td>\n",
       "      <td>...</td>\n",
       "      <td>NaN</td>\n",
       "      <td>81.0</td>\n",
       "      <td>82920.79</td>\n",
       "      <td>1</td>\n",
       "      <td>12</td>\n",
       "      <td>2018</td>\n",
       "      <td>19.0</td>\n",
       "      <td>первый</td>\n",
       "      <td>3.4</td>\n",
       "      <td>от 40 до 50м</td>\n",
       "    </tr>\n",
       "    <tr>\n",
       "      <th>2</th>\n",
       "      <td>10</td>\n",
       "      <td>5196000.0</td>\n",
       "      <td>56.0</td>\n",
       "      <td>2015-08-20</td>\n",
       "      <td>2</td>\n",
       "      <td>2.65</td>\n",
       "      <td>5.0</td>\n",
       "      <td>34.3</td>\n",
       "      <td>4</td>\n",
       "      <td>False</td>\n",
       "      <td>...</td>\n",
       "      <td>574.0</td>\n",
       "      <td>558.0</td>\n",
       "      <td>92785.71</td>\n",
       "      <td>3</td>\n",
       "      <td>8</td>\n",
       "      <td>2015</td>\n",
       "      <td>14.0</td>\n",
       "      <td>другой</td>\n",
       "      <td>5.2</td>\n",
       "      <td>от 50 до 60м</td>\n",
       "    </tr>\n",
       "    <tr>\n",
       "      <th>3</th>\n",
       "      <td>0</td>\n",
       "      <td>64900000.0</td>\n",
       "      <td>159.0</td>\n",
       "      <td>2015-07-24</td>\n",
       "      <td>3</td>\n",
       "      <td>2.65</td>\n",
       "      <td>14.0</td>\n",
       "      <td>45.0</td>\n",
       "      <td>9</td>\n",
       "      <td>False</td>\n",
       "      <td>...</td>\n",
       "      <td>234.0</td>\n",
       "      <td>424.0</td>\n",
       "      <td>408176.10</td>\n",
       "      <td>4</td>\n",
       "      <td>7</td>\n",
       "      <td>2015</td>\n",
       "      <td>7.0</td>\n",
       "      <td>другой</td>\n",
       "      <td>64.9</td>\n",
       "      <td>от 100 и более</td>\n",
       "    </tr>\n",
       "    <tr>\n",
       "      <th>5</th>\n",
       "      <td>10</td>\n",
       "      <td>2890000.0</td>\n",
       "      <td>30.4</td>\n",
       "      <td>2018-09-10</td>\n",
       "      <td>1</td>\n",
       "      <td>2.65</td>\n",
       "      <td>12.0</td>\n",
       "      <td>14.4</td>\n",
       "      <td>5</td>\n",
       "      <td>False</td>\n",
       "      <td>...</td>\n",
       "      <td>NaN</td>\n",
       "      <td>55.0</td>\n",
       "      <td>95065.79</td>\n",
       "      <td>0</td>\n",
       "      <td>9</td>\n",
       "      <td>2018</td>\n",
       "      <td>NaN</td>\n",
       "      <td>другой</td>\n",
       "      <td>2.9</td>\n",
       "      <td>от 30 до 40м</td>\n",
       "    </tr>\n",
       "    <tr>\n",
       "      <th>6</th>\n",
       "      <td>6</td>\n",
       "      <td>3700000.0</td>\n",
       "      <td>37.3</td>\n",
       "      <td>2017-11-02</td>\n",
       "      <td>1</td>\n",
       "      <td>2.65</td>\n",
       "      <td>26.0</td>\n",
       "      <td>10.6</td>\n",
       "      <td>6</td>\n",
       "      <td>False</td>\n",
       "      <td>...</td>\n",
       "      <td>NaN</td>\n",
       "      <td>155.0</td>\n",
       "      <td>99195.71</td>\n",
       "      <td>3</td>\n",
       "      <td>11</td>\n",
       "      <td>2017</td>\n",
       "      <td>19.0</td>\n",
       "      <td>другой</td>\n",
       "      <td>3.7</td>\n",
       "      <td>от 30 до 40м</td>\n",
       "    </tr>\n",
       "  </tbody>\n",
       "</table>\n",
       "<p>5 rows × 30 columns</p>\n",
       "</div>"
      ],
      "text/plain": [
       "   total_images  last_price  total_area first_day_exposition  rooms  \\\n",
       "1             7   3350000.0        40.4           2018-12-04      1   \n",
       "2            10   5196000.0        56.0           2015-08-20      2   \n",
       "3             0  64900000.0       159.0           2015-07-24      3   \n",
       "5            10   2890000.0        30.4           2018-09-10      1   \n",
       "6             6   3700000.0        37.3           2017-11-02      1   \n",
       "\n",
       "   ceiling_height  floors_total  living_area  floor  is_apartment  ...  \\\n",
       "1            2.65          11.0         18.6      1         False  ...   \n",
       "2            2.65           5.0         34.3      4         False  ...   \n",
       "3            2.65          14.0         45.0      9         False  ...   \n",
       "5            2.65          12.0         14.4      5         False  ...   \n",
       "6            2.65          26.0         10.6      6         False  ...   \n",
       "\n",
       "   ponds_nearest  days_exposition     cost_m  weekday_exposition  \\\n",
       "1            NaN             81.0   82920.79                   1   \n",
       "2          574.0            558.0   92785.71                   3   \n",
       "3          234.0            424.0  408176.10                   4   \n",
       "5            NaN             55.0   95065.79                   0   \n",
       "6            NaN            155.0   99195.71                   3   \n",
       "\n",
       "  month_exposition  year_exposition  city_centers_km  type_floor  price_mln  \\\n",
       "1               12             2018             19.0      первый        3.4   \n",
       "2                8             2015             14.0      другой        5.2   \n",
       "3                7             2015              7.0      другой       64.9   \n",
       "5                9             2018              NaN      другой        2.9   \n",
       "6               11             2017             19.0      другой        3.7   \n",
       "\n",
       "   total_area_group  \n",
       "1      от 40 до 50м  \n",
       "2      от 50 до 60м  \n",
       "3    от 100 и более  \n",
       "5      от 30 до 40м  \n",
       "6      от 30 до 40м  \n",
       "\n",
       "[5 rows x 30 columns]"
      ]
     },
     "execution_count": 39,
     "metadata": {},
     "output_type": "execute_result"
    }
   ],
   "source": [
    "def area(meters):\n",
    "    if meters > 100:\n",
    "        return 'от 100 и более'\n",
    "    if meters > 70:\n",
    "        return 'от 70 до 100м'\n",
    "    if meters > 60:\n",
    "        return 'от 60 до 70м'\n",
    "    if meters > 50:\n",
    "        return 'от 50 до 60м'\n",
    "    if meters > 40:\n",
    "        return 'от 40 до 50м'   \n",
    "    if meters > 30:\n",
    "        return 'от 30 до 40м'\n",
    "    if meters > 20:\n",
    "        return 'от 20 до 30м'\n",
    "    else:\n",
    "        return'от 12 до 20м'\n",
    "new_data['total_area_group'] = new_data['total_area'].apply(area)\n",
    "new_data.head()"
   ]
  },
  {
   "cell_type": "code",
   "execution_count": 40,
   "metadata": {},
   "outputs": [
    {
     "data": {
      "text/html": [
       "<div>\n",
       "<style scoped>\n",
       "    .dataframe tbody tr th:only-of-type {\n",
       "        vertical-align: middle;\n",
       "    }\n",
       "\n",
       "    .dataframe tbody tr th {\n",
       "        vertical-align: top;\n",
       "    }\n",
       "\n",
       "    .dataframe thead th {\n",
       "        text-align: right;\n",
       "    }\n",
       "</style>\n",
       "<table border=\"1\" class=\"dataframe\">\n",
       "  <thead>\n",
       "    <tr style=\"text-align: right;\">\n",
       "      <th></th>\n",
       "      <th>price_mln</th>\n",
       "    </tr>\n",
       "    <tr>\n",
       "      <th>total_area_group</th>\n",
       "      <th></th>\n",
       "    </tr>\n",
       "  </thead>\n",
       "  <tbody>\n",
       "    <tr>\n",
       "      <th>от 12 до 20м</th>\n",
       "      <td>1.98</td>\n",
       "    </tr>\n",
       "    <tr>\n",
       "      <th>от 20 до 30м</th>\n",
       "      <td>2.73</td>\n",
       "    </tr>\n",
       "    <tr>\n",
       "      <th>от 30 до 40м</th>\n",
       "      <td>3.40</td>\n",
       "    </tr>\n",
       "    <tr>\n",
       "      <th>от 40 до 50м</th>\n",
       "      <td>4.04</td>\n",
       "    </tr>\n",
       "    <tr>\n",
       "      <th>от 50 до 60м</th>\n",
       "      <td>4.91</td>\n",
       "    </tr>\n",
       "    <tr>\n",
       "      <th>от 60 до 70м</th>\n",
       "      <td>6.05</td>\n",
       "    </tr>\n",
       "    <tr>\n",
       "      <th>от 70 до 100м</th>\n",
       "      <td>8.24</td>\n",
       "    </tr>\n",
       "    <tr>\n",
       "      <th>от 100 и более</th>\n",
       "      <td>18.02</td>\n",
       "    </tr>\n",
       "  </tbody>\n",
       "</table>\n",
       "</div>"
      ],
      "text/plain": [
       "                  price_mln\n",
       "total_area_group           \n",
       "от 12 до 20м           1.98\n",
       "от 20 до 30м           2.73\n",
       "от 30 до 40м           3.40\n",
       "от 40 до 50м           4.04\n",
       "от 50 до 60м           4.91\n",
       "от 60 до 70м           6.05\n",
       "от 70 до 100м          8.24\n",
       "от 100 и более        18.02"
      ]
     },
     "execution_count": 40,
     "metadata": {},
     "output_type": "execute_result"
    }
   ],
   "source": [
    "price_total_area_group = round(new_data.pivot_table(index='total_area_group', values='price_mln', aggfunc='mean').sort_values(by='price_mln'), 2)\n",
    "price_total_area_group"
   ]
  },
  {
   "cell_type": "markdown",
   "metadata": {},
   "source": [
    "Проанализировав полученные данные мы можем сделать вывод, что общая площадь влияет на итогую стоимость квартиры.  \n",
    "Стоимость квартиры увеличивается от площади квартиры - чем выше общая площадь, тем выше цена."
   ]
  },
  {
   "cell_type": "markdown",
   "metadata": {},
   "source": [
    "Найдём зависимость цены от жилой площади недвижимости.  \n",
    "Для этого создадим новый столбец на 8 категорий жилой площади:\n",
    "- от 100м и более;\n",
    "- от 70 до 100м;\n",
    "- от 60 до 70м;\n",
    "- от 50 до 60м;\n",
    "- от 40 до 50м;\n",
    "- от 30 до 40м;\n",
    "- от 20 до 30м;\n",
    "- от 10 до 20м."
   ]
  },
  {
   "cell_type": "code",
   "execution_count": 41,
   "metadata": {},
   "outputs": [
    {
     "data": {
      "text/html": [
       "<div>\n",
       "<style scoped>\n",
       "    .dataframe tbody tr th:only-of-type {\n",
       "        vertical-align: middle;\n",
       "    }\n",
       "\n",
       "    .dataframe tbody tr th {\n",
       "        vertical-align: top;\n",
       "    }\n",
       "\n",
       "    .dataframe thead th {\n",
       "        text-align: right;\n",
       "    }\n",
       "</style>\n",
       "<table border=\"1\" class=\"dataframe\">\n",
       "  <thead>\n",
       "    <tr style=\"text-align: right;\">\n",
       "      <th></th>\n",
       "      <th>total_images</th>\n",
       "      <th>last_price</th>\n",
       "      <th>total_area</th>\n",
       "      <th>first_day_exposition</th>\n",
       "      <th>rooms</th>\n",
       "      <th>ceiling_height</th>\n",
       "      <th>floors_total</th>\n",
       "      <th>living_area</th>\n",
       "      <th>floor</th>\n",
       "      <th>is_apartment</th>\n",
       "      <th>...</th>\n",
       "      <th>days_exposition</th>\n",
       "      <th>cost_m</th>\n",
       "      <th>weekday_exposition</th>\n",
       "      <th>month_exposition</th>\n",
       "      <th>year_exposition</th>\n",
       "      <th>city_centers_km</th>\n",
       "      <th>type_floor</th>\n",
       "      <th>price_mln</th>\n",
       "      <th>total_area_group</th>\n",
       "      <th>living_area_group</th>\n",
       "    </tr>\n",
       "  </thead>\n",
       "  <tbody>\n",
       "    <tr>\n",
       "      <th>1</th>\n",
       "      <td>7</td>\n",
       "      <td>3350000.0</td>\n",
       "      <td>40.4</td>\n",
       "      <td>2018-12-04</td>\n",
       "      <td>1</td>\n",
       "      <td>2.65</td>\n",
       "      <td>11.0</td>\n",
       "      <td>18.6</td>\n",
       "      <td>1</td>\n",
       "      <td>False</td>\n",
       "      <td>...</td>\n",
       "      <td>81.0</td>\n",
       "      <td>82920.79</td>\n",
       "      <td>1</td>\n",
       "      <td>12</td>\n",
       "      <td>2018</td>\n",
       "      <td>19.0</td>\n",
       "      <td>первый</td>\n",
       "      <td>3.4</td>\n",
       "      <td>от 40 до 50м</td>\n",
       "      <td>от 10 до 20м</td>\n",
       "    </tr>\n",
       "    <tr>\n",
       "      <th>2</th>\n",
       "      <td>10</td>\n",
       "      <td>5196000.0</td>\n",
       "      <td>56.0</td>\n",
       "      <td>2015-08-20</td>\n",
       "      <td>2</td>\n",
       "      <td>2.65</td>\n",
       "      <td>5.0</td>\n",
       "      <td>34.3</td>\n",
       "      <td>4</td>\n",
       "      <td>False</td>\n",
       "      <td>...</td>\n",
       "      <td>558.0</td>\n",
       "      <td>92785.71</td>\n",
       "      <td>3</td>\n",
       "      <td>8</td>\n",
       "      <td>2015</td>\n",
       "      <td>14.0</td>\n",
       "      <td>другой</td>\n",
       "      <td>5.2</td>\n",
       "      <td>от 50 до 60м</td>\n",
       "      <td>от 30 до 40м</td>\n",
       "    </tr>\n",
       "    <tr>\n",
       "      <th>3</th>\n",
       "      <td>0</td>\n",
       "      <td>64900000.0</td>\n",
       "      <td>159.0</td>\n",
       "      <td>2015-07-24</td>\n",
       "      <td>3</td>\n",
       "      <td>2.65</td>\n",
       "      <td>14.0</td>\n",
       "      <td>45.0</td>\n",
       "      <td>9</td>\n",
       "      <td>False</td>\n",
       "      <td>...</td>\n",
       "      <td>424.0</td>\n",
       "      <td>408176.10</td>\n",
       "      <td>4</td>\n",
       "      <td>7</td>\n",
       "      <td>2015</td>\n",
       "      <td>7.0</td>\n",
       "      <td>другой</td>\n",
       "      <td>64.9</td>\n",
       "      <td>от 100 и более</td>\n",
       "      <td>от 40 до 50м</td>\n",
       "    </tr>\n",
       "    <tr>\n",
       "      <th>5</th>\n",
       "      <td>10</td>\n",
       "      <td>2890000.0</td>\n",
       "      <td>30.4</td>\n",
       "      <td>2018-09-10</td>\n",
       "      <td>1</td>\n",
       "      <td>2.65</td>\n",
       "      <td>12.0</td>\n",
       "      <td>14.4</td>\n",
       "      <td>5</td>\n",
       "      <td>False</td>\n",
       "      <td>...</td>\n",
       "      <td>55.0</td>\n",
       "      <td>95065.79</td>\n",
       "      <td>0</td>\n",
       "      <td>9</td>\n",
       "      <td>2018</td>\n",
       "      <td>NaN</td>\n",
       "      <td>другой</td>\n",
       "      <td>2.9</td>\n",
       "      <td>от 30 до 40м</td>\n",
       "      <td>от 10 до 20м</td>\n",
       "    </tr>\n",
       "    <tr>\n",
       "      <th>6</th>\n",
       "      <td>6</td>\n",
       "      <td>3700000.0</td>\n",
       "      <td>37.3</td>\n",
       "      <td>2017-11-02</td>\n",
       "      <td>1</td>\n",
       "      <td>2.65</td>\n",
       "      <td>26.0</td>\n",
       "      <td>10.6</td>\n",
       "      <td>6</td>\n",
       "      <td>False</td>\n",
       "      <td>...</td>\n",
       "      <td>155.0</td>\n",
       "      <td>99195.71</td>\n",
       "      <td>3</td>\n",
       "      <td>11</td>\n",
       "      <td>2017</td>\n",
       "      <td>19.0</td>\n",
       "      <td>другой</td>\n",
       "      <td>3.7</td>\n",
       "      <td>от 30 до 40м</td>\n",
       "      <td>от 10 до 20м</td>\n",
       "    </tr>\n",
       "  </tbody>\n",
       "</table>\n",
       "<p>5 rows × 31 columns</p>\n",
       "</div>"
      ],
      "text/plain": [
       "   total_images  last_price  total_area first_day_exposition  rooms  \\\n",
       "1             7   3350000.0        40.4           2018-12-04      1   \n",
       "2            10   5196000.0        56.0           2015-08-20      2   \n",
       "3             0  64900000.0       159.0           2015-07-24      3   \n",
       "5            10   2890000.0        30.4           2018-09-10      1   \n",
       "6             6   3700000.0        37.3           2017-11-02      1   \n",
       "\n",
       "   ceiling_height  floors_total  living_area  floor  is_apartment  ...  \\\n",
       "1            2.65          11.0         18.6      1         False  ...   \n",
       "2            2.65           5.0         34.3      4         False  ...   \n",
       "3            2.65          14.0         45.0      9         False  ...   \n",
       "5            2.65          12.0         14.4      5         False  ...   \n",
       "6            2.65          26.0         10.6      6         False  ...   \n",
       "\n",
       "   days_exposition     cost_m  weekday_exposition  month_exposition  \\\n",
       "1             81.0   82920.79                   1                12   \n",
       "2            558.0   92785.71                   3                 8   \n",
       "3            424.0  408176.10                   4                 7   \n",
       "5             55.0   95065.79                   0                 9   \n",
       "6            155.0   99195.71                   3                11   \n",
       "\n",
       "  year_exposition  city_centers_km  type_floor  price_mln  total_area_group  \\\n",
       "1            2018             19.0      первый        3.4      от 40 до 50м   \n",
       "2            2015             14.0      другой        5.2      от 50 до 60м   \n",
       "3            2015              7.0      другой       64.9    от 100 и более   \n",
       "5            2018              NaN      другой        2.9      от 30 до 40м   \n",
       "6            2017             19.0      другой        3.7      от 30 до 40м   \n",
       "\n",
       "   living_area_group  \n",
       "1       от 10 до 20м  \n",
       "2       от 30 до 40м  \n",
       "3       от 40 до 50м  \n",
       "5       от 10 до 20м  \n",
       "6       от 10 до 20м  \n",
       "\n",
       "[5 rows x 31 columns]"
      ]
     },
     "execution_count": 41,
     "metadata": {},
     "output_type": "execute_result"
    }
   ],
   "source": [
    "def living_group(meters):\n",
    "    if meters > 100:\n",
    "        return 'от 100 от 150м'\n",
    "    if meters > 70:\n",
    "        return 'от 70 до 100м'\n",
    "    if meters > 60:\n",
    "        return 'от 60 до 70м'\n",
    "    if meters > 50:\n",
    "        return 'от 50 до 60м'\n",
    "    if meters > 40:\n",
    "        return 'от 40 до 50м'   \n",
    "    if meters > 30:\n",
    "        return 'от 30 до 40м'\n",
    "    if meters > 20:\n",
    "        return 'от 20 до 30м'\n",
    "    else:\n",
    "        return'от 10 до 20м'\n",
    "new_data['living_area_group'] = new_data['living_area'].apply(living_group)\n",
    "new_data.head()"
   ]
  },
  {
   "cell_type": "code",
   "execution_count": 42,
   "metadata": {},
   "outputs": [
    {
     "data": {
      "text/html": [
       "<div>\n",
       "<style scoped>\n",
       "    .dataframe tbody tr th:only-of-type {\n",
       "        vertical-align: middle;\n",
       "    }\n",
       "\n",
       "    .dataframe tbody tr th {\n",
       "        vertical-align: top;\n",
       "    }\n",
       "\n",
       "    .dataframe thead th {\n",
       "        text-align: right;\n",
       "    }\n",
       "</style>\n",
       "<table border=\"1\" class=\"dataframe\">\n",
       "  <thead>\n",
       "    <tr style=\"text-align: right;\">\n",
       "      <th></th>\n",
       "      <th>price_mln</th>\n",
       "    </tr>\n",
       "    <tr>\n",
       "      <th>living_area_group</th>\n",
       "      <th></th>\n",
       "    </tr>\n",
       "  </thead>\n",
       "  <tbody>\n",
       "    <tr>\n",
       "      <th>от 10 до 20м</th>\n",
       "      <td>3.63</td>\n",
       "    </tr>\n",
       "    <tr>\n",
       "      <th>от 20 до 30м</th>\n",
       "      <td>4.27</td>\n",
       "    </tr>\n",
       "    <tr>\n",
       "      <th>от 30 до 40м</th>\n",
       "      <td>5.58</td>\n",
       "    </tr>\n",
       "    <tr>\n",
       "      <th>от 40 до 50м</th>\n",
       "      <td>6.58</td>\n",
       "    </tr>\n",
       "    <tr>\n",
       "      <th>от 50 до 60м</th>\n",
       "      <td>9.60</td>\n",
       "    </tr>\n",
       "    <tr>\n",
       "      <th>от 60 до 70м</th>\n",
       "      <td>12.14</td>\n",
       "    </tr>\n",
       "    <tr>\n",
       "      <th>от 70 до 100м</th>\n",
       "      <td>17.52</td>\n",
       "    </tr>\n",
       "    <tr>\n",
       "      <th>от 100 от 150м</th>\n",
       "      <td>25.87</td>\n",
       "    </tr>\n",
       "  </tbody>\n",
       "</table>\n",
       "</div>"
      ],
      "text/plain": [
       "                   price_mln\n",
       "living_area_group           \n",
       "от 10 до 20м            3.63\n",
       "от 20 до 30м            4.27\n",
       "от 30 до 40м            5.58\n",
       "от 40 до 50м            6.58\n",
       "от 50 до 60м            9.60\n",
       "от 60 до 70м           12.14\n",
       "от 70 до 100м          17.52\n",
       "от 100 от 150м         25.87"
      ]
     },
     "execution_count": 42,
     "metadata": {},
     "output_type": "execute_result"
    }
   ],
   "source": [
    "price_living_area_group = round(new_data.pivot_table(index='living_area_group', values='price_mln', aggfunc='mean').sort_values(by='price_mln'), 2)\n",
    "price_living_area_group"
   ]
  },
  {
   "cell_type": "markdown",
   "metadata": {},
   "source": [
    "Проанализировав полученные данные мы также видим, что на стоимость недвижимости напрямую влияет жилая площадь, как и общая жилая площадь."
   ]
  },
  {
   "cell_type": "markdown",
   "metadata": {},
   "source": [
    "Найдём зависимость цены от жилой площади недвижимости.  \n",
    "Для этого создадим новый столбец на 8 категорий площади кухни:\n",
    "- от 30 до 35;\n",
    "- от 25 до 30м;\n",
    "- от 20 до 25м;\n",
    "- от 17 до 20м;\n",
    "- от 13 до 17м;\n",
    "- от 10 до 13м;\n",
    "- от 7 до 10м;\n",
    "- от 3 до 7м."
   ]
  },
  {
   "cell_type": "code",
   "execution_count": 43,
   "metadata": {},
   "outputs": [
    {
     "data": {
      "text/html": [
       "<div>\n",
       "<style scoped>\n",
       "    .dataframe tbody tr th:only-of-type {\n",
       "        vertical-align: middle;\n",
       "    }\n",
       "\n",
       "    .dataframe tbody tr th {\n",
       "        vertical-align: top;\n",
       "    }\n",
       "\n",
       "    .dataframe thead th {\n",
       "        text-align: right;\n",
       "    }\n",
       "</style>\n",
       "<table border=\"1\" class=\"dataframe\">\n",
       "  <thead>\n",
       "    <tr style=\"text-align: right;\">\n",
       "      <th></th>\n",
       "      <th>total_images</th>\n",
       "      <th>last_price</th>\n",
       "      <th>total_area</th>\n",
       "      <th>first_day_exposition</th>\n",
       "      <th>rooms</th>\n",
       "      <th>ceiling_height</th>\n",
       "      <th>floors_total</th>\n",
       "      <th>living_area</th>\n",
       "      <th>floor</th>\n",
       "      <th>is_apartment</th>\n",
       "      <th>...</th>\n",
       "      <th>cost_m</th>\n",
       "      <th>weekday_exposition</th>\n",
       "      <th>month_exposition</th>\n",
       "      <th>year_exposition</th>\n",
       "      <th>city_centers_km</th>\n",
       "      <th>type_floor</th>\n",
       "      <th>price_mln</th>\n",
       "      <th>total_area_group</th>\n",
       "      <th>living_area_group</th>\n",
       "      <th>kitchen_area_group</th>\n",
       "    </tr>\n",
       "  </thead>\n",
       "  <tbody>\n",
       "    <tr>\n",
       "      <th>1</th>\n",
       "      <td>7</td>\n",
       "      <td>3350000.0</td>\n",
       "      <td>40.4</td>\n",
       "      <td>2018-12-04</td>\n",
       "      <td>1</td>\n",
       "      <td>2.65</td>\n",
       "      <td>11.0</td>\n",
       "      <td>18.6</td>\n",
       "      <td>1</td>\n",
       "      <td>False</td>\n",
       "      <td>...</td>\n",
       "      <td>82920.79</td>\n",
       "      <td>1</td>\n",
       "      <td>12</td>\n",
       "      <td>2018</td>\n",
       "      <td>19.0</td>\n",
       "      <td>первый</td>\n",
       "      <td>3.4</td>\n",
       "      <td>от 40 до 50м</td>\n",
       "      <td>от 10 до 20м</td>\n",
       "      <td>от 10 до 13м</td>\n",
       "    </tr>\n",
       "    <tr>\n",
       "      <th>2</th>\n",
       "      <td>10</td>\n",
       "      <td>5196000.0</td>\n",
       "      <td>56.0</td>\n",
       "      <td>2015-08-20</td>\n",
       "      <td>2</td>\n",
       "      <td>2.65</td>\n",
       "      <td>5.0</td>\n",
       "      <td>34.3</td>\n",
       "      <td>4</td>\n",
       "      <td>False</td>\n",
       "      <td>...</td>\n",
       "      <td>92785.71</td>\n",
       "      <td>3</td>\n",
       "      <td>8</td>\n",
       "      <td>2015</td>\n",
       "      <td>14.0</td>\n",
       "      <td>другой</td>\n",
       "      <td>5.2</td>\n",
       "      <td>от 50 до 60м</td>\n",
       "      <td>от 30 до 40м</td>\n",
       "      <td>от 7 до 10м</td>\n",
       "    </tr>\n",
       "    <tr>\n",
       "      <th>3</th>\n",
       "      <td>0</td>\n",
       "      <td>64900000.0</td>\n",
       "      <td>159.0</td>\n",
       "      <td>2015-07-24</td>\n",
       "      <td>3</td>\n",
       "      <td>2.65</td>\n",
       "      <td>14.0</td>\n",
       "      <td>45.0</td>\n",
       "      <td>9</td>\n",
       "      <td>False</td>\n",
       "      <td>...</td>\n",
       "      <td>408176.10</td>\n",
       "      <td>4</td>\n",
       "      <td>7</td>\n",
       "      <td>2015</td>\n",
       "      <td>7.0</td>\n",
       "      <td>другой</td>\n",
       "      <td>64.9</td>\n",
       "      <td>от 100 и более</td>\n",
       "      <td>от 40 до 50м</td>\n",
       "      <td>от 7 до 10м</td>\n",
       "    </tr>\n",
       "    <tr>\n",
       "      <th>5</th>\n",
       "      <td>10</td>\n",
       "      <td>2890000.0</td>\n",
       "      <td>30.4</td>\n",
       "      <td>2018-09-10</td>\n",
       "      <td>1</td>\n",
       "      <td>2.65</td>\n",
       "      <td>12.0</td>\n",
       "      <td>14.4</td>\n",
       "      <td>5</td>\n",
       "      <td>False</td>\n",
       "      <td>...</td>\n",
       "      <td>95065.79</td>\n",
       "      <td>0</td>\n",
       "      <td>9</td>\n",
       "      <td>2018</td>\n",
       "      <td>NaN</td>\n",
       "      <td>другой</td>\n",
       "      <td>2.9</td>\n",
       "      <td>от 30 до 40м</td>\n",
       "      <td>от 10 до 20м</td>\n",
       "      <td>от 7 до 10м</td>\n",
       "    </tr>\n",
       "    <tr>\n",
       "      <th>6</th>\n",
       "      <td>6</td>\n",
       "      <td>3700000.0</td>\n",
       "      <td>37.3</td>\n",
       "      <td>2017-11-02</td>\n",
       "      <td>1</td>\n",
       "      <td>2.65</td>\n",
       "      <td>26.0</td>\n",
       "      <td>10.6</td>\n",
       "      <td>6</td>\n",
       "      <td>False</td>\n",
       "      <td>...</td>\n",
       "      <td>99195.71</td>\n",
       "      <td>3</td>\n",
       "      <td>11</td>\n",
       "      <td>2017</td>\n",
       "      <td>19.0</td>\n",
       "      <td>другой</td>\n",
       "      <td>3.7</td>\n",
       "      <td>от 30 до 40м</td>\n",
       "      <td>от 10 до 20м</td>\n",
       "      <td>от 13 до 17м</td>\n",
       "    </tr>\n",
       "  </tbody>\n",
       "</table>\n",
       "<p>5 rows × 32 columns</p>\n",
       "</div>"
      ],
      "text/plain": [
       "   total_images  last_price  total_area first_day_exposition  rooms  \\\n",
       "1             7   3350000.0        40.4           2018-12-04      1   \n",
       "2            10   5196000.0        56.0           2015-08-20      2   \n",
       "3             0  64900000.0       159.0           2015-07-24      3   \n",
       "5            10   2890000.0        30.4           2018-09-10      1   \n",
       "6             6   3700000.0        37.3           2017-11-02      1   \n",
       "\n",
       "   ceiling_height  floors_total  living_area  floor  is_apartment  ...  \\\n",
       "1            2.65          11.0         18.6      1         False  ...   \n",
       "2            2.65           5.0         34.3      4         False  ...   \n",
       "3            2.65          14.0         45.0      9         False  ...   \n",
       "5            2.65          12.0         14.4      5         False  ...   \n",
       "6            2.65          26.0         10.6      6         False  ...   \n",
       "\n",
       "      cost_m  weekday_exposition  month_exposition  year_exposition  \\\n",
       "1   82920.79                   1                12             2018   \n",
       "2   92785.71                   3                 8             2015   \n",
       "3  408176.10                   4                 7             2015   \n",
       "5   95065.79                   0                 9             2018   \n",
       "6   99195.71                   3                11             2017   \n",
       "\n",
       "  city_centers_km  type_floor  price_mln  total_area_group  living_area_group  \\\n",
       "1            19.0      первый        3.4      от 40 до 50м       от 10 до 20м   \n",
       "2            14.0      другой        5.2      от 50 до 60м       от 30 до 40м   \n",
       "3             7.0      другой       64.9    от 100 и более       от 40 до 50м   \n",
       "5             NaN      другой        2.9      от 30 до 40м       от 10 до 20м   \n",
       "6            19.0      другой        3.7      от 30 до 40м       от 10 до 20м   \n",
       "\n",
       "   kitchen_area_group  \n",
       "1        от 10 до 13м  \n",
       "2         от 7 до 10м  \n",
       "3         от 7 до 10м  \n",
       "5         от 7 до 10м  \n",
       "6        от 13 до 17м  \n",
       "\n",
       "[5 rows x 32 columns]"
      ]
     },
     "execution_count": 43,
     "metadata": {},
     "output_type": "execute_result"
    }
   ],
   "source": [
    "def kitchen_area_group(meters):\n",
    "    if meters > 30:\n",
    "        return 'от 30 до 35'\n",
    "    if meters > 25:\n",
    "        return 'от 25 до 30м'\n",
    "    if meters > 20:\n",
    "        return 'от 20 до 25м'\n",
    "    if meters > 17:\n",
    "        return 'от 17 до 20м'\n",
    "    if meters > 13:\n",
    "        return 'от 13 до 17м'   \n",
    "    if meters > 10:\n",
    "        return 'от 10 до 13м'\n",
    "    if meters > 7:\n",
    "        return 'от 7 до 10м'\n",
    "    else:\n",
    "        return'от 3 до 7м'\n",
    "new_data['kitchen_area_group'] = new_data['kitchen_area'].apply(kitchen_area_group)\n",
    "new_data.head()"
   ]
  },
  {
   "cell_type": "code",
   "execution_count": 44,
   "metadata": {},
   "outputs": [
    {
     "data": {
      "text/html": [
       "<div>\n",
       "<style scoped>\n",
       "    .dataframe tbody tr th:only-of-type {\n",
       "        vertical-align: middle;\n",
       "    }\n",
       "\n",
       "    .dataframe tbody tr th {\n",
       "        vertical-align: top;\n",
       "    }\n",
       "\n",
       "    .dataframe thead th {\n",
       "        text-align: right;\n",
       "    }\n",
       "</style>\n",
       "<table border=\"1\" class=\"dataframe\">\n",
       "  <thead>\n",
       "    <tr style=\"text-align: right;\">\n",
       "      <th></th>\n",
       "      <th>price_mln</th>\n",
       "    </tr>\n",
       "    <tr>\n",
       "      <th>living_area_group</th>\n",
       "      <th></th>\n",
       "    </tr>\n",
       "  </thead>\n",
       "  <tbody>\n",
       "    <tr>\n",
       "      <th>от 10 до 20м</th>\n",
       "      <td>3.63</td>\n",
       "    </tr>\n",
       "    <tr>\n",
       "      <th>от 20 до 30м</th>\n",
       "      <td>4.27</td>\n",
       "    </tr>\n",
       "    <tr>\n",
       "      <th>от 30 до 40м</th>\n",
       "      <td>5.58</td>\n",
       "    </tr>\n",
       "    <tr>\n",
       "      <th>от 40 до 50м</th>\n",
       "      <td>6.58</td>\n",
       "    </tr>\n",
       "    <tr>\n",
       "      <th>от 50 до 60м</th>\n",
       "      <td>9.60</td>\n",
       "    </tr>\n",
       "    <tr>\n",
       "      <th>от 60 до 70м</th>\n",
       "      <td>12.14</td>\n",
       "    </tr>\n",
       "    <tr>\n",
       "      <th>от 70 до 100м</th>\n",
       "      <td>17.52</td>\n",
       "    </tr>\n",
       "    <tr>\n",
       "      <th>от 100 от 150м</th>\n",
       "      <td>25.87</td>\n",
       "    </tr>\n",
       "  </tbody>\n",
       "</table>\n",
       "</div>"
      ],
      "text/plain": [
       "                   price_mln\n",
       "living_area_group           \n",
       "от 10 до 20м            3.63\n",
       "от 20 до 30м            4.27\n",
       "от 30 до 40м            5.58\n",
       "от 40 до 50м            6.58\n",
       "от 50 до 60м            9.60\n",
       "от 60 до 70м           12.14\n",
       "от 70 до 100м          17.52\n",
       "от 100 от 150м         25.87"
      ]
     },
     "execution_count": 44,
     "metadata": {},
     "output_type": "execute_result"
    }
   ],
   "source": [
    "price_kitchen_area_group = round(new_data.pivot_table(index='kitchen_area', values='price_mln', aggfunc='mean').sort_values(by='price_mln'), 2)\n",
    "price_living_area_group"
   ]
  },
  {
   "cell_type": "markdown",
   "metadata": {},
   "source": [
    "Исходя из графика выше мы видим, что площадь кухни влияет на стоимость недвижимости, но нельзя утверждать данную гипотезу, тк с увеличением общей площади увеличивается и площадь кухни, которая напрямую влияет на стоимость.  \n",
    "Данная гипотеза находится под сомнением."
   ]
  },
  {
   "cell_type": "markdown",
   "metadata": {
    "scrolled": true
   },
   "source": [
    "Найдём зависимость цены от количества комнат.  "
   ]
  },
  {
   "cell_type": "code",
   "execution_count": 45,
   "metadata": {},
   "outputs": [
    {
     "data": {
      "text/html": [
       "<div>\n",
       "<style scoped>\n",
       "    .dataframe tbody tr th:only-of-type {\n",
       "        vertical-align: middle;\n",
       "    }\n",
       "\n",
       "    .dataframe tbody tr th {\n",
       "        vertical-align: top;\n",
       "    }\n",
       "\n",
       "    .dataframe thead th {\n",
       "        text-align: right;\n",
       "    }\n",
       "</style>\n",
       "<table border=\"1\" class=\"dataframe\">\n",
       "  <thead>\n",
       "    <tr style=\"text-align: right;\">\n",
       "      <th></th>\n",
       "      <th>price_mln</th>\n",
       "    </tr>\n",
       "    <tr>\n",
       "      <th>rooms</th>\n",
       "      <th></th>\n",
       "    </tr>\n",
       "  </thead>\n",
       "  <tbody>\n",
       "    <tr>\n",
       "      <th>0</th>\n",
       "      <td>2.94</td>\n",
       "    </tr>\n",
       "    <tr>\n",
       "      <th>1</th>\n",
       "      <td>3.76</td>\n",
       "    </tr>\n",
       "    <tr>\n",
       "      <th>2</th>\n",
       "      <td>5.29</td>\n",
       "    </tr>\n",
       "    <tr>\n",
       "      <th>3</th>\n",
       "      <td>7.40</td>\n",
       "    </tr>\n",
       "    <tr>\n",
       "      <th>4</th>\n",
       "      <td>11.13</td>\n",
       "    </tr>\n",
       "    <tr>\n",
       "      <th>10</th>\n",
       "      <td>15.50</td>\n",
       "    </tr>\n",
       "    <tr>\n",
       "      <th>5</th>\n",
       "      <td>16.31</td>\n",
       "    </tr>\n",
       "    <tr>\n",
       "      <th>9</th>\n",
       "      <td>17.00</td>\n",
       "    </tr>\n",
       "    <tr>\n",
       "      <th>6</th>\n",
       "      <td>20.03</td>\n",
       "    </tr>\n",
       "    <tr>\n",
       "      <th>7</th>\n",
       "      <td>22.21</td>\n",
       "    </tr>\n",
       "    <tr>\n",
       "      <th>14</th>\n",
       "      <td>28.70</td>\n",
       "    </tr>\n",
       "    <tr>\n",
       "      <th>11</th>\n",
       "      <td>33.00</td>\n",
       "    </tr>\n",
       "    <tr>\n",
       "      <th>8</th>\n",
       "      <td>44.88</td>\n",
       "    </tr>\n",
       "  </tbody>\n",
       "</table>\n",
       "</div>"
      ],
      "text/plain": [
       "       price_mln\n",
       "rooms           \n",
       "0           2.94\n",
       "1           3.76\n",
       "2           5.29\n",
       "3           7.40\n",
       "4          11.13\n",
       "10         15.50\n",
       "5          16.31\n",
       "9          17.00\n",
       "6          20.03\n",
       "7          22.21\n",
       "14         28.70\n",
       "11         33.00\n",
       "8          44.88"
      ]
     },
     "execution_count": 45,
     "metadata": {},
     "output_type": "execute_result"
    }
   ],
   "source": [
    "price_rooms = round(new_data.pivot_table(index='rooms', values='price_mln', aggfunc='mean').sort_values(by='price_mln'), 2)\n",
    "price_rooms"
   ]
  },
  {
   "cell_type": "markdown",
   "metadata": {},
   "source": [
    "Проанализировав полученные данные мы может придти к выводу, что количество комнат напрямую не влияет на стоимость недвижимости.  \n",
    "К примеру, 10 комнатная стоит дешевле 5,9,6,7 и 8 комнатных, а 14 и 11 стоит дешевле 8 комнатной.  "
   ]
  },
  {
   "cell_type": "code",
   "execution_count": 46,
   "metadata": {},
   "outputs": [
    {
     "data": {
      "text/html": [
       "<div>\n",
       "<style scoped>\n",
       "    .dataframe tbody tr th:only-of-type {\n",
       "        vertical-align: middle;\n",
       "    }\n",
       "\n",
       "    .dataframe tbody tr th {\n",
       "        vertical-align: top;\n",
       "    }\n",
       "\n",
       "    .dataframe thead th {\n",
       "        text-align: right;\n",
       "    }\n",
       "</style>\n",
       "<table border=\"1\" class=\"dataframe\">\n",
       "  <thead>\n",
       "    <tr style=\"text-align: right;\">\n",
       "      <th></th>\n",
       "      <th>price_mln</th>\n",
       "    </tr>\n",
       "    <tr>\n",
       "      <th>type_floor</th>\n",
       "      <th></th>\n",
       "    </tr>\n",
       "  </thead>\n",
       "  <tbody>\n",
       "    <tr>\n",
       "      <th>первый</th>\n",
       "      <td>4.35</td>\n",
       "    </tr>\n",
       "    <tr>\n",
       "      <th>последний</th>\n",
       "      <td>5.43</td>\n",
       "    </tr>\n",
       "    <tr>\n",
       "      <th>другой</th>\n",
       "      <td>5.87</td>\n",
       "    </tr>\n",
       "  </tbody>\n",
       "</table>\n",
       "</div>"
      ],
      "text/plain": [
       "            price_mln\n",
       "type_floor           \n",
       "первый           4.35\n",
       "последний        5.43\n",
       "другой           5.87"
      ]
     },
     "execution_count": 46,
     "metadata": {},
     "output_type": "execute_result"
    }
   ],
   "source": [
    "price_type = round(new_data.pivot_table(index='type_floor', values='price_mln', aggfunc='mean').sort_values(by='price_mln'), 2)\n",
    "price_type"
   ]
  },
  {
   "cell_type": "markdown",
   "metadata": {},
   "source": [
    "Исходя из таблицы выше мы можем сделать вывод, что тип этажа, на которой располагается недвижимость, влияет на стоимость квартиры.  \n",
    "Самой дешевыми являются квартиры, располагающиеся на первом этаже (в среднем дешевле на 1.08 млн, по сравнению с последним этажем), затем идут на последнем этаже (в среднем дешевле на 0.44 млн, по сравнению с \"другими\").  \n",
    "Корректность этих выводов можно поставить под сомнение, тк недвижимость, располагаемая на первом этаже, может находиться в посёлках и деревнях, где стоимость недвижимости ниже, что могло повлиять на корректность полученных данных."
   ]
  },
  {
   "cell_type": "markdown",
   "metadata": {},
   "source": [
    "Найдём зависимость цены от дня публикации объявления.  "
   ]
  },
  {
   "cell_type": "code",
   "execution_count": 47,
   "metadata": {
    "scrolled": true
   },
   "outputs": [
    {
     "data": {
      "text/html": [
       "<div>\n",
       "<style scoped>\n",
       "    .dataframe tbody tr th:only-of-type {\n",
       "        vertical-align: middle;\n",
       "    }\n",
       "\n",
       "    .dataframe tbody tr th {\n",
       "        vertical-align: top;\n",
       "    }\n",
       "\n",
       "    .dataframe thead th {\n",
       "        text-align: right;\n",
       "    }\n",
       "</style>\n",
       "<table border=\"1\" class=\"dataframe\">\n",
       "  <thead>\n",
       "    <tr style=\"text-align: right;\">\n",
       "      <th></th>\n",
       "      <th>price_mln</th>\n",
       "    </tr>\n",
       "    <tr>\n",
       "      <th>weekday_exposition</th>\n",
       "      <th></th>\n",
       "    </tr>\n",
       "  </thead>\n",
       "  <tbody>\n",
       "    <tr>\n",
       "      <th>6</th>\n",
       "      <td>5.46</td>\n",
       "    </tr>\n",
       "    <tr>\n",
       "      <th>0</th>\n",
       "      <td>5.50</td>\n",
       "    </tr>\n",
       "    <tr>\n",
       "      <th>4</th>\n",
       "      <td>5.54</td>\n",
       "    </tr>\n",
       "    <tr>\n",
       "      <th>1</th>\n",
       "      <td>5.64</td>\n",
       "    </tr>\n",
       "    <tr>\n",
       "      <th>2</th>\n",
       "      <td>5.65</td>\n",
       "    </tr>\n",
       "    <tr>\n",
       "      <th>5</th>\n",
       "      <td>5.67</td>\n",
       "    </tr>\n",
       "    <tr>\n",
       "      <th>3</th>\n",
       "      <td>5.81</td>\n",
       "    </tr>\n",
       "  </tbody>\n",
       "</table>\n",
       "</div>"
      ],
      "text/plain": [
       "                    price_mln\n",
       "weekday_exposition           \n",
       "6                        5.46\n",
       "0                        5.50\n",
       "4                        5.54\n",
       "1                        5.64\n",
       "2                        5.65\n",
       "5                        5.67\n",
       "3                        5.81"
      ]
     },
     "execution_count": 47,
     "metadata": {},
     "output_type": "execute_result"
    }
   ],
   "source": [
    "price_weekday = round(new_data.pivot_table(index='weekday_exposition', values='price_mln', aggfunc='mean').sort_values(by='price_mln'), 2)\n",
    "price_weekday"
   ]
  },
  {
   "cell_type": "markdown",
   "metadata": {},
   "source": [
    "Проанализировав полученные данные мы можем сделать вывод, что день публикации никак не влияет на стоимость недвижимости, тк значения во всех днях недели колеблятся от 5.46 до 5.81 млн."
   ]
  },
  {
   "cell_type": "markdown",
   "metadata": {},
   "source": [
    "### Посчитаем среднюю цену одного квадратного метра в 10 населённых пунктах с наибольшим числом объявлений. Выделим населённые пункты с самой высокой и низкой стоимостью квадратного метра."
   ]
  },
  {
   "cell_type": "markdown",
   "metadata": {},
   "source": [
    "Найдём среднюю цену одного квадратного метра в 10 населённых пунктах с наибольшим числом объявлений."
   ]
  },
  {
   "cell_type": "code",
   "execution_count": 48,
   "metadata": {},
   "outputs": [
    {
     "data": {
      "text/html": [
       "<div>\n",
       "<style scoped>\n",
       "    .dataframe tbody tr th:only-of-type {\n",
       "        vertical-align: middle;\n",
       "    }\n",
       "\n",
       "    .dataframe tbody tr th {\n",
       "        vertical-align: top;\n",
       "    }\n",
       "\n",
       "    .dataframe thead th {\n",
       "        text-align: right;\n",
       "    }\n",
       "</style>\n",
       "<table border=\"1\" class=\"dataframe\">\n",
       "  <thead>\n",
       "    <tr style=\"text-align: right;\">\n",
       "      <th></th>\n",
       "      <th>avg_square_meter</th>\n",
       "    </tr>\n",
       "    <tr>\n",
       "      <th>locality_name</th>\n",
       "      <th></th>\n",
       "    </tr>\n",
       "  </thead>\n",
       "  <tbody>\n",
       "    <tr>\n",
       "      <th>Зеленогорск</th>\n",
       "      <td>111332.29</td>\n",
       "    </tr>\n",
       "    <tr>\n",
       "      <th>Санкт-Петербург</th>\n",
       "      <td>109861.95</td>\n",
       "    </tr>\n",
       "    <tr>\n",
       "      <th>Пушкин</th>\n",
       "      <td>101315.58</td>\n",
       "    </tr>\n",
       "    <tr>\n",
       "      <th>Сестрорецк</th>\n",
       "      <td>101282.03</td>\n",
       "    </tr>\n",
       "    <tr>\n",
       "      <th>поселок Лисий Нос</th>\n",
       "      <td>100661.00</td>\n",
       "    </tr>\n",
       "    <tr>\n",
       "      <th>Кудрово</th>\n",
       "      <td>98507.94</td>\n",
       "    </tr>\n",
       "    <tr>\n",
       "      <th>поселок Левашово</th>\n",
       "      <td>96998.00</td>\n",
       "    </tr>\n",
       "    <tr>\n",
       "      <th>деревня Мистолово</th>\n",
       "      <td>96157.22</td>\n",
       "    </tr>\n",
       "    <tr>\n",
       "      <th>деревня Кудрово</th>\n",
       "      <td>92542.29</td>\n",
       "    </tr>\n",
       "    <tr>\n",
       "      <th>поселок Парголово</th>\n",
       "      <td>89505.02</td>\n",
       "    </tr>\n",
       "  </tbody>\n",
       "</table>\n",
       "</div>"
      ],
      "text/plain": [
       "                   avg_square_meter\n",
       "locality_name                      \n",
       "Зеленогорск               111332.29\n",
       "Санкт-Петербург           109861.95\n",
       "Пушкин                    101315.58\n",
       "Сестрорецк                101282.03\n",
       "поселок Лисий Нос         100661.00\n",
       "Кудрово                    98507.94\n",
       "поселок Левашово           96998.00\n",
       "деревня Мистолово          96157.22\n",
       "деревня Кудрово            92542.29\n",
       "поселок Парголово          89505.02"
      ]
     },
     "execution_count": 48,
     "metadata": {},
     "output_type": "execute_result"
    }
   ],
   "source": [
    "new_data['avg_square_meter'] = round(new_data['last_price'] / new_data['total_area'], 0)\n",
    "locality_name_group = round(new_data.pivot_table(index='locality_name', values='avg_square_meter', aggfunc='mean').sort_values(by='avg_square_meter', ascending=False), 2)\n",
    "locality_name_group.head(10)"
   ]
  },
  {
   "cell_type": "markdown",
   "metadata": {},
   "source": [
    "Интересно, но факт - средняя стоимость квадратного метра в Зеленогорске выше, чем в Санкт-Петербурге. Возможно связано с тем, что этот город является курортным, находится недалеко от СПБ."
   ]
  },
  {
   "cell_type": "code",
   "execution_count": 49,
   "metadata": {},
   "outputs": [
    {
     "data": {
      "text/html": [
       "<div>\n",
       "<style scoped>\n",
       "    .dataframe tbody tr th:only-of-type {\n",
       "        vertical-align: middle;\n",
       "    }\n",
       "\n",
       "    .dataframe tbody tr th {\n",
       "        vertical-align: top;\n",
       "    }\n",
       "\n",
       "    .dataframe thead th {\n",
       "        text-align: right;\n",
       "    }\n",
       "</style>\n",
       "<table border=\"1\" class=\"dataframe\">\n",
       "  <thead>\n",
       "    <tr style=\"text-align: right;\">\n",
       "      <th></th>\n",
       "      <th>avg_square_meter</th>\n",
       "    </tr>\n",
       "    <tr>\n",
       "      <th>locality_name</th>\n",
       "      <th></th>\n",
       "    </tr>\n",
       "  </thead>\n",
       "  <tbody>\n",
       "    <tr>\n",
       "      <th>поселок Лужайка</th>\n",
       "      <td>15000.00</td>\n",
       "    </tr>\n",
       "    <tr>\n",
       "      <th>поселок Житково</th>\n",
       "      <td>14956.00</td>\n",
       "    </tr>\n",
       "    <tr>\n",
       "      <th>деревня Ям-Тесово</th>\n",
       "      <td>13711.50</td>\n",
       "    </tr>\n",
       "    <tr>\n",
       "      <th>поселок Тесово-4</th>\n",
       "      <td>12931.00</td>\n",
       "    </tr>\n",
       "    <tr>\n",
       "      <th>деревня Малая Романовка</th>\n",
       "      <td>12725.00</td>\n",
       "    </tr>\n",
       "    <tr>\n",
       "      <th>поселок Совхозный</th>\n",
       "      <td>12629.50</td>\n",
       "    </tr>\n",
       "    <tr>\n",
       "      <th>деревня Выскатка</th>\n",
       "      <td>12335.50</td>\n",
       "    </tr>\n",
       "    <tr>\n",
       "      <th>деревня Вахнова Кара</th>\n",
       "      <td>11688.00</td>\n",
       "    </tr>\n",
       "    <tr>\n",
       "      <th>поселок Свирь</th>\n",
       "      <td>11481.50</td>\n",
       "    </tr>\n",
       "    <tr>\n",
       "      <th>деревня Старополье</th>\n",
       "      <td>11206.33</td>\n",
       "    </tr>\n",
       "  </tbody>\n",
       "</table>\n",
       "</div>"
      ],
      "text/plain": [
       "                         avg_square_meter\n",
       "locality_name                            \n",
       "поселок Лужайка                  15000.00\n",
       "поселок Житково                  14956.00\n",
       "деревня Ям-Тесово                13711.50\n",
       "поселок Тесово-4                 12931.00\n",
       "деревня Малая Романовка          12725.00\n",
       "поселок Совхозный                12629.50\n",
       "деревня Выскатка                 12335.50\n",
       "деревня Вахнова Кара             11688.00\n",
       "поселок Свирь                    11481.50\n",
       "деревня Старополье               11206.33"
      ]
     },
     "execution_count": 49,
     "metadata": {},
     "output_type": "execute_result"
    }
   ],
   "source": [
    "new_data['avg_square_meter'] = round(new_data['last_price'] / new_data['total_area'], 0)\n",
    "locality_name_group = round(new_data.pivot_table(index='locality_name', values='avg_square_meter', aggfunc='mean').sort_values(by='avg_square_meter', ascending=False), 2)\n",
    "locality_name_group.tail(10)"
   ]
  },
  {
   "cell_type": "markdown",
   "metadata": {},
   "source": [
    "Самая низкая цена за кв.м. находится в поселке и деревнях Старополье Свирь и Вахнова Кара.  \n",
    "Сколько недвижимости может позволить себе аналитик данных в год в данных поселениях? Узнаем в следующей серии."
   ]
  },
  {
   "cell_type": "markdown",
   "metadata": {},
   "source": [
    "### Выделим квартиры в Санкт-Петербурге с помощью столбца и вычислим среднюю цену каждого километра."
   ]
  },
  {
   "cell_type": "markdown",
   "metadata": {},
   "source": [
    "Теперь выделим квартиры в Санкт-Петербурге и вычислим среднюю цену каждого километра до центра."
   ]
  },
  {
   "cell_type": "code",
   "execution_count": 50,
   "metadata": {
    "scrolled": true
   },
   "outputs": [
    {
     "data": {
      "text/html": [
       "<div>\n",
       "<style scoped>\n",
       "    .dataframe tbody tr th:only-of-type {\n",
       "        vertical-align: middle;\n",
       "    }\n",
       "\n",
       "    .dataframe tbody tr th {\n",
       "        vertical-align: top;\n",
       "    }\n",
       "\n",
       "    .dataframe thead th {\n",
       "        text-align: right;\n",
       "    }\n",
       "</style>\n",
       "<table border=\"1\" class=\"dataframe\">\n",
       "  <thead>\n",
       "    <tr style=\"text-align: right;\">\n",
       "      <th></th>\n",
       "      <th>price_mln</th>\n",
       "    </tr>\n",
       "    <tr>\n",
       "      <th>city_centers_km</th>\n",
       "      <th></th>\n",
       "    </tr>\n",
       "  </thead>\n",
       "  <tbody>\n",
       "    <tr>\n",
       "      <th>0.0</th>\n",
       "      <td>20.375000</td>\n",
       "    </tr>\n",
       "    <tr>\n",
       "      <th>1.0</th>\n",
       "      <td>13.259542</td>\n",
       "    </tr>\n",
       "    <tr>\n",
       "      <th>2.0</th>\n",
       "      <td>13.663107</td>\n",
       "    </tr>\n",
       "    <tr>\n",
       "      <th>3.0</th>\n",
       "      <td>9.653086</td>\n",
       "    </tr>\n",
       "    <tr>\n",
       "      <th>4.0</th>\n",
       "      <td>10.443080</td>\n",
       "    </tr>\n",
       "    <tr>\n",
       "      <th>5.0</th>\n",
       "      <td>10.842630</td>\n",
       "    </tr>\n",
       "    <tr>\n",
       "      <th>6.0</th>\n",
       "      <td>11.292766</td>\n",
       "    </tr>\n",
       "    <tr>\n",
       "      <th>7.0</th>\n",
       "      <td>11.876324</td>\n",
       "    </tr>\n",
       "    <tr>\n",
       "      <th>8.0</th>\n",
       "      <td>8.068763</td>\n",
       "    </tr>\n",
       "    <tr>\n",
       "      <th>9.0</th>\n",
       "      <td>6.497239</td>\n",
       "    </tr>\n",
       "    <tr>\n",
       "      <th>10.0</th>\n",
       "      <td>6.000321</td>\n",
       "    </tr>\n",
       "    <tr>\n",
       "      <th>11.0</th>\n",
       "      <td>5.759194</td>\n",
       "    </tr>\n",
       "    <tr>\n",
       "      <th>12.0</th>\n",
       "      <td>5.571030</td>\n",
       "    </tr>\n",
       "    <tr>\n",
       "      <th>13.0</th>\n",
       "      <td>5.793152</td>\n",
       "    </tr>\n",
       "    <tr>\n",
       "      <th>14.0</th>\n",
       "      <td>5.374031</td>\n",
       "    </tr>\n",
       "    <tr>\n",
       "      <th>15.0</th>\n",
       "      <td>5.433654</td>\n",
       "    </tr>\n",
       "    <tr>\n",
       "      <th>16.0</th>\n",
       "      <td>5.167812</td>\n",
       "    </tr>\n",
       "    <tr>\n",
       "      <th>17.0</th>\n",
       "      <td>5.077325</td>\n",
       "    </tr>\n",
       "    <tr>\n",
       "      <th>18.0</th>\n",
       "      <td>4.779556</td>\n",
       "    </tr>\n",
       "    <tr>\n",
       "      <th>19.0</th>\n",
       "      <td>4.961702</td>\n",
       "    </tr>\n",
       "    <tr>\n",
       "      <th>20.0</th>\n",
       "      <td>5.438462</td>\n",
       "    </tr>\n",
       "    <tr>\n",
       "      <th>21.0</th>\n",
       "      <td>5.043333</td>\n",
       "    </tr>\n",
       "    <tr>\n",
       "      <th>22.0</th>\n",
       "      <td>5.107602</td>\n",
       "    </tr>\n",
       "    <tr>\n",
       "      <th>23.0</th>\n",
       "      <td>4.578125</td>\n",
       "    </tr>\n",
       "    <tr>\n",
       "      <th>24.0</th>\n",
       "      <td>3.853846</td>\n",
       "    </tr>\n",
       "    <tr>\n",
       "      <th>25.0</th>\n",
       "      <td>4.088000</td>\n",
       "    </tr>\n",
       "    <tr>\n",
       "      <th>26.0</th>\n",
       "      <td>3.917308</td>\n",
       "    </tr>\n",
       "    <tr>\n",
       "      <th>27.0</th>\n",
       "      <td>8.300000</td>\n",
       "    </tr>\n",
       "    <tr>\n",
       "      <th>28.0</th>\n",
       "      <td>5.028571</td>\n",
       "    </tr>\n",
       "    <tr>\n",
       "      <th>29.0</th>\n",
       "      <td>4.100000</td>\n",
       "    </tr>\n",
       "  </tbody>\n",
       "</table>\n",
       "</div>"
      ],
      "text/plain": [
       "                 price_mln\n",
       "city_centers_km           \n",
       "0.0              20.375000\n",
       "1.0              13.259542\n",
       "2.0              13.663107\n",
       "3.0               9.653086\n",
       "4.0              10.443080\n",
       "5.0              10.842630\n",
       "6.0              11.292766\n",
       "7.0              11.876324\n",
       "8.0               8.068763\n",
       "9.0               6.497239\n",
       "10.0              6.000321\n",
       "11.0              5.759194\n",
       "12.0              5.571030\n",
       "13.0              5.793152\n",
       "14.0              5.374031\n",
       "15.0              5.433654\n",
       "16.0              5.167812\n",
       "17.0              5.077325\n",
       "18.0              4.779556\n",
       "19.0              4.961702\n",
       "20.0              5.438462\n",
       "21.0              5.043333\n",
       "22.0              5.107602\n",
       "23.0              4.578125\n",
       "24.0              3.853846\n",
       "25.0              4.088000\n",
       "26.0              3.917308\n",
       "27.0              8.300000\n",
       "28.0              5.028571\n",
       "29.0              4.100000"
      ]
     },
     "metadata": {},
     "output_type": "display_data"
    },
    {
     "data": {
      "text/plain": [
       "array([[<Axes: title={'center': 'price_mln'}>]], dtype=object)"
      ]
     },
     "metadata": {},
     "output_type": "display_data"
    },
    {
     "data": {
      "image/png": "[encoded data removed]",
      "text/plain": [
       "<Figure size 640x480 with 1 Axes>"
      ]
     },
     "metadata": {},
     "output_type": "display_data"
    }
   ],
   "source": [
    "km_to_center = new_data[new_data['locality_name'] =='Санкт-Петербург']\n",
    "km_to_center_group = km_to_center.pivot_table(index='city_centers_km', values='price_mln', aggfunc='mean')\n",
    "display(km_to_center_group)\n",
    "display(km_to_center_group.hist())\n",
    "plt.show()"
   ]
  },
  {
   "cell_type": "markdown",
   "metadata": {},
   "source": [
    "Проанализировав таблицу мы можем сделать вывод, что стоимость квартиры напрямую влияет на расстояние от цена города - чем недвижимость ближе к центру, тем выше стоимость и наоборот.  \n",
    "Так, к примеру, средняя цены квартиры, находящаяся на расстоянии 29 км от центра города, стоит в 5 раз дороже той, которая находится в самом центре города."
   ]
  },
  {
   "cell_type": "markdown",
   "metadata": {},
   "source": [
    "## Общий вывод по анализу данных."
   ]
  },
  {
   "cell_type": "markdown",
   "metadata": {},
   "source": [
    "Благодаря проведенную анализу мы выяснили, что на стоимость квартиры напрямую зависит от:\n",
    "- общей площади;\n",
    "- жилой площади;\n",
    "- этажа, на котором расположена квартира (первый, последний, другой);\n",
    "- расстояние от центра города.\n",
    "\n",
    "\n",
    "\n",
    "Никак не влияет на стоимость:\n",
    "- количество комнат;\n",
    "- день публикации объявления.\n",
    "\n",
    "Интересные факты:\n",
    "- в Санкт-Петербурге недвижимость, находящаяся на расстоянии 29км от центра, стоит в 5 раз дешевле, чем та, которая находится в самом центре;  \n",
    "- в среднем на продажу недвижимости уходит 178 дней (6 месяцев). Самая быстрая продажа была за 1 день, а самая длительная продажа была через 1580 дней (4.4 года);\n",
    "- самой высокой стоимостью является недвижимость, находящаяся в Зеленогорске, затем идёт Санкт-Петербург, замыкает тройку город Пушкин.\n",
    "\n",
    "Полученные данные, полученные в ходе исследования, позволят найти взаимосвязь стоимости квартир от различных параметров и получить важные инсайты, которые позволят построить автоматизированную систему аномалий и мошеннической деятельности."
   ]
  },
  {
   "cell_type": "markdown",
   "metadata": {
    "id": "A90mc0BgAwb-"
   },
   "source": [
    "**Чек-лист готовности проекта**\n",
    "\n",
    "Поставьте 'x' в выполненных пунктах. Далее нажмите Shift+Enter."
   ]
  },
  {
   "cell_type": "markdown",
   "metadata": {
    "id": "ME3sTWm6Awb-"
   },
   "source": [
    "- [x]  Файл с данными открыт.\n",
    "- [x]  Файл с данными изучен: выведены первые строки, использован метод `info()`, построены гистограммы.\n",
    "- [x]  Найдены пропущенные значения.\n",
    "- [x]  Пропущенные значения заполнены там, где это возможно.\n",
    "- [x]  Объяснено, какие пропущенные значения обнаружены.\n",
    "- [x]  В каждом столбце установлен корректный тип данных.\n",
    "- [x]  Объяснено, в каких столбцах изменён тип данных и почему.\n",
    "- [x]  Устранены неявные дубликаты в названиях населённых пунктов.\n",
    "- [x]  Обработаны редкие и выбивающиеся значения (аномалии).\n",
    "- [x]  В таблицу добавлены новые параметры:\n",
    "       – цена одного квадратного метра;\n",
    "       – день публикации объявления (0 - понедельник, 1 - вторник и т. д.);\n",
    "       – месяц публикации объявления;\n",
    "       – год публикации объявления;\n",
    "       – тип этажа квартиры (значения — «первый», «последний», «другой»);\n",
    "       – расстояние до центра города в километрах.\n",
    "- [x]  Изучены и описаны параметры:\n",
    "        - общая площадь;\n",
    "        - жилая площадь;\n",
    "        - площадь кухни;\n",
    "        - цена объекта;\n",
    "        - количество комнат;\n",
    "        - высота потолков;\n",
    "        - тип этажа квартиры («первый», «последний», «другой»);\n",
    "        - общее количество этажей в доме;\n",
    "        - расстояние до центра города в метрах;\n",
    "        - расстояние до ближайшего парка.\n",
    "- [x]  Выполнено задание «Изучите, как быстро продавались квартиры (столбец `days_exposition`)»:\n",
    "    - построена гистограмма;\n",
    "    - рассчитаны среднее и медиана;\n",
    "    - описано, сколько обычно занимает продажа и указано, какие продажи можно считать быстрыми, а какие — необычно долгими.\n",
    "- [x]  Выполнено задание «Определите факторы, которые больше всего влияют на общую (полную) стоимость объекта». Построены графики, которые показывают зависимость цены от параметров:\n",
    "        - общая площадь;\n",
    "        - жилая площадь;\n",
    "        - площадь кухни;\n",
    "        - количество комнат;\n",
    "        - тип этажа, на котором расположена квартира (первый, последний, другой);\n",
    "        - дата размещения (день недели, месяц, год).\n",
    "- [x]  Выполнено задание «Посчитайте среднюю цену одного квадратного метра в 10 населённых пунктах с наибольшим числом объявлений»:\n",
    "    - выделены населённые пункты с самой высокой и низкой стоимостью квадратного метра.\n",
    "- [x]  Выполнено задание «Выделите квартиры в Санкт-Петербурге с помощью столбца `locality_name` и вычислите их среднюю стоимость на разном удалении от центра»:\n",
    "    -  учтён каждый километр расстояния, известны средние цены квартир в одном километре от центра, в двух и так далее;\n",
    "    -  описано, как стоимость объекта зависит от расстояния до центра города;\n",
    "    -  построен график изменения средней цены для каждого километра от центра Петербурга.\n",
    "- [x]  На каждом этапе сделаны промежуточные выводы.\n",
    "- [x]  В конце проекта сделан общий вывод."
   ]
  }
 ],
 "metadata": {
  "ExecuteTimeLog": [
   {
    "duration": 406,
    "start_time": "2024-06-01T05:32:25.009Z"
   },
   {
    "duration": 231,
    "start_time": "2024-06-01T05:32:33.273Z"
   },
   {
    "duration": 63,
    "start_time": "2024-06-01T05:32:52.405Z"
   },
   {
    "duration": 4,
    "start_time": "2024-06-01T05:32:58.284Z"
   },
   {
    "duration": 14,
    "start_time": "2024-06-01T05:33:00.476Z"
   },
   {
    "duration": 444,
    "start_time": "2024-06-05T13:38:32.953Z"
   },
   {
    "duration": 251,
    "start_time": "2024-06-05T13:38:33.399Z"
   },
   {
    "duration": 61,
    "start_time": "2024-06-05T13:38:33.652Z"
   },
   {
    "duration": 2899,
    "start_time": "2024-06-05T13:38:33.715Z"
   },
   {
    "duration": 17,
    "start_time": "2024-06-05T13:38:36.616Z"
   },
   {
    "duration": 10,
    "start_time": "2024-06-05T13:38:36.634Z"
   },
   {
    "duration": 19,
    "start_time": "2024-06-05T13:38:36.645Z"
   },
   {
    "duration": 24,
    "start_time": "2024-06-05T13:38:36.666Z"
   },
   {
    "duration": 12,
    "start_time": "2024-06-05T13:38:36.691Z"
   },
   {
    "duration": 14,
    "start_time": "2024-06-05T13:38:36.707Z"
   },
   {
    "duration": 10,
    "start_time": "2024-06-05T13:38:36.722Z"
   },
   {
    "duration": 62,
    "start_time": "2024-06-05T13:38:36.733Z"
   },
   {
    "duration": 24,
    "start_time": "2024-06-05T13:38:36.796Z"
   },
   {
    "duration": 198,
    "start_time": "2024-06-05T13:38:36.821Z"
   },
   {
    "duration": 431,
    "start_time": "2024-06-05T13:38:37.021Z"
   },
   {
    "duration": 148,
    "start_time": "2024-06-05T13:38:37.462Z"
   },
   {
    "duration": 10,
    "start_time": "2024-06-05T13:38:37.612Z"
   },
   {
    "duration": 157,
    "start_time": "2024-06-05T13:38:37.624Z"
   },
   {
    "duration": 236,
    "start_time": "2024-06-05T13:38:37.783Z"
   },
   {
    "duration": 151,
    "start_time": "2024-06-05T13:38:38.020Z"
   },
   {
    "duration": 150,
    "start_time": "2024-06-05T13:38:38.173Z"
   },
   {
    "duration": 180,
    "start_time": "2024-06-05T13:38:38.325Z"
   },
   {
    "duration": 142,
    "start_time": "2024-06-05T13:38:38.506Z"
   },
   {
    "duration": 40,
    "start_time": "2024-06-05T13:38:38.649Z"
   },
   {
    "duration": 141,
    "start_time": "2024-06-05T13:38:38.690Z"
   },
   {
    "duration": 163,
    "start_time": "2024-06-05T13:38:38.833Z"
   },
   {
    "duration": 165,
    "start_time": "2024-06-05T13:38:38.998Z"
   },
   {
    "duration": 170,
    "start_time": "2024-06-05T13:38:39.169Z"
   },
   {
    "duration": 178,
    "start_time": "2024-06-05T13:38:39.341Z"
   },
   {
    "duration": 262,
    "start_time": "2024-06-05T13:38:39.520Z"
   },
   {
    "duration": 157,
    "start_time": "2024-06-05T13:38:39.783Z"
   },
   {
    "duration": 263,
    "start_time": "2024-06-05T13:38:39.941Z"
   },
   {
    "duration": 158,
    "start_time": "2024-06-05T13:38:40.206Z"
   },
   {
    "duration": 7,
    "start_time": "2024-06-05T13:38:40.366Z"
   },
   {
    "duration": 169,
    "start_time": "2024-06-05T13:38:40.376Z"
   },
   {
    "duration": 151,
    "start_time": "2024-06-05T13:38:40.547Z"
   },
   {
    "duration": 37,
    "start_time": "2024-06-05T13:38:40.699Z"
   },
   {
    "duration": 39,
    "start_time": "2024-06-05T13:38:40.738Z"
   },
   {
    "duration": 35,
    "start_time": "2024-06-05T13:38:40.779Z"
   },
   {
    "duration": 17,
    "start_time": "2024-06-05T13:38:40.816Z"
   },
   {
    "duration": 85,
    "start_time": "2024-06-05T13:38:40.835Z"
   },
   {
    "duration": 22,
    "start_time": "2024-06-05T13:38:40.921Z"
   },
   {
    "duration": 29,
    "start_time": "2024-06-05T13:38:40.945Z"
   },
   {
    "duration": 21,
    "start_time": "2024-06-05T13:38:40.976Z"
   },
   {
    "duration": 15,
    "start_time": "2024-06-05T13:38:40.998Z"
   },
   {
    "duration": 49,
    "start_time": "2024-06-05T13:38:41.014Z"
   },
   {
    "duration": 22,
    "start_time": "2024-06-05T13:38:41.065Z"
   },
   {
    "duration": 202,
    "start_time": "2024-06-05T13:38:41.088Z"
   },
   {
    "duration": 84,
    "start_time": "2024-06-05T14:06:10.923Z"
   },
   {
    "duration": 3,
    "start_time": "2024-06-05T14:07:07.503Z"
   },
   {
    "duration": 5120,
    "start_time": "2024-06-05T14:07:11.271Z"
   },
   {
    "duration": 5177,
    "start_time": "2024-06-05T14:07:39.835Z"
   },
   {
    "duration": 5551,
    "start_time": "2024-06-05T14:07:53.894Z"
   },
   {
    "duration": 1108,
    "start_time": "2024-06-05T14:15:41.236Z"
   },
   {
    "duration": 5937,
    "start_time": "2024-06-05T14:16:02.145Z"
   },
   {
    "duration": 1092,
    "start_time": "2024-06-05T14:16:36.565Z"
   },
   {
    "duration": 62,
    "start_time": "2024-06-05T14:19:16.331Z"
   },
   {
    "duration": 62,
    "start_time": "2024-06-05T14:19:59.485Z"
   },
   {
    "duration": 59,
    "start_time": "2024-06-05T14:20:14.576Z"
   },
   {
    "duration": 67,
    "start_time": "2024-06-05T14:21:14.857Z"
   },
   {
    "duration": 753,
    "start_time": "2024-06-05T14:21:25.670Z"
   },
   {
    "duration": 116,
    "start_time": "2024-06-05T14:21:26.424Z"
   },
   {
    "duration": 75,
    "start_time": "2024-06-05T14:21:26.542Z"
   },
   {
    "duration": 4112,
    "start_time": "2024-06-05T14:21:26.620Z"
   },
   {
    "duration": 0,
    "start_time": "2024-06-05T14:21:30.737Z"
   },
   {
    "duration": 0,
    "start_time": "2024-06-05T14:21:30.738Z"
   },
   {
    "duration": 0,
    "start_time": "2024-06-05T14:21:30.740Z"
   },
   {
    "duration": 0,
    "start_time": "2024-06-05T14:21:30.742Z"
   },
   {
    "duration": 0,
    "start_time": "2024-06-05T14:21:30.743Z"
   },
   {
    "duration": 0,
    "start_time": "2024-06-05T14:21:30.744Z"
   },
   {
    "duration": 0,
    "start_time": "2024-06-05T14:21:30.761Z"
   },
   {
    "duration": 0,
    "start_time": "2024-06-05T14:21:30.763Z"
   },
   {
    "duration": 0,
    "start_time": "2024-06-05T14:21:30.765Z"
   },
   {
    "duration": 0,
    "start_time": "2024-06-05T14:21:30.766Z"
   },
   {
    "duration": 0,
    "start_time": "2024-06-05T14:21:30.768Z"
   },
   {
    "duration": 0,
    "start_time": "2024-06-05T14:21:30.769Z"
   },
   {
    "duration": 0,
    "start_time": "2024-06-05T14:21:30.771Z"
   },
   {
    "duration": 0,
    "start_time": "2024-06-05T14:21:30.772Z"
   },
   {
    "duration": 0,
    "start_time": "2024-06-05T14:21:30.773Z"
   },
   {
    "duration": 0,
    "start_time": "2024-06-05T14:21:30.775Z"
   },
   {
    "duration": 0,
    "start_time": "2024-06-05T14:21:30.776Z"
   },
   {
    "duration": 0,
    "start_time": "2024-06-05T14:21:30.778Z"
   },
   {
    "duration": 0,
    "start_time": "2024-06-05T14:21:30.779Z"
   },
   {
    "duration": 0,
    "start_time": "2024-06-05T14:21:30.781Z"
   },
   {
    "duration": 1,
    "start_time": "2024-06-05T14:21:30.783Z"
   },
   {
    "duration": 0,
    "start_time": "2024-06-05T14:21:30.785Z"
   },
   {
    "duration": 0,
    "start_time": "2024-06-05T14:21:30.787Z"
   },
   {
    "duration": 0,
    "start_time": "2024-06-05T14:21:30.788Z"
   },
   {
    "duration": 0,
    "start_time": "2024-06-05T14:21:30.790Z"
   },
   {
    "duration": 0,
    "start_time": "2024-06-05T14:21:30.792Z"
   },
   {
    "duration": 0,
    "start_time": "2024-06-05T14:21:30.794Z"
   },
   {
    "duration": 0,
    "start_time": "2024-06-05T14:21:30.795Z"
   },
   {
    "duration": 0,
    "start_time": "2024-06-05T14:21:30.797Z"
   },
   {
    "duration": 0,
    "start_time": "2024-06-05T14:21:30.799Z"
   },
   {
    "duration": 0,
    "start_time": "2024-06-05T14:21:30.801Z"
   },
   {
    "duration": 0,
    "start_time": "2024-06-05T14:21:30.803Z"
   },
   {
    "duration": 0,
    "start_time": "2024-06-05T14:21:30.861Z"
   },
   {
    "duration": 0,
    "start_time": "2024-06-05T14:21:30.862Z"
   },
   {
    "duration": 0,
    "start_time": "2024-06-05T14:21:30.864Z"
   },
   {
    "duration": 0,
    "start_time": "2024-06-05T14:21:30.866Z"
   },
   {
    "duration": 0,
    "start_time": "2024-06-05T14:21:30.874Z"
   },
   {
    "duration": 0,
    "start_time": "2024-06-05T14:21:30.875Z"
   },
   {
    "duration": 0,
    "start_time": "2024-06-05T14:21:30.879Z"
   },
   {
    "duration": 0,
    "start_time": "2024-06-05T14:21:30.880Z"
   },
   {
    "duration": 0,
    "start_time": "2024-06-05T14:21:30.881Z"
   },
   {
    "duration": 0,
    "start_time": "2024-06-05T14:21:30.883Z"
   },
   {
    "duration": 0,
    "start_time": "2024-06-05T14:21:30.884Z"
   },
   {
    "duration": 0,
    "start_time": "2024-06-05T14:21:30.885Z"
   },
   {
    "duration": 0,
    "start_time": "2024-06-05T14:21:30.887Z"
   },
   {
    "duration": 74,
    "start_time": "2024-06-05T14:22:58.039Z"
   },
   {
    "duration": 2263,
    "start_time": "2024-06-05T14:25:46.303Z"
   },
   {
    "duration": 3523,
    "start_time": "2024-06-05T14:26:14.502Z"
   },
   {
    "duration": 740,
    "start_time": "2024-06-05T14:27:10.341Z"
   },
   {
    "duration": 111,
    "start_time": "2024-06-05T14:27:11.083Z"
   },
   {
    "duration": 45,
    "start_time": "2024-06-05T14:27:11.196Z"
   },
   {
    "duration": 3799,
    "start_time": "2024-06-05T14:27:11.244Z"
   },
   {
    "duration": 0,
    "start_time": "2024-06-05T14:27:15.046Z"
   },
   {
    "duration": 0,
    "start_time": "2024-06-05T14:27:15.047Z"
   },
   {
    "duration": 0,
    "start_time": "2024-06-05T14:27:15.049Z"
   },
   {
    "duration": 0,
    "start_time": "2024-06-05T14:27:15.060Z"
   },
   {
    "duration": 0,
    "start_time": "2024-06-05T14:27:15.062Z"
   },
   {
    "duration": 0,
    "start_time": "2024-06-05T14:27:15.063Z"
   },
   {
    "duration": 0,
    "start_time": "2024-06-05T14:27:15.065Z"
   },
   {
    "duration": 0,
    "start_time": "2024-06-05T14:27:15.067Z"
   },
   {
    "duration": 0,
    "start_time": "2024-06-05T14:27:15.068Z"
   },
   {
    "duration": 0,
    "start_time": "2024-06-05T14:27:15.070Z"
   },
   {
    "duration": 0,
    "start_time": "2024-06-05T14:27:15.071Z"
   },
   {
    "duration": 0,
    "start_time": "2024-06-05T14:27:15.073Z"
   },
   {
    "duration": 0,
    "start_time": "2024-06-05T14:27:15.075Z"
   },
   {
    "duration": 0,
    "start_time": "2024-06-05T14:27:15.076Z"
   },
   {
    "duration": 0,
    "start_time": "2024-06-05T14:27:15.077Z"
   },
   {
    "duration": 0,
    "start_time": "2024-06-05T14:27:15.078Z"
   },
   {
    "duration": 0,
    "start_time": "2024-06-05T14:27:15.080Z"
   },
   {
    "duration": 0,
    "start_time": "2024-06-05T14:27:15.081Z"
   },
   {
    "duration": 0,
    "start_time": "2024-06-05T14:27:15.082Z"
   },
   {
    "duration": 0,
    "start_time": "2024-06-05T14:27:15.083Z"
   },
   {
    "duration": 0,
    "start_time": "2024-06-05T14:27:15.084Z"
   },
   {
    "duration": 0,
    "start_time": "2024-06-05T14:27:15.085Z"
   },
   {
    "duration": 0,
    "start_time": "2024-06-05T14:27:15.086Z"
   },
   {
    "duration": 0,
    "start_time": "2024-06-05T14:27:15.087Z"
   },
   {
    "duration": 0,
    "start_time": "2024-06-05T14:27:15.088Z"
   },
   {
    "duration": 0,
    "start_time": "2024-06-05T14:27:15.089Z"
   },
   {
    "duration": 0,
    "start_time": "2024-06-05T14:27:15.090Z"
   },
   {
    "duration": 0,
    "start_time": "2024-06-05T14:27:15.091Z"
   },
   {
    "duration": 0,
    "start_time": "2024-06-05T14:27:15.092Z"
   },
   {
    "duration": 0,
    "start_time": "2024-06-05T14:27:15.093Z"
   },
   {
    "duration": 0,
    "start_time": "2024-06-05T14:27:15.094Z"
   },
   {
    "duration": 0,
    "start_time": "2024-06-05T14:27:15.095Z"
   },
   {
    "duration": 0,
    "start_time": "2024-06-05T14:27:15.096Z"
   },
   {
    "duration": 0,
    "start_time": "2024-06-05T14:27:15.097Z"
   },
   {
    "duration": 0,
    "start_time": "2024-06-05T14:27:15.098Z"
   },
   {
    "duration": 0,
    "start_time": "2024-06-05T14:27:15.099Z"
   },
   {
    "duration": 0,
    "start_time": "2024-06-05T14:27:15.100Z"
   },
   {
    "duration": 0,
    "start_time": "2024-06-05T14:27:15.101Z"
   },
   {
    "duration": 0,
    "start_time": "2024-06-05T14:27:15.102Z"
   },
   {
    "duration": 0,
    "start_time": "2024-06-05T14:27:15.103Z"
   },
   {
    "duration": 0,
    "start_time": "2024-06-05T14:27:15.103Z"
   },
   {
    "duration": 0,
    "start_time": "2024-06-05T14:27:15.104Z"
   },
   {
    "duration": 0,
    "start_time": "2024-06-05T14:27:15.161Z"
   },
   {
    "duration": 0,
    "start_time": "2024-06-05T14:27:15.162Z"
   },
   {
    "duration": 2238,
    "start_time": "2024-06-05T14:28:53.643Z"
   },
   {
    "duration": 79,
    "start_time": "2024-06-05T14:34:41.834Z"
   },
   {
    "duration": 10,
    "start_time": "2024-06-05T14:54:09.552Z"
   },
   {
    "duration": 60,
    "start_time": "2024-06-05T14:55:39.259Z"
   },
   {
    "duration": 13,
    "start_time": "2024-06-05T14:57:45.223Z"
   },
   {
    "duration": 30,
    "start_time": "2024-06-05T14:58:55.765Z"
   },
   {
    "duration": 756,
    "start_time": "2024-06-05T15:01:30.471Z"
   },
   {
    "duration": 115,
    "start_time": "2024-06-05T15:01:31.230Z"
   },
   {
    "duration": 56,
    "start_time": "2024-06-05T15:01:31.347Z"
   },
   {
    "duration": 2245,
    "start_time": "2024-06-05T15:01:31.405Z"
   },
   {
    "duration": 18,
    "start_time": "2024-06-05T15:01:33.652Z"
   },
   {
    "duration": 63,
    "start_time": "2024-06-05T15:01:33.673Z"
   },
   {
    "duration": 77,
    "start_time": "2024-06-05T15:01:33.739Z"
   },
   {
    "duration": 19,
    "start_time": "2024-06-05T15:01:33.818Z"
   },
   {
    "duration": 15,
    "start_time": "2024-06-05T15:01:33.839Z"
   },
   {
    "duration": 12,
    "start_time": "2024-06-05T15:01:33.858Z"
   },
   {
    "duration": 17,
    "start_time": "2024-06-05T15:01:33.872Z"
   },
   {
    "duration": 38,
    "start_time": "2024-06-05T15:01:33.891Z"
   },
   {
    "duration": 57,
    "start_time": "2024-06-05T15:01:33.931Z"
   },
   {
    "duration": 173,
    "start_time": "2024-06-05T15:01:33.990Z"
   },
   {
    "duration": 377,
    "start_time": "2024-06-05T15:01:34.165Z"
   },
   {
    "duration": 160,
    "start_time": "2024-06-05T15:01:34.544Z"
   },
   {
    "duration": 11,
    "start_time": "2024-06-05T15:01:34.706Z"
   },
   {
    "duration": 152,
    "start_time": "2024-06-05T15:01:34.719Z"
   },
   {
    "duration": 153,
    "start_time": "2024-06-05T15:01:34.874Z"
   },
   {
    "duration": 239,
    "start_time": "2024-06-05T15:01:35.029Z"
   },
   {
    "duration": 148,
    "start_time": "2024-06-05T15:01:35.271Z"
   },
   {
    "duration": 201,
    "start_time": "2024-06-05T15:01:35.421Z"
   },
   {
    "duration": 144,
    "start_time": "2024-06-05T15:01:35.624Z"
   },
   {
    "duration": 31,
    "start_time": "2024-06-05T15:01:35.769Z"
   },
   {
    "duration": 154,
    "start_time": "2024-06-05T15:01:35.802Z"
   },
   {
    "duration": 175,
    "start_time": "2024-06-05T15:01:35.962Z"
   },
   {
    "duration": 146,
    "start_time": "2024-06-05T15:01:36.139Z"
   },
   {
    "duration": 166,
    "start_time": "2024-06-05T15:01:36.288Z"
   },
   {
    "duration": 168,
    "start_time": "2024-06-05T15:01:36.455Z"
   },
   {
    "duration": 281,
    "start_time": "2024-06-05T15:01:36.625Z"
   },
   {
    "duration": 191,
    "start_time": "2024-06-05T15:01:36.908Z"
   },
   {
    "duration": 273,
    "start_time": "2024-06-05T15:01:37.100Z"
   },
   {
    "duration": 164,
    "start_time": "2024-06-05T15:01:37.375Z"
   },
   {
    "duration": 5,
    "start_time": "2024-06-05T15:01:37.541Z"
   },
   {
    "duration": 159,
    "start_time": "2024-06-05T15:01:37.548Z"
   },
   {
    "duration": 138,
    "start_time": "2024-06-05T15:01:37.708Z"
   },
   {
    "duration": 52,
    "start_time": "2024-06-05T15:01:37.848Z"
   },
   {
    "duration": 17,
    "start_time": "2024-06-05T15:01:37.902Z"
   },
   {
    "duration": 70,
    "start_time": "2024-06-05T15:01:37.920Z"
   },
   {
    "duration": 17,
    "start_time": "2024-06-05T15:01:37.992Z"
   },
   {
    "duration": 58,
    "start_time": "2024-06-05T15:01:38.011Z"
   },
   {
    "duration": 22,
    "start_time": "2024-06-05T15:01:38.072Z"
   },
   {
    "duration": 39,
    "start_time": "2024-06-05T15:01:38.096Z"
   },
   {
    "duration": 22,
    "start_time": "2024-06-05T15:01:38.136Z"
   },
   {
    "duration": 20,
    "start_time": "2024-06-05T15:01:38.160Z"
   },
   {
    "duration": 22,
    "start_time": "2024-06-05T15:01:38.181Z"
   },
   {
    "duration": 18,
    "start_time": "2024-06-05T15:01:38.205Z"
   },
   {
    "duration": 201,
    "start_time": "2024-06-05T15:01:38.225Z"
   },
   {
    "duration": 157,
    "start_time": "2024-06-05T15:03:22.521Z"
   },
   {
    "duration": 199,
    "start_time": "2024-06-05T15:03:28.329Z"
   },
   {
    "duration": 189,
    "start_time": "2024-06-05T15:03:41.775Z"
   },
   {
    "duration": 173,
    "start_time": "2024-06-05T15:03:49.464Z"
   },
   {
    "duration": 218,
    "start_time": "2024-06-05T15:05:41.819Z"
   },
   {
    "duration": 13,
    "start_time": "2024-06-05T15:05:52.678Z"
   },
   {
    "duration": 143,
    "start_time": "2024-06-05T15:06:05.676Z"
   },
   {
    "duration": 246,
    "start_time": "2024-06-05T15:09:01.654Z"
   },
   {
    "duration": 175,
    "start_time": "2024-06-05T15:09:13.744Z"
   },
   {
    "duration": 137,
    "start_time": "2024-06-05T15:09:20.112Z"
   },
   {
    "duration": 173,
    "start_time": "2024-06-05T15:09:33.857Z"
   },
   {
    "duration": 137,
    "start_time": "2024-06-05T15:15:38.998Z"
   },
   {
    "duration": 138,
    "start_time": "2024-06-05T15:15:59.775Z"
   },
   {
    "duration": 143,
    "start_time": "2024-06-05T15:16:42.581Z"
   },
   {
    "duration": 67,
    "start_time": "2024-06-05T15:17:52.001Z"
   },
   {
    "duration": 82,
    "start_time": "2024-06-05T15:17:58.688Z"
   },
   {
    "duration": 155,
    "start_time": "2024-06-05T15:18:02.169Z"
   },
   {
    "duration": 168,
    "start_time": "2024-06-05T15:18:19.245Z"
   },
   {
    "duration": 150,
    "start_time": "2024-06-05T15:18:35.412Z"
   },
   {
    "duration": 129,
    "start_time": "2024-06-05T15:18:55.464Z"
   },
   {
    "duration": 259,
    "start_time": "2024-06-05T15:19:17.181Z"
   },
   {
    "duration": 154,
    "start_time": "2024-06-05T15:19:36.122Z"
   },
   {
    "duration": 149,
    "start_time": "2024-06-05T15:19:49.597Z"
   },
   {
    "duration": 188,
    "start_time": "2024-06-05T15:20:07.005Z"
   },
   {
    "duration": 154,
    "start_time": "2024-06-05T15:20:14.279Z"
   },
   {
    "duration": 997,
    "start_time": "2024-06-05T15:20:28.840Z"
   },
   {
    "duration": 1419,
    "start_time": "2024-06-05T15:20:46.824Z"
   },
   {
    "duration": 1067,
    "start_time": "2024-06-05T15:20:50.910Z"
   },
   {
    "duration": 783,
    "start_time": "2024-06-05T15:21:01.782Z"
   },
   {
    "duration": 122,
    "start_time": "2024-06-05T15:21:02.568Z"
   },
   {
    "duration": 48,
    "start_time": "2024-06-05T15:21:02.696Z"
   },
   {
    "duration": 2259,
    "start_time": "2024-06-05T15:21:02.747Z"
   },
   {
    "duration": 20,
    "start_time": "2024-06-05T15:21:05.008Z"
   },
   {
    "duration": 13,
    "start_time": "2024-06-05T15:21:05.030Z"
   },
   {
    "duration": 37,
    "start_time": "2024-06-05T15:21:05.045Z"
   },
   {
    "duration": 17,
    "start_time": "2024-06-05T15:21:05.084Z"
   },
   {
    "duration": 16,
    "start_time": "2024-06-05T15:21:05.103Z"
   },
   {
    "duration": 24,
    "start_time": "2024-06-05T15:21:05.122Z"
   },
   {
    "duration": 29,
    "start_time": "2024-06-05T15:21:05.148Z"
   },
   {
    "duration": 31,
    "start_time": "2024-06-05T15:21:05.178Z"
   },
   {
    "duration": 80,
    "start_time": "2024-06-05T15:21:05.210Z"
   },
   {
    "duration": 157,
    "start_time": "2024-06-05T15:21:05.292Z"
   },
   {
    "duration": 403,
    "start_time": "2024-06-05T15:21:05.451Z"
   },
   {
    "duration": 173,
    "start_time": "2024-06-05T15:21:05.860Z"
   },
   {
    "duration": 10,
    "start_time": "2024-06-05T15:21:06.034Z"
   },
   {
    "duration": 163,
    "start_time": "2024-06-05T15:21:06.046Z"
   },
   {
    "duration": 175,
    "start_time": "2024-06-05T15:21:06.211Z"
   },
   {
    "duration": 224,
    "start_time": "2024-06-05T15:21:06.388Z"
   },
   {
    "duration": 144,
    "start_time": "2024-06-05T15:21:06.613Z"
   },
   {
    "duration": 179,
    "start_time": "2024-06-05T15:21:06.760Z"
   },
   {
    "duration": 165,
    "start_time": "2024-06-05T15:21:06.940Z"
   },
   {
    "duration": 34,
    "start_time": "2024-06-05T15:21:07.107Z"
   },
   {
    "duration": 165,
    "start_time": "2024-06-05T15:21:07.143Z"
   },
   {
    "duration": 171,
    "start_time": "2024-06-05T15:21:07.310Z"
   },
   {
    "duration": 176,
    "start_time": "2024-06-05T15:21:07.483Z"
   },
   {
    "duration": 175,
    "start_time": "2024-06-05T15:21:07.662Z"
   },
   {
    "duration": 198,
    "start_time": "2024-06-05T15:21:07.839Z"
   },
   {
    "duration": 295,
    "start_time": "2024-06-05T15:21:08.042Z"
   },
   {
    "duration": 162,
    "start_time": "2024-06-05T15:21:08.339Z"
   },
   {
    "duration": 219,
    "start_time": "2024-06-05T15:21:08.503Z"
   },
   {
    "duration": 163,
    "start_time": "2024-06-05T15:21:08.723Z"
   },
   {
    "duration": 6,
    "start_time": "2024-06-05T15:21:08.888Z"
   },
   {
    "duration": 160,
    "start_time": "2024-06-05T15:21:08.895Z"
   },
   {
    "duration": 153,
    "start_time": "2024-06-05T15:21:09.057Z"
   },
   {
    "duration": 38,
    "start_time": "2024-06-05T15:21:09.212Z"
   },
   {
    "duration": 32,
    "start_time": "2024-06-05T15:21:09.252Z"
   },
   {
    "duration": 40,
    "start_time": "2024-06-05T15:21:09.286Z"
   },
   {
    "duration": 51,
    "start_time": "2024-06-05T15:21:09.327Z"
   },
   {
    "duration": 39,
    "start_time": "2024-06-05T15:21:09.380Z"
   },
   {
    "duration": 17,
    "start_time": "2024-06-05T15:21:09.421Z"
   },
   {
    "duration": 42,
    "start_time": "2024-06-05T15:21:09.440Z"
   },
   {
    "duration": 18,
    "start_time": "2024-06-05T15:21:09.483Z"
   },
   {
    "duration": 14,
    "start_time": "2024-06-05T15:21:09.502Z"
   },
   {
    "duration": 53,
    "start_time": "2024-06-05T15:21:09.518Z"
   },
   {
    "duration": 23,
    "start_time": "2024-06-05T15:21:09.574Z"
   },
   {
    "duration": 219,
    "start_time": "2024-06-05T15:21:09.598Z"
   },
   {
    "duration": 190,
    "start_time": "2024-06-05T15:21:33.933Z"
   },
   {
    "duration": 160,
    "start_time": "2024-06-05T15:21:45.082Z"
   },
   {
    "duration": 154,
    "start_time": "2024-06-05T15:21:59.131Z"
   },
   {
    "duration": 153,
    "start_time": "2024-06-05T15:22:10.202Z"
   },
   {
    "duration": 145,
    "start_time": "2024-06-05T15:22:25.083Z"
   },
   {
    "duration": 177,
    "start_time": "2024-06-05T15:22:31.420Z"
   },
   {
    "duration": 246,
    "start_time": "2024-06-05T15:22:44.643Z"
   },
   {
    "duration": 191,
    "start_time": "2024-06-05T15:22:53.330Z"
   },
   {
    "duration": 186,
    "start_time": "2024-06-05T15:23:10.345Z"
   },
   {
    "duration": 161,
    "start_time": "2024-06-05T15:23:40.087Z"
   },
   {
    "duration": 147,
    "start_time": "2024-06-05T15:23:46.721Z"
   },
   {
    "duration": 185,
    "start_time": "2024-06-05T15:23:54.135Z"
   },
   {
    "duration": 151,
    "start_time": "2024-06-05T15:24:01.365Z"
   },
   {
    "duration": 183,
    "start_time": "2024-06-05T15:24:14.298Z"
   },
   {
    "duration": 146,
    "start_time": "2024-06-05T15:24:22.298Z"
   },
   {
    "duration": 136,
    "start_time": "2024-06-05T15:25:00.236Z"
   },
   {
    "duration": 181,
    "start_time": "2024-06-05T15:26:16.349Z"
   },
   {
    "duration": 760,
    "start_time": "2024-06-05T15:26:40.745Z"
   },
   {
    "duration": 114,
    "start_time": "2024-06-05T15:26:41.506Z"
   },
   {
    "duration": 54,
    "start_time": "2024-06-05T15:26:41.621Z"
   },
   {
    "duration": 2157,
    "start_time": "2024-06-05T15:26:41.677Z"
   },
   {
    "duration": 14,
    "start_time": "2024-06-05T15:26:43.836Z"
   },
   {
    "duration": 37,
    "start_time": "2024-06-05T15:26:43.852Z"
   },
   {
    "duration": 12,
    "start_time": "2024-06-05T15:26:43.890Z"
   },
   {
    "duration": 28,
    "start_time": "2024-06-05T15:26:43.904Z"
   },
   {
    "duration": 13,
    "start_time": "2024-06-05T15:26:43.934Z"
   },
   {
    "duration": 16,
    "start_time": "2024-06-05T15:26:43.950Z"
   },
   {
    "duration": 17,
    "start_time": "2024-06-05T15:26:43.968Z"
   },
   {
    "duration": 33,
    "start_time": "2024-06-05T15:26:43.987Z"
   },
   {
    "duration": 56,
    "start_time": "2024-06-05T15:26:44.022Z"
   },
   {
    "duration": 185,
    "start_time": "2024-06-05T15:26:44.080Z"
   },
   {
    "duration": 368,
    "start_time": "2024-06-05T15:26:44.267Z"
   },
   {
    "duration": 159,
    "start_time": "2024-06-05T15:26:44.637Z"
   },
   {
    "duration": 9,
    "start_time": "2024-06-05T15:26:44.797Z"
   },
   {
    "duration": 159,
    "start_time": "2024-06-05T15:26:44.808Z"
   },
   {
    "duration": 149,
    "start_time": "2024-06-05T15:26:44.969Z"
   },
   {
    "duration": 260,
    "start_time": "2024-06-05T15:26:45.120Z"
   },
   {
    "duration": 142,
    "start_time": "2024-06-05T15:26:45.383Z"
   },
   {
    "duration": 172,
    "start_time": "2024-06-05T15:26:45.527Z"
   },
   {
    "duration": 151,
    "start_time": "2024-06-05T15:26:45.701Z"
   },
   {
    "duration": 35,
    "start_time": "2024-06-05T15:26:45.860Z"
   },
   {
    "duration": 167,
    "start_time": "2024-06-05T15:26:45.897Z"
   },
   {
    "duration": 173,
    "start_time": "2024-06-05T15:26:46.066Z"
   },
   {
    "duration": 187,
    "start_time": "2024-06-05T15:26:46.241Z"
   },
   {
    "duration": 200,
    "start_time": "2024-06-05T15:26:46.432Z"
   },
   {
    "duration": 189,
    "start_time": "2024-06-05T15:26:46.644Z"
   },
   {
    "duration": 290,
    "start_time": "2024-06-05T15:26:46.835Z"
   },
   {
    "duration": 193,
    "start_time": "2024-06-05T15:26:47.126Z"
   },
   {
    "duration": 232,
    "start_time": "2024-06-05T15:26:47.320Z"
   },
   {
    "duration": 184,
    "start_time": "2024-06-05T15:26:47.553Z"
   },
   {
    "duration": 6,
    "start_time": "2024-06-05T15:26:47.739Z"
   },
   {
    "duration": 176,
    "start_time": "2024-06-05T15:26:47.761Z"
   },
   {
    "duration": 152,
    "start_time": "2024-06-05T15:26:47.939Z"
   },
   {
    "duration": 36,
    "start_time": "2024-06-05T15:26:48.093Z"
   },
   {
    "duration": 47,
    "start_time": "2024-06-05T15:26:48.130Z"
   },
   {
    "duration": 36,
    "start_time": "2024-06-05T15:26:48.179Z"
   },
   {
    "duration": 16,
    "start_time": "2024-06-05T15:26:48.217Z"
   },
   {
    "duration": 59,
    "start_time": "2024-06-05T15:26:48.235Z"
   },
   {
    "duration": 16,
    "start_time": "2024-06-05T15:26:48.295Z"
   },
   {
    "duration": 15,
    "start_time": "2024-06-05T15:26:48.313Z"
   },
   {
    "duration": 47,
    "start_time": "2024-06-05T15:26:48.330Z"
   },
   {
    "duration": 15,
    "start_time": "2024-06-05T15:26:48.379Z"
   },
   {
    "duration": 23,
    "start_time": "2024-06-05T15:26:48.396Z"
   },
   {
    "duration": 55,
    "start_time": "2024-06-05T15:26:48.420Z"
   },
   {
    "duration": 205,
    "start_time": "2024-06-05T15:26:48.477Z"
   },
   {
    "duration": 167,
    "start_time": "2024-06-05T15:29:15.318Z"
   },
   {
    "duration": 321,
    "start_time": "2024-06-05T15:30:00.677Z"
   },
   {
    "duration": 3523,
    "start_time": "2024-06-06T09:11:22.028Z"
   },
   {
    "duration": 1480,
    "start_time": "2024-06-06T09:11:38.764Z"
   }
  ],
  "colab": {
   "provenance": []
  },
  "kernelspec": {
   "display_name": "Python 3 (ipykernel)",
   "language": "python",
   "name": "python3"
  },
  "language_info": {
   "codemirror_mode": {
    "name": "ipython",
    "version": 3
   },
   "file_extension": ".py",
   "mimetype": "text/x-python",
   "name": "python",
   "nbconvert_exporter": "python",
   "pygments_lexer": "ipython3",
   "version": "3.11.7"
  },
  "toc": {
   "base_numbering": 1,
   "nav_menu": {},
   "number_sections": true,
   "sideBar": true,
   "skip_h1_title": true,
   "title_cell": "Table of Contents",
   "title_sidebar": "Contents",
   "toc_cell": false,
   "toc_position": {},
   "toc_section_display": true,
   "toc_window_display": false
  }
 },
 "nbformat": 4,
 "nbformat_minor": 4
}
